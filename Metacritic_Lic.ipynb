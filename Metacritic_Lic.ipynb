{
 "cells": [
  {
   "cell_type": "code",
   "execution_count": 1,
   "metadata": {
    "datalore": {
     "hide_input_from_viewers": false,
     "hide_output_from_viewers": false,
     "node_id": "GGAvQWSeVw6RgWaKOldOnY",
     "type": "CODE"
    }
   },
   "outputs": [],
   "source": [
    "# Utility cell\n",
    "\n",
    "import re\n",
    "# Utility: trim_content\n",
    "\n",
    "def trim_content(content: str) -> str:\n",
    "    removed_spaces = re.sub(\"\\s\\s+\" , \" \", content)\n",
    "    removed_new_lines = re.sub(\"\\n\" , \"\", removed_spaces)\n",
    "    return removed_new_lines\n",
    "\n",
    "# Utility: list_filter\n",
    "\n",
    "def list_filter(list_obj, callback):\n",
    "    new_list = list()\n",
    "\n",
    "    for value in list_obj:\n",
    "        if callback(value):\n",
    "            new_list.append(value)\n",
    "\n",
    "    return new_list\n"
   ]
  },
  {
   "cell_type": "code",
   "execution_count": 2,
   "metadata": {
    "datalore": {
     "hide_input_from_viewers": false,
     "hide_output_from_viewers": false,
     "node_id": "eEaJ7S7uVbnA8Nuec7omJd",
     "type": "CODE"
    }
   },
   "outputs": [],
   "source": [
    "# Metacritic Data cell\n",
    "\n",
    "from bs4 import BeautifulSoup\n",
    "import requests\n",
    "\n",
    "\n",
    "class MetacriticData:\n",
    "    def __init__(self):\n",
    "        self.DEFAULT_RESPONSE = 'Unknown'\n",
    "        self.DEFAULT_RESPONSE_FLOAT = float(-1)\n",
    "        self.search_url = \"https://www.metacritic.com/autosearch\"\n",
    "        self.search_headers = {\n",
    "            'authority': 'www.metacritic.com',\n",
    "            'accept': '*/*',\n",
    "            'x-requested-with': 'XMLHttpRequest',\n",
    "            'user-agent': 'Mozilla/5.0 (Macintosh; Intel Mac OS X 10_15_7) AppleWebKit/537.36 (KHTML, like Gecko) '\n",
    "                        'Chrome/95.0.4638.54 Safari/537.36',\n",
    "            'content-type': 'application/x-www-form-urlencoded; charset=UTF-8',\n",
    "            'sec-gpc': '1',\n",
    "            'origin': 'https://www.metacritic.com',\n",
    "            'sec-fetch-site': 'same-origin',\n",
    "            'sec-fetch-mode': 'cors',\n",
    "            'sec-fetch-dest': 'empty',\n",
    "            'referer': 'https://www.metacritic.com/game/playstation-4/grand-theft-auto-v',\n",
    "            'accept-language': 'en-GB,en-US;q=0.9,en;q=0.8',\n",
    "            'cookie': 'mc_s_s=d_2; OptanonAlertBoxClosed=2021-10-31T12:22:29.841Z; '\n",
    "                    'ctk=NjE3ZThhOTEwMjAwMDAwMGRmN2Q3M2I4NmRiMg%3D%3D; omniEvents[pageFindingMethod]=Internal:Search; '\n",
    "                    '_BB.bs=a|3; metapv=3; _BB.d=0|||2; '\n",
    "                    'OptanonConsent=isIABGlobal=false&datestamp=Sun+Oct+31+2021+13%3A23%3A10+GMT%2B0100+('\n",
    "                    'Central+European+Standard+Time)&version=6.20.0&hosts=&consentId=316c06a0-7ce1-4feb-8905-2c9cfeec47a2'\n",
    "                    '&interactionCount=1&landingPath=NotLandingPage&groups=C0001%3A1%2CC0002%3A1%2CC0003%3A1%2CC0004%3A1'\n",
    "                    '&geolocation=PL%3B24&AwaitingReconsent=false '\n",
    "        }\n",
    "        self.web_scrapping_headers = {\n",
    "            'authority': 'www.metacritic.com',\n",
    "            'cache-control': 'max-age=0',\n",
    "            'upgrade-insecure-requests': '1',\n",
    "            'user-agent': 'Mozilla/5.0 (Macintosh; Intel Mac OS X 10_15_7) AppleWebKit/537.36 (KHTML, like Gecko) '\n",
    "                        'Chrome/95.0.4638.54 Safari/537.36',\n",
    "            'accept': 'text/html,application/xhtml+xml,application/xml;q=0.9,image/avif,image/webp,image/apng,*/*;q=0.8,'\n",
    "                    'application/signed-exchange;v=b3;q=0.9',\n",
    "            'sec-gpc': '1',\n",
    "            'sec-fetch-site': 'same-origin',\n",
    "            'sec-fetch-mode': 'navigate',\n",
    "            'sec-fetch-user': '?1',\n",
    "            'sec-fetch-dest': 'document',\n",
    "            'referer': 'https://www.metacritic.com/game/playstation-4/grand-theft-auto-v',\n",
    "            'accept-language': 'en-GB,en-US;q=0.9,en;q=0.8',\n",
    "            'cookie': 'mc_s_s=d_2; OptanonAlertBoxClosed=2021-10-31T12:22:29.841Z; '\n",
    "                    'ctk=NjE3ZThhOTEwMjAwMDAwMGRmN2Q3M2I4NmRiMg%3D%3D; _BB.bs=a|3; metapv=11; _BB.d=0|||10; '\n",
    "                    'OptanonConsent=isIABGlobal=false&datestamp=Sun+Oct+31+2021+16%3A12%3A56+GMT%2B0100+('\n",
    "                    'Central+European+Standard+Time)&version=6.20.0&hosts=&consentId=316c06a0-7ce1-4feb-8905-2c9cfeec47a2'\n",
    "                    '&interactionCount=1&landingPath=NotLandingPage&groups=C0001%3A1%2CC0002%3A1%2CC0003%3A1%2CC0004%3A1'\n",
    "                    '&geolocation=PL%3B24&AwaitingReconsent=false '\n",
    "        }\n",
    "\n",
    "    def _select_content(self, web_content: str) -> str:\n",
    "        if len(web_content) > 0:\n",
    "            return web_content[0].text\n",
    "        else:\n",
    "            return self.DEFAULT_RESPONSE\n",
    "        \n",
    "    def _select_content_as_number(self, web_content: str, default_value: int = int(-1)) -> int:\n",
    "        if len(web_content) > 0:\n",
    "            try:\n",
    "                return int(web_content[0].text)\n",
    "            except: \n",
    "                return default_value\n",
    "        \n",
    "        else:\n",
    "            return default_value\n",
    "        \n",
    "    def _select_reliability(self, ups: str, thumbs: str) -> float:\n",
    "        try:\n",
    "            reliability = int(ups) / int(thumbs)\n",
    "    \n",
    "            return reliability\n",
    "        except:\n",
    "            return self.DEFAULT_RESPONSE_FLOAT\n",
    "        \n",
    "    def search(self, title: str, platform: str = \"PC Game\") -> str:\n",
    "        payload = \"search_term=\" + title + \"&image_size=98&search_each=true\"\n",
    "        response = requests.request(\"POST\", self.search_url, headers=self.search_headers, data=payload)\n",
    "        results = response.json()['autoComplete']['results']\n",
    "        selected_platform_results = list_filter(results, lambda elem: elem['refType'] == platform)\n",
    "        exact_title_selected_platform_results = list_filter(selected_platform_results, lambda elem: elem['name'] == title)\n",
    "\n",
    "        if len(exact_title_selected_platform_results) <= 0:\n",
    "            raise ValueError('The title \\'' + title + '\\' on platform \\'' + platform + '\\' was not found.')\n",
    "\n",
    "        return exact_title_selected_platform_results[0]\n",
    "    \n",
    "    def web_scrapping(self, base_url: str, endpoint: str, pages_enabled: bool = False) -> list:\n",
    "        if pages_enabled:\n",
    "            have_content = True\n",
    "            page_index = 0\n",
    "            response = list()\n",
    "        \n",
    "            while have_content:\n",
    "                url = base_url + endpoint + '?page=' + str(page_index)\n",
    "                request = requests.request(\"GET\", url, headers=self.web_scrapping_headers)\n",
    "                request_text = request.text\n",
    "\n",
    "                if request.status_code != 200:\n",
    "                    raise ValueError('Cannot fetch reviews for \\'' + url + '\\'.')\n",
    "\n",
    "                if page_index > 50:\n",
    "                    raise ValueError('Probably fetched too many pages for \\'' + url + '\\'.')\n",
    "\n",
    "                if 'There are no user reviews yet -' in request_text:\n",
    "                    have_content = False\n",
    "                else:\n",
    "                    response.append(request_text)\n",
    "\n",
    "                page_index += 1\n",
    "            \n",
    "            return response\n",
    "\n",
    "        else:\n",
    "            url = base_url + endpoint\n",
    "            request = requests.request(\"GET\", url, headers=self.web_scrapping_headers)\n",
    "\n",
    "            if request.status_code != 200:\n",
    "                raise ValueError('Cannot fetch reviews for \\'' + url + '\\'.')\n",
    "\n",
    "            return [request.text]\n",
    "        \n",
    "\n",
    "    def find_reviews(self, web_contents: list, expert: bool = False) -> list:\n",
    "        response = list()\n",
    "\n",
    "        for web_content in web_contents:\n",
    "            soup = BeautifulSoup(web_content, 'html.parser')\n",
    "            main_content = soup.findAll('div', attrs={\"id\": \"main\"})[0]\n",
    "            soup_main = BeautifulSoup(str(main_content), 'html.parser')\n",
    "            reviews_elements = soup_main.findAll('li', attrs={\"class\": \"review\"})\n",
    "\n",
    "            for review in reviews_elements:\n",
    "                soup_child = BeautifulSoup(str(review), 'html.parser')\n",
    "                review_score = self._select_content(soup_child.findAll('div', attrs={\"class\": \"metascore_w\"}))\n",
    "                review_content = self._select_content(soup_child.findAll('div', attrs={\"class\": \"review_body\"}))\n",
    "                review_source = self._select_content(soup_child.findAll('div', attrs={\"class\": \"source\"}))\n",
    "                review_name = self._select_content(soup_child.findAll('div', attrs={\"class\": \"name\"}))\n",
    "                review_date = self._select_content(soup_child.findAll('div', attrs={\"class\": \"date\"}))\n",
    "                review_ups = self._select_content_as_number(soup_child.findAll('span', attrs={\"class\": \"total_ups\"}), int(0))\n",
    "                review_thumbs = self._select_content_as_number(soup_child.findAll('span', attrs={\"class\": \"total_thumbs\"}), int(0))\n",
    "                review_reliabilty = self._select_reliability(review_ups, review_thumbs)\n",
    "\n",
    "                if expert:\n",
    "                    response.append({\n",
    "                        'name': trim_content(review_source), \n",
    "                        'date': trim_content(review_date),\n",
    "                        'score': trim_content(review_score), \n",
    "                        'content': trim_content(review_content), \n",
    "                    })\n",
    "                else:\n",
    "                    response.append({\n",
    "                        'name': trim_content(review_name), \n",
    "                        'date': trim_content(review_date),\n",
    "                        'score': trim_content(review_score), \n",
    "                        'content': trim_content(review_content), \n",
    "                        'ups': review_ups, \n",
    "                        'thumbs': review_thumbs, \n",
    "                        'reliability': review_reliabilty\n",
    "                    })\n",
    "\n",
    "        return response\n",
    "\n",
    "    def get_reviews(self, title: str, platform: str = 'PC Game') -> list:\n",
    "        results = self.search(title, platform)\n",
    "\n",
    "        scrapped_critic_review = self.web_scrapping(results['url'], '/critic-reviews', False)\n",
    "        scrapped_user_review = self.web_scrapping(results['url'], '/user-reviews', True)\n",
    "\n",
    "        critic_reviews = pd.DataFrame(self.find_reviews(scrapped_critic_review, True))\n",
    "        user_reviews = pd.DataFrame(self.find_reviews(scrapped_user_review))\n",
    "\n",
    "        return [critic_reviews, user_reviews]"
   ]
  },
  {
   "cell_type": "code",
   "execution_count": 4,
   "metadata": {
    "datalore": {
     "hide_input_from_viewers": false,
     "hide_output_from_viewers": false,
     "node_id": "AqQ6e2HHghzQtu0owHCcxa",
     "type": "CODE"
    }
   },
   "outputs": [],
   "source": [
    "#Opinie ekspertów\n",
    "#MetacriticData().get_reviews('The Sims 4', 'PC Game')[0]"
   ]
  },
  {
   "cell_type": "code",
   "execution_count": 5,
   "metadata": {
    "datalore": {
     "hide_input_from_viewers": false,
     "hide_output_from_viewers": false,
     "node_id": "iSFgPtDqJih9V3xI8AeWDS",
     "type": "CODE"
    }
   },
   "outputs": [
    {
     "name": "stdout",
     "output_type": "stream",
     "text": [
      "Eee?\n"
     ]
    },
    {
     "data": {
      "text/plain": "                name          date score  \\\n0      SparkeyMark86  Nov 17, 2020     9   \n1          Jleffel22  Nov 14, 2020     9   \n2    felipenavarro92  Dec 10, 2020    10   \n3           Drawnimo  Nov 16, 2020    10   \n4            amarosa  Nov 20, 2020    10   \n..               ...           ...   ...   \n134     Cookie_Punki   Jan 3, 2022     8   \n135        jaimesafe  Oct 29, 2021     9   \n136    THEENDACCOUNT  Jan 29, 2022    10   \n137        penmumble  Feb 15, 2022    10   \n138         Med_Ryan  Feb 19, 2022    10   \n\n                                               content  ups  thumbs  \\\n0    The most fun PlayStation platformer I played s...    2       2   \n1    Such a fun cute game! I love all these unique ...    2       2   \n2    Pensei que seria um jogo generico, mas a cada ...    1       1   \n3    Sackboy: A Big Adventure is a whimsically fant...    1       1   \n4    Mundo mágico top PlayStation 5 arrasou!!!Diver...    1       1   \n..                                                 ...  ...     ...   \n134  Sackboy: A Big Adventure es el juego de la sag...    0       0   \n135  Divertido, variadas y originales mecánicas, di...    0       0   \n136  GOODGOODGOODGOODGOODGOODGOODGOODgoodgoodgoodgo...    0       0   \n137  I cannot express how much I adore this game. A...    0       0   \n138  Masterpiece\\rFrom Well Written Story to the en...    0       0   \n\n     reliability  \n0            1.0  \n1            1.0  \n2            1.0  \n3            1.0  \n4            1.0  \n..           ...  \n134         -1.0  \n135         -1.0  \n136         -1.0  \n137         -1.0  \n138         -1.0  \n\n[139 rows x 7 columns]",
      "text/html": "<div>\n<style scoped>\n    .dataframe tbody tr th:only-of-type {\n        vertical-align: middle;\n    }\n\n    .dataframe tbody tr th {\n        vertical-align: top;\n    }\n\n    .dataframe thead th {\n        text-align: right;\n    }\n</style>\n<table border=\"1\" class=\"dataframe\">\n  <thead>\n    <tr style=\"text-align: right;\">\n      <th></th>\n      <th>name</th>\n      <th>date</th>\n      <th>score</th>\n      <th>content</th>\n      <th>ups</th>\n      <th>thumbs</th>\n      <th>reliability</th>\n    </tr>\n  </thead>\n  <tbody>\n    <tr>\n      <th>0</th>\n      <td>SparkeyMark86</td>\n      <td>Nov 17, 2020</td>\n      <td>9</td>\n      <td>The most fun PlayStation platformer I played s...</td>\n      <td>2</td>\n      <td>2</td>\n      <td>1.0</td>\n    </tr>\n    <tr>\n      <th>1</th>\n      <td>Jleffel22</td>\n      <td>Nov 14, 2020</td>\n      <td>9</td>\n      <td>Such a fun cute game! I love all these unique ...</td>\n      <td>2</td>\n      <td>2</td>\n      <td>1.0</td>\n    </tr>\n    <tr>\n      <th>2</th>\n      <td>felipenavarro92</td>\n      <td>Dec 10, 2020</td>\n      <td>10</td>\n      <td>Pensei que seria um jogo generico, mas a cada ...</td>\n      <td>1</td>\n      <td>1</td>\n      <td>1.0</td>\n    </tr>\n    <tr>\n      <th>3</th>\n      <td>Drawnimo</td>\n      <td>Nov 16, 2020</td>\n      <td>10</td>\n      <td>Sackboy: A Big Adventure is a whimsically fant...</td>\n      <td>1</td>\n      <td>1</td>\n      <td>1.0</td>\n    </tr>\n    <tr>\n      <th>4</th>\n      <td>amarosa</td>\n      <td>Nov 20, 2020</td>\n      <td>10</td>\n      <td>Mundo mágico top PlayStation 5 arrasou!!!Diver...</td>\n      <td>1</td>\n      <td>1</td>\n      <td>1.0</td>\n    </tr>\n    <tr>\n      <th>...</th>\n      <td>...</td>\n      <td>...</td>\n      <td>...</td>\n      <td>...</td>\n      <td>...</td>\n      <td>...</td>\n      <td>...</td>\n    </tr>\n    <tr>\n      <th>134</th>\n      <td>Cookie_Punki</td>\n      <td>Jan 3, 2022</td>\n      <td>8</td>\n      <td>Sackboy: A Big Adventure es el juego de la sag...</td>\n      <td>0</td>\n      <td>0</td>\n      <td>-1.0</td>\n    </tr>\n    <tr>\n      <th>135</th>\n      <td>jaimesafe</td>\n      <td>Oct 29, 2021</td>\n      <td>9</td>\n      <td>Divertido, variadas y originales mecánicas, di...</td>\n      <td>0</td>\n      <td>0</td>\n      <td>-1.0</td>\n    </tr>\n    <tr>\n      <th>136</th>\n      <td>THEENDACCOUNT</td>\n      <td>Jan 29, 2022</td>\n      <td>10</td>\n      <td>GOODGOODGOODGOODGOODGOODGOODGOODgoodgoodgoodgo...</td>\n      <td>0</td>\n      <td>0</td>\n      <td>-1.0</td>\n    </tr>\n    <tr>\n      <th>137</th>\n      <td>penmumble</td>\n      <td>Feb 15, 2022</td>\n      <td>10</td>\n      <td>I cannot express how much I adore this game. A...</td>\n      <td>0</td>\n      <td>0</td>\n      <td>-1.0</td>\n    </tr>\n    <tr>\n      <th>138</th>\n      <td>Med_Ryan</td>\n      <td>Feb 19, 2022</td>\n      <td>10</td>\n      <td>Masterpiece\\rFrom Well Written Story to the en...</td>\n      <td>0</td>\n      <td>0</td>\n      <td>-1.0</td>\n    </tr>\n  </tbody>\n</table>\n<p>139 rows × 7 columns</p>\n</div>"
     },
     "execution_count": 5,
     "metadata": {},
     "output_type": "execute_result"
    }
   ],
   "source": [
    "import pandas as pd\n",
    "#Opinie userów\n",
    "df = MetacriticData().get_reviews('Sackboy: A Big Adventure', 'PS5 Game')[1]\n",
    "\n",
    "print(\"Eee?\");\n",
    "\n",
    "df\n"
   ]
  },
  {
   "cell_type": "code",
   "execution_count": 7,
   "metadata": {
    "datalore": {
     "hide_input_from_viewers": false,
     "hide_output_from_viewers": false,
     "node_id": "dfVfKpS0OHOjUzYVnRhG5E",
     "type": "CODE"
    }
   },
   "outputs": [
    {
     "data": {
      "text/plain": "                name          date score  \\\n0      SparkeyMark86  Nov 17, 2020     9   \n1          Jleffel22  Nov 14, 2020     9   \n2    felipenavarro92  Dec 10, 2020    10   \n3           Drawnimo  Nov 16, 2020    10   \n4            amarosa  Nov 20, 2020    10   \n..               ...           ...   ...   \n134     Cookie_Punki   Jan 3, 2022     8   \n135        jaimesafe  Oct 29, 2021     9   \n136    THEENDACCOUNT  Jan 29, 2022    10   \n137        penmumble  Feb 15, 2022    10   \n138         Med_Ryan  Feb 19, 2022    10   \n\n                                               content  ups  thumbs  \\\n0    The most fun PlayStation platformer I played s...    2       2   \n1    Such a fun cute game! I love all these unique ...    2       2   \n2    Pensei que seria um jogo generico, mas a cada ...    1       1   \n3    Sackboy: A Big Adventure is a whimsically fant...    1       1   \n4    Mundo mágico top PlayStation 5 arrasou!!!Diver...    1       1   \n..                                                 ...  ...     ...   \n134  Sackboy: A Big Adventure es el juego de la sag...    0       0   \n135  Divertido, variadas y originales mecánicas, di...    0       0   \n136  GOODGOODGOODGOODGOODGOODGOODGOODgoodgoodgoodgo...    0       0   \n137  I cannot express how much I adore this game. A...    0       0   \n138  Masterpiece\\rFrom Well Written Story to the en...    0       0   \n\n     reliability Language  \n0            1.0       en  \n1            1.0       en  \n2            1.0       pt  \n3            1.0       en  \n4            1.0       pt  \n..           ...      ...  \n134         -1.0       es  \n135         -1.0       es  \n136         -1.0       so  \n137         -1.0       en  \n138         -1.0       en  \n\n[139 rows x 8 columns]",
      "text/html": "<div>\n<style scoped>\n    .dataframe tbody tr th:only-of-type {\n        vertical-align: middle;\n    }\n\n    .dataframe tbody tr th {\n        vertical-align: top;\n    }\n\n    .dataframe thead th {\n        text-align: right;\n    }\n</style>\n<table border=\"1\" class=\"dataframe\">\n  <thead>\n    <tr style=\"text-align: right;\">\n      <th></th>\n      <th>name</th>\n      <th>date</th>\n      <th>score</th>\n      <th>content</th>\n      <th>ups</th>\n      <th>thumbs</th>\n      <th>reliability</th>\n      <th>Language</th>\n    </tr>\n  </thead>\n  <tbody>\n    <tr>\n      <th>0</th>\n      <td>SparkeyMark86</td>\n      <td>Nov 17, 2020</td>\n      <td>9</td>\n      <td>The most fun PlayStation platformer I played s...</td>\n      <td>2</td>\n      <td>2</td>\n      <td>1.0</td>\n      <td>en</td>\n    </tr>\n    <tr>\n      <th>1</th>\n      <td>Jleffel22</td>\n      <td>Nov 14, 2020</td>\n      <td>9</td>\n      <td>Such a fun cute game! I love all these unique ...</td>\n      <td>2</td>\n      <td>2</td>\n      <td>1.0</td>\n      <td>en</td>\n    </tr>\n    <tr>\n      <th>2</th>\n      <td>felipenavarro92</td>\n      <td>Dec 10, 2020</td>\n      <td>10</td>\n      <td>Pensei que seria um jogo generico, mas a cada ...</td>\n      <td>1</td>\n      <td>1</td>\n      <td>1.0</td>\n      <td>pt</td>\n    </tr>\n    <tr>\n      <th>3</th>\n      <td>Drawnimo</td>\n      <td>Nov 16, 2020</td>\n      <td>10</td>\n      <td>Sackboy: A Big Adventure is a whimsically fant...</td>\n      <td>1</td>\n      <td>1</td>\n      <td>1.0</td>\n      <td>en</td>\n    </tr>\n    <tr>\n      <th>4</th>\n      <td>amarosa</td>\n      <td>Nov 20, 2020</td>\n      <td>10</td>\n      <td>Mundo mágico top PlayStation 5 arrasou!!!Diver...</td>\n      <td>1</td>\n      <td>1</td>\n      <td>1.0</td>\n      <td>pt</td>\n    </tr>\n    <tr>\n      <th>...</th>\n      <td>...</td>\n      <td>...</td>\n      <td>...</td>\n      <td>...</td>\n      <td>...</td>\n      <td>...</td>\n      <td>...</td>\n      <td>...</td>\n    </tr>\n    <tr>\n      <th>134</th>\n      <td>Cookie_Punki</td>\n      <td>Jan 3, 2022</td>\n      <td>8</td>\n      <td>Sackboy: A Big Adventure es el juego de la sag...</td>\n      <td>0</td>\n      <td>0</td>\n      <td>-1.0</td>\n      <td>es</td>\n    </tr>\n    <tr>\n      <th>135</th>\n      <td>jaimesafe</td>\n      <td>Oct 29, 2021</td>\n      <td>9</td>\n      <td>Divertido, variadas y originales mecánicas, di...</td>\n      <td>0</td>\n      <td>0</td>\n      <td>-1.0</td>\n      <td>es</td>\n    </tr>\n    <tr>\n      <th>136</th>\n      <td>THEENDACCOUNT</td>\n      <td>Jan 29, 2022</td>\n      <td>10</td>\n      <td>GOODGOODGOODGOODGOODGOODGOODGOODgoodgoodgoodgo...</td>\n      <td>0</td>\n      <td>0</td>\n      <td>-1.0</td>\n      <td>so</td>\n    </tr>\n    <tr>\n      <th>137</th>\n      <td>penmumble</td>\n      <td>Feb 15, 2022</td>\n      <td>10</td>\n      <td>I cannot express how much I adore this game. A...</td>\n      <td>0</td>\n      <td>0</td>\n      <td>-1.0</td>\n      <td>en</td>\n    </tr>\n    <tr>\n      <th>138</th>\n      <td>Med_Ryan</td>\n      <td>Feb 19, 2022</td>\n      <td>10</td>\n      <td>Masterpiece\\rFrom Well Written Story to the en...</td>\n      <td>0</td>\n      <td>0</td>\n      <td>-1.0</td>\n      <td>en</td>\n    </tr>\n  </tbody>\n</table>\n<p>139 rows × 8 columns</p>\n</div>"
     },
     "execution_count": 7,
     "metadata": {},
     "output_type": "execute_result"
    }
   ],
   "source": [
    "import pandas as pd\n",
    "from langdetect import detect\n",
    "\n",
    "df['Language'] = df['content'].apply(detect)\n",
    "\n",
    "df"
   ]
  },
  {
   "cell_type": "code",
   "execution_count": 8,
   "metadata": {
    "datalore": {
     "hide_input_from_viewers": false,
     "hide_output_from_viewers": false,
     "node_id": "2S92mtzAJ3S6gvfPbKSFLz",
     "type": "CODE"
    }
   },
   "outputs": [
    {
     "data": {
      "text/plain": "               name          date score  \\\n0     SparkeyMark86  Nov 17, 2020     9   \n1         Jleffel22  Nov 14, 2020     9   \n3          Drawnimo  Nov 16, 2020    10   \n6        Tunisaiyan  Nov 14, 2020    10   \n7       Kratos_0611  Nov 14, 2020    10   \n..              ...           ...   ...   \n131  konjakthesober  Oct 11, 2021     8   \n132    VGConsoleAPE  Sep 27, 2021    10   \n133          fadz13  Sep 28, 2021    10   \n137       penmumble  Feb 15, 2022    10   \n138        Med_Ryan  Feb 19, 2022    10   \n\n                                               content  ups  thumbs  \\\n0    The most fun PlayStation platformer I played s...    2       2   \n1    Such a fun cute game! I love all these unique ...    2       2   \n3    Sackboy: A Big Adventure is a whimsically fant...    1       1   \n6    It's so good to play it with your brother. The...    1       1   \n7    This game had low expectations from me but it ...    1       1   \n..                                                 ...  ...     ...   \n131  Fun game to play witch others but no so much a...    0       0   \n132  Jim Ryan came out swinging at PS5's launch whe...    0       0   \n133  Sackboy is LOADS of fun. It's a great single-p...    0       0   \n137  I cannot express how much I adore this game. A...    0       0   \n138  Masterpiece\\rFrom Well Written Story to the en...    0       0   \n\n     reliability Language      desc  \n0            1.0       en  positive  \n1            1.0       en  positive  \n3            1.0       en  positive  \n6            1.0       en  positive  \n7            1.0       en  positive  \n..           ...      ...       ...  \n131         -1.0       en  positive  \n132         -1.0       en  positive  \n133         -1.0       en  positive  \n137         -1.0       en  positive  \n138         -1.0       en  positive  \n\n[111 rows x 9 columns]",
      "text/html": "<div>\n<style scoped>\n    .dataframe tbody tr th:only-of-type {\n        vertical-align: middle;\n    }\n\n    .dataframe tbody tr th {\n        vertical-align: top;\n    }\n\n    .dataframe thead th {\n        text-align: right;\n    }\n</style>\n<table border=\"1\" class=\"dataframe\">\n  <thead>\n    <tr style=\"text-align: right;\">\n      <th></th>\n      <th>name</th>\n      <th>date</th>\n      <th>score</th>\n      <th>content</th>\n      <th>ups</th>\n      <th>thumbs</th>\n      <th>reliability</th>\n      <th>Language</th>\n      <th>desc</th>\n    </tr>\n  </thead>\n  <tbody>\n    <tr>\n      <th>0</th>\n      <td>SparkeyMark86</td>\n      <td>Nov 17, 2020</td>\n      <td>9</td>\n      <td>The most fun PlayStation platformer I played s...</td>\n      <td>2</td>\n      <td>2</td>\n      <td>1.0</td>\n      <td>en</td>\n      <td>positive</td>\n    </tr>\n    <tr>\n      <th>1</th>\n      <td>Jleffel22</td>\n      <td>Nov 14, 2020</td>\n      <td>9</td>\n      <td>Such a fun cute game! I love all these unique ...</td>\n      <td>2</td>\n      <td>2</td>\n      <td>1.0</td>\n      <td>en</td>\n      <td>positive</td>\n    </tr>\n    <tr>\n      <th>3</th>\n      <td>Drawnimo</td>\n      <td>Nov 16, 2020</td>\n      <td>10</td>\n      <td>Sackboy: A Big Adventure is a whimsically fant...</td>\n      <td>1</td>\n      <td>1</td>\n      <td>1.0</td>\n      <td>en</td>\n      <td>positive</td>\n    </tr>\n    <tr>\n      <th>6</th>\n      <td>Tunisaiyan</td>\n      <td>Nov 14, 2020</td>\n      <td>10</td>\n      <td>It's so good to play it with your brother. The...</td>\n      <td>1</td>\n      <td>1</td>\n      <td>1.0</td>\n      <td>en</td>\n      <td>positive</td>\n    </tr>\n    <tr>\n      <th>7</th>\n      <td>Kratos_0611</td>\n      <td>Nov 14, 2020</td>\n      <td>10</td>\n      <td>This game had low expectations from me but it ...</td>\n      <td>1</td>\n      <td>1</td>\n      <td>1.0</td>\n      <td>en</td>\n      <td>positive</td>\n    </tr>\n    <tr>\n      <th>...</th>\n      <td>...</td>\n      <td>...</td>\n      <td>...</td>\n      <td>...</td>\n      <td>...</td>\n      <td>...</td>\n      <td>...</td>\n      <td>...</td>\n      <td>...</td>\n    </tr>\n    <tr>\n      <th>131</th>\n      <td>konjakthesober</td>\n      <td>Oct 11, 2021</td>\n      <td>8</td>\n      <td>Fun game to play witch others but no so much a...</td>\n      <td>0</td>\n      <td>0</td>\n      <td>-1.0</td>\n      <td>en</td>\n      <td>positive</td>\n    </tr>\n    <tr>\n      <th>132</th>\n      <td>VGConsoleAPE</td>\n      <td>Sep 27, 2021</td>\n      <td>10</td>\n      <td>Jim Ryan came out swinging at PS5's launch whe...</td>\n      <td>0</td>\n      <td>0</td>\n      <td>-1.0</td>\n      <td>en</td>\n      <td>positive</td>\n    </tr>\n    <tr>\n      <th>133</th>\n      <td>fadz13</td>\n      <td>Sep 28, 2021</td>\n      <td>10</td>\n      <td>Sackboy is LOADS of fun. It's a great single-p...</td>\n      <td>0</td>\n      <td>0</td>\n      <td>-1.0</td>\n      <td>en</td>\n      <td>positive</td>\n    </tr>\n    <tr>\n      <th>137</th>\n      <td>penmumble</td>\n      <td>Feb 15, 2022</td>\n      <td>10</td>\n      <td>I cannot express how much I adore this game. A...</td>\n      <td>0</td>\n      <td>0</td>\n      <td>-1.0</td>\n      <td>en</td>\n      <td>positive</td>\n    </tr>\n    <tr>\n      <th>138</th>\n      <td>Med_Ryan</td>\n      <td>Feb 19, 2022</td>\n      <td>10</td>\n      <td>Masterpiece\\rFrom Well Written Story to the en...</td>\n      <td>0</td>\n      <td>0</td>\n      <td>-1.0</td>\n      <td>en</td>\n      <td>positive</td>\n    </tr>\n  </tbody>\n</table>\n<p>111 rows × 9 columns</p>\n</div>"
     },
     "execution_count": 8,
     "metadata": {},
     "output_type": "execute_result"
    }
   ],
   "source": [
    "import numpy as np\n",
    "\n",
    "df = df.loc[df['Language'] == \"en\"]\n",
    "df['desc'] = np.where(\n",
    "    df['score'].astype(int) < 4 , \"negative\", np.where(\n",
    "    df['score'].astype(int) > 7, \"positive\", \"neutral\"))\n",
    "\n",
    "\n",
    "df"
   ]
  },
  {
   "cell_type": "code",
   "execution_count": 9,
   "metadata": {
    "datalore": {
     "hide_input_from_viewers": false,
     "hide_output_from_viewers": false,
     "node_id": "tXymsm40DY5LS92BV4lcFQ",
     "type": "CODE"
    }
   },
   "outputs": [
    {
     "ename": "ModuleNotFoundError",
     "evalue": "No module named 'contractions'",
     "output_type": "error",
     "traceback": [
      "\u001B[0;31m---------------------------------------------------------------------------\u001B[0m",
      "\u001B[0;31mModuleNotFoundError\u001B[0m                       Traceback (most recent call last)",
      "Input \u001B[0;32mIn [9]\u001B[0m, in \u001B[0;36m<cell line: 1>\u001B[0;34m()\u001B[0m\n\u001B[0;32m----> 1\u001B[0m \u001B[38;5;28;01mimport\u001B[39;00m \u001B[38;5;21;01mcontractions\u001B[39;00m\n\u001B[1;32m      3\u001B[0m \u001B[38;5;66;03m#to lowercase\u001B[39;00m\n\u001B[1;32m      6\u001B[0m df[\u001B[38;5;124m'\u001B[39m\u001B[38;5;124mtext\u001B[39m\u001B[38;5;124m'\u001B[39m] \u001B[38;5;241m=\u001B[39m df[\u001B[38;5;124m'\u001B[39m\u001B[38;5;124mcontent\u001B[39m\u001B[38;5;124m'\u001B[39m]\u001B[38;5;241m.\u001B[39mapply(\u001B[38;5;28;01mlambda\u001B[39;00m x:x\u001B[38;5;241m.\u001B[39mlower())\n",
      "\u001B[0;31mModuleNotFoundError\u001B[0m: No module named 'contractions'"
     ]
    }
   ],
   "source": [
    "import contractions\n",
    "\n",
    "#to lowercase\n",
    "\n",
    "\n",
    "df['text'] = df['content'].apply(lambda x:x.lower())\n",
    "#hadn't to had not \n",
    "df['text'] = df['text'].apply(lambda x: [contractions.fix(word) for word in x.split()])\n",
    "#back to zusammen word\n",
    "df['text'] = [' '.join(map(str, l)) for l in df[\"text\"]]\n",
    "\n",
    "#remove punctuation like . , \n",
    "df[\"text\"] = df['text'].str.replace('[^\\w\\s]','')\n",
    "#remove numbers\n",
    "df[\"text\"] = df.text.str.replace('\\d+', '')\n",
    "df"
   ]
  },
  {
   "cell_type": "code",
   "execution_count": null,
   "metadata": {
    "datalore": {
     "hide_input_from_viewers": false,
     "hide_output_from_viewers": false,
     "node_id": "Y9QOk2cmC2ki3OboeDhg24",
     "type": "CODE"
    }
   },
   "outputs": [],
   "source": [
    "import nltk\n",
    "nltk.download('stopwords')\n",
    "from nltk.corpus import stopwords\n",
    "from stop_words import get_stop_words\n",
    "stop = stopwords.words('english')\n",
    "stop_words = list(get_stop_words('en')) "
   ]
  },
  {
   "cell_type": "code",
   "execution_count": 10,
   "metadata": {
    "datalore": {
     "hide_input_from_viewers": false,
     "hide_output_from_viewers": false,
     "node_id": "pZ5RhTwcH6KjeVbqfPkxD0",
     "type": "CODE"
    }
   },
   "outputs": [
    {
     "ename": "KeyError",
     "evalue": "'text'",
     "output_type": "error",
     "traceback": [
      "\u001B[0;31m---------------------------------------------------------------------------\u001B[0m",
      "\u001B[0;31mKeyError\u001B[0m                                  Traceback (most recent call last)",
      "File \u001B[0;32m~/Documents/Projekty/Metacritic/venv/lib/python3.9/site-packages/pandas/core/indexes/base.py:3621\u001B[0m, in \u001B[0;36mIndex.get_loc\u001B[0;34m(self, key, method, tolerance)\u001B[0m\n\u001B[1;32m   3620\u001B[0m \u001B[38;5;28;01mtry\u001B[39;00m:\n\u001B[0;32m-> 3621\u001B[0m     \u001B[38;5;28;01mreturn\u001B[39;00m \u001B[38;5;28;43mself\u001B[39;49m\u001B[38;5;241;43m.\u001B[39;49m\u001B[43m_engine\u001B[49m\u001B[38;5;241;43m.\u001B[39;49m\u001B[43mget_loc\u001B[49m\u001B[43m(\u001B[49m\u001B[43mcasted_key\u001B[49m\u001B[43m)\u001B[49m\n\u001B[1;32m   3622\u001B[0m \u001B[38;5;28;01mexcept\u001B[39;00m \u001B[38;5;167;01mKeyError\u001B[39;00m \u001B[38;5;28;01mas\u001B[39;00m err:\n",
      "File \u001B[0;32m~/Documents/Projekty/Metacritic/venv/lib/python3.9/site-packages/pandas/_libs/index.pyx:136\u001B[0m, in \u001B[0;36mpandas._libs.index.IndexEngine.get_loc\u001B[0;34m()\u001B[0m\n",
      "File \u001B[0;32m~/Documents/Projekty/Metacritic/venv/lib/python3.9/site-packages/pandas/_libs/index.pyx:163\u001B[0m, in \u001B[0;36mpandas._libs.index.IndexEngine.get_loc\u001B[0;34m()\u001B[0m\n",
      "File \u001B[0;32mpandas/_libs/hashtable_class_helper.pxi:5198\u001B[0m, in \u001B[0;36mpandas._libs.hashtable.PyObjectHashTable.get_item\u001B[0;34m()\u001B[0m\n",
      "File \u001B[0;32mpandas/_libs/hashtable_class_helper.pxi:5206\u001B[0m, in \u001B[0;36mpandas._libs.hashtable.PyObjectHashTable.get_item\u001B[0;34m()\u001B[0m\n",
      "\u001B[0;31mKeyError\u001B[0m: 'text'",
      "\nThe above exception was the direct cause of the following exception:\n",
      "\u001B[0;31mKeyError\u001B[0m                                  Traceback (most recent call last)",
      "Input \u001B[0;32mIn [10]\u001B[0m, in \u001B[0;36m<cell line: 1>\u001B[0;34m()\u001B[0m\n\u001B[0;32m----> 1\u001B[0m df[\u001B[38;5;124m'\u001B[39m\u001B[38;5;124mtext_without_stopwords\u001B[39m\u001B[38;5;124m'\u001B[39m] \u001B[38;5;241m=\u001B[39m \u001B[43mdf\u001B[49m\u001B[43m[\u001B[49m\u001B[38;5;124;43m'\u001B[39;49m\u001B[38;5;124;43mtext\u001B[39;49m\u001B[38;5;124;43m'\u001B[39;49m\u001B[43m]\u001B[49m\u001B[38;5;241m.\u001B[39mapply(\u001B[38;5;28;01mlambda\u001B[39;00m x: \u001B[38;5;124m'\u001B[39m\u001B[38;5;124m \u001B[39m\u001B[38;5;124m'\u001B[39m\u001B[38;5;241m.\u001B[39mjoin([word \u001B[38;5;28;01mfor\u001B[39;00m word \u001B[38;5;129;01min\u001B[39;00m x\u001B[38;5;241m.\u001B[39msplit() \u001B[38;5;28;01mif\u001B[39;00m word \u001B[38;5;129;01mnot\u001B[39;00m \u001B[38;5;129;01min\u001B[39;00m (stop_words)]))\n\u001B[1;32m      2\u001B[0m df\n",
      "File \u001B[0;32m~/Documents/Projekty/Metacritic/venv/lib/python3.9/site-packages/pandas/core/frame.py:3505\u001B[0m, in \u001B[0;36mDataFrame.__getitem__\u001B[0;34m(self, key)\u001B[0m\n\u001B[1;32m   3503\u001B[0m \u001B[38;5;28;01mif\u001B[39;00m \u001B[38;5;28mself\u001B[39m\u001B[38;5;241m.\u001B[39mcolumns\u001B[38;5;241m.\u001B[39mnlevels \u001B[38;5;241m>\u001B[39m \u001B[38;5;241m1\u001B[39m:\n\u001B[1;32m   3504\u001B[0m     \u001B[38;5;28;01mreturn\u001B[39;00m \u001B[38;5;28mself\u001B[39m\u001B[38;5;241m.\u001B[39m_getitem_multilevel(key)\n\u001B[0;32m-> 3505\u001B[0m indexer \u001B[38;5;241m=\u001B[39m \u001B[38;5;28;43mself\u001B[39;49m\u001B[38;5;241;43m.\u001B[39;49m\u001B[43mcolumns\u001B[49m\u001B[38;5;241;43m.\u001B[39;49m\u001B[43mget_loc\u001B[49m\u001B[43m(\u001B[49m\u001B[43mkey\u001B[49m\u001B[43m)\u001B[49m\n\u001B[1;32m   3506\u001B[0m \u001B[38;5;28;01mif\u001B[39;00m is_integer(indexer):\n\u001B[1;32m   3507\u001B[0m     indexer \u001B[38;5;241m=\u001B[39m [indexer]\n",
      "File \u001B[0;32m~/Documents/Projekty/Metacritic/venv/lib/python3.9/site-packages/pandas/core/indexes/base.py:3623\u001B[0m, in \u001B[0;36mIndex.get_loc\u001B[0;34m(self, key, method, tolerance)\u001B[0m\n\u001B[1;32m   3621\u001B[0m     \u001B[38;5;28;01mreturn\u001B[39;00m \u001B[38;5;28mself\u001B[39m\u001B[38;5;241m.\u001B[39m_engine\u001B[38;5;241m.\u001B[39mget_loc(casted_key)\n\u001B[1;32m   3622\u001B[0m \u001B[38;5;28;01mexcept\u001B[39;00m \u001B[38;5;167;01mKeyError\u001B[39;00m \u001B[38;5;28;01mas\u001B[39;00m err:\n\u001B[0;32m-> 3623\u001B[0m     \u001B[38;5;28;01mraise\u001B[39;00m \u001B[38;5;167;01mKeyError\u001B[39;00m(key) \u001B[38;5;28;01mfrom\u001B[39;00m \u001B[38;5;21;01merr\u001B[39;00m\n\u001B[1;32m   3624\u001B[0m \u001B[38;5;28;01mexcept\u001B[39;00m \u001B[38;5;167;01mTypeError\u001B[39;00m:\n\u001B[1;32m   3625\u001B[0m     \u001B[38;5;66;03m# If we have a listlike key, _check_indexing_error will raise\u001B[39;00m\n\u001B[1;32m   3626\u001B[0m     \u001B[38;5;66;03m#  InvalidIndexError. Otherwise we fall through and re-raise\u001B[39;00m\n\u001B[1;32m   3627\u001B[0m     \u001B[38;5;66;03m#  the TypeError.\u001B[39;00m\n\u001B[1;32m   3628\u001B[0m     \u001B[38;5;28mself\u001B[39m\u001B[38;5;241m.\u001B[39m_check_indexing_error(key)\n",
      "\u001B[0;31mKeyError\u001B[0m: 'text'"
     ]
    }
   ],
   "source": [
    "df['text_without_stopwords'] = df['text'].apply(lambda x: ' '.join([word for word in x.split() if word not in (stop_words)]))\n",
    "df"
   ]
  },
  {
   "cell_type": "code",
   "execution_count": null,
   "metadata": {
    "datalore": {
     "hide_input_from_viewers": false,
     "hide_output_from_viewers": false,
     "node_id": "zdHPSAkdWQCAMVWs70Xz6K",
     "type": "CODE"
    }
   },
   "outputs": [],
   "source": [
    "\n",
    "from nltk.tokenize import word_tokenize\n",
    "from nltk.corpus import wordnet\n",
    "from nltk.stem import WordNetLemmatizer\n",
    "nltk.download('punkt')\n",
    "nltk.download('averaged_perceptron_tagger')\n",
    "nltk.download('wordnet')\n",
    "nltk.download('omw-1.4')"
   ]
  },
  {
   "cell_type": "code",
   "execution_count": null,
   "metadata": {
    "datalore": {
     "hide_input_from_viewers": false,
     "hide_output_from_viewers": false,
     "node_id": "sCj5QrXpaaQexMHlujkQtV",
     "type": "CODE"
    }
   },
   "outputs": [],
   "source": [
    "\n",
    "\n",
    "df['tokenized'] = df['text_without_stopwords'].apply(word_tokenize)\n",
    "df['tokenized'] = df['tokenized'].apply(nltk.tag.pos_tag)\n",
    "\n",
    "\n",
    "def get_wordnet_pos(tag):\n",
    "    if tag.startswith('J'):\n",
    "        return wordnet.ADJ\n",
    "    elif tag.startswith('V'):\n",
    "        return wordnet.VERB\n",
    "    elif tag.startswith('N'):\n",
    "        return wordnet.NOUN\n",
    "    elif tag.startswith('R'):\n",
    "        return wordnet.ADV\n",
    "    else:\n",
    "        return wordnet.NOUN\n",
    "df['wordnet_pos'] = df['tokenized'].apply(lambda x: [(word, get_wordnet_pos(pos_tag)) for (word, pos_tag) in x])\n",
    "wnl = WordNetLemmatizer()\n",
    "df['lemmatized'] = df['wordnet_pos'].apply(lambda x: [wnl.lemmatize(word, tag) for word, tag in x])\n",
    "df['lemmatized'] = [' '.join(map(str, l)) for l in df['lemmatized']]\n",
    "df"
   ]
  },
  {
   "cell_type": "code",
   "execution_count": null,
   "metadata": {
    "datalore": {
     "hide_input_from_viewers": false,
     "hide_output_from_viewers": false,
     "node_id": "kGWYVzTcdmyX3ZHjOhr8mr",
     "type": "CODE"
    }
   },
   "outputs": [],
   "source": [
    "from matplotlib import pyplot as plt\n",
    "\n",
    "fig, ax = plt.subplots()\n",
    "fig.suptitle(\"desc\", fontsize=12)\n",
    "df[\"desc\"].reset_index().groupby(\"desc\").count().sort_values(by= \n",
    "       \"index\").plot(kind=\"barh\", legend=False, \n",
    "        ax=ax).grid(axis='x')\n",
    "plt.show()"
   ]
  },
  {
   "cell_type": "code",
   "execution_count": null,
   "metadata": {
    "datalore": {
     "hide_input_from_viewers": false,
     "hide_output_from_viewers": false,
     "node_id": "uYqlvtZ4am3MNgbFzQfFfs",
     "type": "CODE"
    }
   },
   "outputs": [],
   "source": [
    "#Najczęstsze słowa\n",
    "from collections import Counter\n",
    "cnt = Counter()\n",
    "for text in df[\"lemmatized\"].values:\n",
    "    for word in text.split():\n",
    "        cnt[word] += 1\n",
    "        \n",
    "cnt.most_common(10)"
   ]
  },
  {
   "cell_type": "code",
   "execution_count": 11,
   "metadata": {
    "datalore": {
     "hide_input_from_viewers": false,
     "hide_output_from_viewers": false,
     "node_id": "VqWRwoCWofkNhGUve09nLw",
     "type": "CODE"
    }
   },
   "outputs": [
    {
     "ename": "ModuleNotFoundError",
     "evalue": "No module named 'sklearn'",
     "output_type": "error",
     "traceback": [
      "\u001B[0;31m---------------------------------------------------------------------------\u001B[0m",
      "\u001B[0;31mModuleNotFoundError\u001B[0m                       Traceback (most recent call last)",
      "Input \u001B[0;32mIn [11]\u001B[0m, in \u001B[0;36m<cell line: 2>\u001B[0;34m()\u001B[0m\n\u001B[1;32m      1\u001B[0m \u001B[38;5;66;03m#count vectorizer and Count\u001B[39;00m\n\u001B[0;32m----> 2\u001B[0m \u001B[38;5;28;01mfrom\u001B[39;00m \u001B[38;5;21;01msklearn\u001B[39;00m\u001B[38;5;21;01m.\u001B[39;00m\u001B[38;5;21;01mfeature_extraction\u001B[39;00m\u001B[38;5;21;01m.\u001B[39;00m\u001B[38;5;21;01mtext\u001B[39;00m \u001B[38;5;28;01mimport\u001B[39;00m CountVectorizer\n\u001B[1;32m      4\u001B[0m vectorizer \u001B[38;5;241m=\u001B[39m CountVectorizer()\n\u001B[1;32m      5\u001B[0m X_train_counts \u001B[38;5;241m=\u001B[39m vectorizer\u001B[38;5;241m.\u001B[39mfit_transform(df\u001B[38;5;241m.\u001B[39mlemmatized)\n",
      "\u001B[0;31mModuleNotFoundError\u001B[0m: No module named 'sklearn'"
     ]
    }
   ],
   "source": [
    "#count vectorizer and Count\n",
    "from sklearn.feature_extraction.text import CountVectorizer\n",
    "\n",
    "vectorizer = CountVectorizer()\n",
    "X_train_counts = vectorizer.fit_transform(df.lemmatized)\n",
    "\n",
    "print(X_train_counts.shape)\n",
    "print(X_train_counts.toarray())\n"
   ]
  },
  {
   "cell_type": "code",
   "execution_count": 12,
   "metadata": {
    "datalore": {
     "hide_input_from_viewers": false,
     "hide_output_from_viewers": false,
     "node_id": "B44QeN9XRCObVzvLK6I7nR",
     "type": "CODE"
    }
   },
   "outputs": [
    {
     "ename": "NameError",
     "evalue": "name 'X_train_counts' is not defined",
     "output_type": "error",
     "traceback": [
      "\u001B[0;31m---------------------------------------------------------------------------\u001B[0m",
      "\u001B[0;31mNameError\u001B[0m                                 Traceback (most recent call last)",
      "Input \u001B[0;32mIn [12]\u001B[0m, in \u001B[0;36m<cell line: 1>\u001B[0;34m()\u001B[0m\n\u001B[0;32m----> 1\u001B[0m df_names \u001B[38;5;241m=\u001B[39m pd\u001B[38;5;241m.\u001B[39mDataFrame(\u001B[43mX_train_counts\u001B[49m[\u001B[38;5;241m0\u001B[39m]\u001B[38;5;241m.\u001B[39mT\u001B[38;5;241m.\u001B[39mtodense(),\n\u001B[1;32m      2\u001B[0m     \tindex\u001B[38;5;241m=\u001B[39mvectorizer\u001B[38;5;241m.\u001B[39mget_feature_names(), columns\u001B[38;5;241m=\u001B[39m[\u001B[38;5;124m\"\u001B[39m\u001B[38;5;124mTF-IDF\u001B[39m\u001B[38;5;124m\"\u001B[39m])\n\u001B[1;32m      3\u001B[0m df_names \u001B[38;5;241m=\u001B[39m df_names\u001B[38;5;241m.\u001B[39msort_values(\u001B[38;5;124m'\u001B[39m\u001B[38;5;124mCount Vectorizer\u001B[39m\u001B[38;5;124m'\u001B[39m, ascending\u001B[38;5;241m=\u001B[39m\u001B[38;5;28;01mFalse\u001B[39;00m)\n\u001B[1;32m      4\u001B[0m df_names\n",
      "\u001B[0;31mNameError\u001B[0m: name 'X_train_counts' is not defined"
     ]
    }
   ],
   "source": [
    "df_names = pd.DataFrame(X_train_counts[0].T.todense(),\n",
    "    \tindex=vectorizer.get_feature_names(), columns=[\"TF-IDF\"])\n",
    "df_names = df_names.sort_values('Count Vectorizer', ascending=False)\n",
    "df_names"
   ]
  },
  {
   "cell_type": "code",
   "execution_count": 13,
   "metadata": {
    "datalore": {
     "hide_input_from_viewers": false,
     "hide_output_from_viewers": false,
     "node_id": "SsRhn02tB0DGvU3YEUNuPT",
     "type": "CODE"
    }
   },
   "outputs": [
    {
     "ename": "ModuleNotFoundError",
     "evalue": "No module named 'sklearn'",
     "output_type": "error",
     "traceback": [
      "\u001B[0;31m---------------------------------------------------------------------------\u001B[0m",
      "\u001B[0;31mModuleNotFoundError\u001B[0m                       Traceback (most recent call last)",
      "Input \u001B[0;32mIn [13]\u001B[0m, in \u001B[0;36m<cell line: 1>\u001B[0;34m()\u001B[0m\n\u001B[0;32m----> 1\u001B[0m \u001B[38;5;28;01mfrom\u001B[39;00m \u001B[38;5;21;01msklearn\u001B[39;00m\u001B[38;5;21;01m.\u001B[39;00m\u001B[38;5;21;01mfeature_extraction\u001B[39;00m\u001B[38;5;21;01m.\u001B[39;00m\u001B[38;5;21;01mtext\u001B[39;00m \u001B[38;5;28;01mimport\u001B[39;00m TfidfTransformer\n\u001B[1;32m      3\u001B[0m tfidf_transformer  \u001B[38;5;241m=\u001B[39m TfidfTransformer()\n\u001B[1;32m      4\u001B[0m X_train_tfidf \u001B[38;5;241m=\u001B[39m vectorizer\u001B[38;5;241m.\u001B[39mfit_transform(df\u001B[38;5;241m.\u001B[39mlemmatized)\n",
      "\u001B[0;31mModuleNotFoundError\u001B[0m: No module named 'sklearn'"
     ]
    }
   ],
   "source": [
    "from sklearn.feature_extraction.text import TfidfTransformer\n",
    "\n",
    "tfidf_transformer  = TfidfTransformer()\n",
    "X_train_tfidf = vectorizer.fit_transform(df.lemmatized)\n",
    "\n",
    "print(X_train_tfidf.shape)\n",
    "print(X_train_tfidf.toarray())"
   ]
  },
  {
   "cell_type": "code",
   "execution_count": 14,
   "metadata": {
    "datalore": {
     "hide_input_from_viewers": false,
     "hide_output_from_viewers": false,
     "node_id": "UxFjHVObyPuhZgnIipUozS",
     "type": "CODE"
    }
   },
   "outputs": [
    {
     "ename": "NameError",
     "evalue": "name 'X_train_tfidf' is not defined",
     "output_type": "error",
     "traceback": [
      "\u001B[0;31m---------------------------------------------------------------------------\u001B[0m",
      "\u001B[0;31mNameError\u001B[0m                                 Traceback (most recent call last)",
      "Input \u001B[0;32mIn [14]\u001B[0m, in \u001B[0;36m<cell line: 1>\u001B[0;34m()\u001B[0m\n\u001B[0;32m----> 1\u001B[0m df_names \u001B[38;5;241m=\u001B[39m pd\u001B[38;5;241m.\u001B[39mDataFrame(\u001B[43mX_train_tfidf\u001B[49m[\u001B[38;5;241m0\u001B[39m]\u001B[38;5;241m.\u001B[39mT\u001B[38;5;241m.\u001B[39mtodense(),\n\u001B[1;32m      2\u001B[0m     \tindex\u001B[38;5;241m=\u001B[39mvectorizer\u001B[38;5;241m.\u001B[39mget_feature_names(), columns\u001B[38;5;241m=\u001B[39m[\u001B[38;5;124m\"\u001B[39m\u001B[38;5;124mTF-IDF\u001B[39m\u001B[38;5;124m\"\u001B[39m])\n\u001B[1;32m      3\u001B[0m df_names \u001B[38;5;241m=\u001B[39m df_names\u001B[38;5;241m.\u001B[39msort_values(\u001B[38;5;124m'\u001B[39m\u001B[38;5;124mTF-IDF\u001B[39m\u001B[38;5;124m'\u001B[39m, ascending\u001B[38;5;241m=\u001B[39m\u001B[38;5;28;01mFalse\u001B[39;00m)\n\u001B[1;32m      4\u001B[0m df_names\n",
      "\u001B[0;31mNameError\u001B[0m: name 'X_train_tfidf' is not defined"
     ]
    }
   ],
   "source": [
    "df_names = pd.DataFrame(X_train_tfidf[0].T.todense(),\n",
    "    \tindex=vectorizer.get_feature_names(), columns=[\"TF-IDF\"])\n",
    "df_names = df_names.sort_values('TF-IDF', ascending=False)\n",
    "df_names"
   ]
  },
  {
   "cell_type": "code",
   "execution_count": 15,
   "metadata": {
    "datalore": {
     "hide_input_from_viewers": false,
     "hide_output_from_viewers": false,
     "node_id": "ADYKka84yrjDCgCdC7IWiX",
     "type": "CODE"
    }
   },
   "outputs": [
    {
     "ename": "ModuleNotFoundError",
     "evalue": "No module named 'sentence_transformers'",
     "output_type": "error",
     "traceback": [
      "\u001B[0;31m---------------------------------------------------------------------------\u001B[0m",
      "\u001B[0;31mModuleNotFoundError\u001B[0m                       Traceback (most recent call last)",
      "Input \u001B[0;32mIn [15]\u001B[0m, in \u001B[0;36m<cell line: 1>\u001B[0;34m()\u001B[0m\n\u001B[0;32m----> 1\u001B[0m \u001B[38;5;28;01mfrom\u001B[39;00m \u001B[38;5;21;01msentence_transformers\u001B[39;00m \u001B[38;5;28;01mimport\u001B[39;00m SentenceTransformer\n\u001B[1;32m      2\u001B[0m \u001B[38;5;28;01mfrom\u001B[39;00m \u001B[38;5;21;01msklearn\u001B[39;00m\u001B[38;5;21;01m.\u001B[39;00m\u001B[38;5;21;01mcluster\u001B[39;00m \u001B[38;5;28;01mimport\u001B[39;00m KMeans\n\u001B[1;32m      3\u001B[0m embedder \u001B[38;5;241m=\u001B[39m SentenceTransformer(\u001B[38;5;124m'\u001B[39m\u001B[38;5;124mdistilbert-base-nli-stsb-mean-tokens\u001B[39m\u001B[38;5;124m'\u001B[39m)\n",
      "\u001B[0;31mModuleNotFoundError\u001B[0m: No module named 'sentence_transformers'"
     ]
    }
   ],
   "source": [
    "from sentence_transformers import SentenceTransformer\n",
    "from sklearn.cluster import KMeans\n",
    "embedder = SentenceTransformer('distilbert-base-nli-stsb-mean-tokens')\n",
    "corpus_embeddings = embedder.encode(X_train_tfidf)"
   ]
  },
  {
   "cell_type": "code",
   "execution_count": 15,
   "metadata": {
    "datalore": {
     "hide_input_from_viewers": false,
     "hide_output_from_viewers": false,
     "node_id": "0DaX2J10Jj8Ypv6vaHgMdQ",
     "type": "CODE"
    }
   },
   "outputs": [],
   "source": [
    "\n",
    "\n",
    "\n"
   ]
  },
  {
   "cell_type": "code",
   "execution_count": null,
   "outputs": [],
   "source": [],
   "metadata": {
    "collapsed": false,
    "pycharm": {
     "name": "#%%\n"
    }
   }
  }
 ],
 "metadata": {
  "datalore": {
   "base_environment": "default",
   "computation_mode": "JUPYTER",
   "package_manager": "pip",
   "packages": [
    {
     "name": "bs4",
     "source": "PIP",
     "version": "0.0.1"
    },
    {
     "name": "nltk",
     "source": "PIP",
     "version": "3.7"
    },
    {
     "name": "stopwords",
     "source": "PIP",
     "version": "1.0.0"
    },
    {
     "name": "langdetect",
     "source": "PIP",
     "version": "1.0.9"
    },
    {
     "name": "stop-words",
     "source": "PIP",
     "version": "2018.7.23"
    },
    {
     "name": "contractions",
     "source": "PIP"
    },
    {
     "name": "wordnet",
     "source": "PIP",
     "version": "0.0.1b2"
    },
    {
     "name": "word-tokenizer",
     "source": "PIP",
     "version": "0.0.3"
    },
    {
     "name": "en-core-web-sm",
     "source": "PIP"
    },
    {
     "name": "sentence-transformers",
     "source": "PIP"
    }
   ],
   "version": 1
  },
  "kernelspec": {
   "display_name": "Python 3 (ipykernel)",
   "language": "python",
   "name": "python3"
  },
  "language_info": {
   "codemirror_mode": {
    "name": "ipython",
    "version": 3
   },
   "file_extension": ".py",
   "mimetype": "text/x-python",
   "name": "python",
   "nbconvert_exporter": "python",
   "pygments_lexer": "ipython3",
   "version": "3.9.10"
  }
 },
 "nbformat": 4,
 "nbformat_minor": 4
}