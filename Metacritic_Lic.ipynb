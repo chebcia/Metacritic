{
 "cells": [
  {
   "cell_type": "code",
   "execution_count": 1,
   "outputs": [],
   "source": [
    "import re\n",
    "import pandas as pd\n",
    "from langdetect import detect\n",
    "from bs4 import BeautifulSoup\n",
    "import requests\n",
    "import numpy as np\n",
    "import nltk\n",
    "import contractions\n",
    "import string\n",
    "from sklearn.feature_extraction.text import ENGLISH_STOP_WORDS\n",
    "from nltk.corpus import stopwords\n",
    "from nltk.stem import WordNetLemmatizer\n",
    "from nltk.tokenize import word_tokenize\n",
    "from nltk.corpus import wordnet\n",
    "\n"
   ],
   "metadata": {
    "collapsed": false,
    "pycharm": {
     "name": "#%%\n"
    }
   }
  },
  {
   "cell_type": "markdown",
   "source": [
    "## Inicjalizacja projektu\n",
    "W tej części pobieramy potrzebne paczki do biblioteki nltk.\n",
    "nltk wykorzystujemy w celu text processingu"
   ],
   "metadata": {
    "collapsed": false
   }
  },
  {
   "cell_type": "code",
   "execution_count": 2,
   "outputs": [
    {
     "name": "stderr",
     "output_type": "stream",
     "text": [
      "[nltk_data] Error loading stopwords: <urlopen error [SSL:\n",
      "[nltk_data]     CERTIFICATE_VERIFY_FAILED] certificate verify failed:\n",
      "[nltk_data]     unable to get local issuer certificate (_ssl.c:1129)>\n",
      "[nltk_data] Error loading punkt: <urlopen error [SSL:\n",
      "[nltk_data]     CERTIFICATE_VERIFY_FAILED] certificate verify failed:\n",
      "[nltk_data]     unable to get local issuer certificate (_ssl.c:1129)>\n",
      "[nltk_data] Error loading averaged_perceptron_tagger: <urlopen error\n",
      "[nltk_data]     [SSL: CERTIFICATE_VERIFY_FAILED] certificate verify\n",
      "[nltk_data]     failed: unable to get local issuer certificate\n",
      "[nltk_data]     (_ssl.c:1129)>\n",
      "[nltk_data] Error loading wordnet: <urlopen error [SSL:\n",
      "[nltk_data]     CERTIFICATE_VERIFY_FAILED] certificate verify failed:\n",
      "[nltk_data]     unable to get local issuer certificate (_ssl.c:1129)>\n",
      "[nltk_data] Error loading omw-1.4: <urlopen error [SSL:\n",
      "[nltk_data]     CERTIFICATE_VERIFY_FAILED] certificate verify failed:\n",
      "[nltk_data]     unable to get local issuer certificate (_ssl.c:1129)>\n"
     ]
    },
    {
     "data": {
      "text/plain": "False"
     },
     "execution_count": 2,
     "metadata": {},
     "output_type": "execute_result"
    }
   ],
   "source": [
    "import nltk\n",
    "\n",
    "nltk.download('stopwords')\n",
    "nltk.download('punkt')\n",
    "nltk.download('averaged_perceptron_tagger')\n",
    "nltk.download('wordnet')\n",
    "nltk.download('omw-1.4')"
   ],
   "metadata": {
    "collapsed": false,
    "pycharm": {
     "name": "#%%\n"
    }
   }
  },
  {
   "cell_type": "markdown",
   "source": [
    "## Funkcje pomocnicze\n",
    "Dalej będą wykorzystywane w kodzie"
   ],
   "metadata": {
    "collapsed": false
   }
  },
  {
   "cell_type": "code",
   "execution_count": 3,
   "metadata": {
    "datalore": {
     "hide_input_from_viewers": false,
     "hide_output_from_viewers": false,
     "node_id": "GGAvQWSeVw6RgWaKOldOnY",
     "type": "CODE"
    }
   },
   "outputs": [],
   "source": [
    "import string\n",
    "from nltk.corpus import wordnet\n",
    "\n",
    "# Usuwa białe spacje i nowe linie\n",
    "# Parametry\n",
    "# content - string\n",
    "# Zwrotka\n",
    "# string\n",
    "def trim_content(content: str) -> str:\n",
    "    removed_spaces = re.sub(\"\\s\\s+\" , \" \", content)\n",
    "    removed_new_lines = re.sub(\"\\n\" , \"\", removed_spaces)\n",
    "    return removed_new_lines\n",
    "\n",
    "# Filtrowanie list\n",
    "# Zwraca wyfiltrowany obiekt według funkcji podanej w callbacku\n",
    "# Parametry\n",
    "# list_obj - lista do przefiltrowania\n",
    "# callback - funkcja filtrująca, musi zwracać boolean\n",
    "# Zwrotka\n",
    "# Wyfiltrowany obiekt\n",
    "def list_filter(list_obj, callback):\n",
    "    new_list = list()\n",
    "\n",
    "    for value in list_obj:\n",
    "        if callback(value):\n",
    "            new_list.append(value)\n",
    "\n",
    "    return new_list\n",
    "\n",
    "def remove_punctuation(text):\n",
    "    return text.translate(str.maketrans('', '', string.punctuation))\n",
    "\n",
    "def nltk_tag_to_wordnet_tag(nltk_tag):\n",
    "    if nltk_tag.startswith('J'):\n",
    "        return wordnet.ADJ\n",
    "    elif nltk_tag.startswith('V'):\n",
    "        return wordnet.VERB\n",
    "    elif nltk_tag.startswith('N'):\n",
    "        return wordnet.NOUN\n",
    "    elif nltk_tag.startswith('R'):\n",
    "        return wordnet.ADV\n",
    "    else:\n",
    "        return None\n",
    "\n",
    "def lemmatize_sentence(sentence, lemmatizer):\n",
    "    #tokenize the sentence and find the POS tag for each token\n",
    "    nltk_tagged = nltk.pos_tag(nltk.word_tokenize(sentence))\n",
    "    #tuple of (token, wordnet_tag)\n",
    "    wordnet_tagged = map(lambda x: (x[0], nltk_tag_to_wordnet_tag(x[1])), nltk_tagged)\n",
    "    lemmatized_sentence = []\n",
    "    for word, tag in wordnet_tagged:\n",
    "        if tag is None:\n",
    "            #if there is no available tag, append the token as is\n",
    "            lemmatized_sentence.append(word)\n",
    "        else:\n",
    "            #else use the tag to lemmatize the token\n",
    "            lemmatized_sentence.append(lemmatizer.lemmatize(word, tag))\n",
    "    return \" \".join(lemmatized_sentence)\n",
    "\n",
    "def detect_language(text):\n",
    "    try:\n",
    "        language = detect(text)\n",
    "    except:\n",
    "        language = 'Other'\n",
    "    return language"
   ]
  },
  {
   "cell_type": "markdown",
   "source": [
    "## Pobieranie danych z metacritic\n",
    "Poniższy kod zwraca recenzje według podanych parametrów (niżej opisane w kodzie)\n",
    "Kod został dostosowany na potrzeby serwisu metacritic.com\n",
    "Metacritic blokuje zbyt częste requesty co zostało uwzględnione dalej w kodzie (poniżej odpowiednio opisane)"
   ],
   "metadata": {
    "collapsed": false
   }
  },
  {
   "cell_type": "code",
   "execution_count": 4,
   "metadata": {
    "datalore": {
     "hide_input_from_viewers": false,
     "hide_output_from_viewers": false,
     "node_id": "eEaJ7S7uVbnA8Nuec7omJd",
     "type": "CODE"
    }
   },
   "outputs": [],
   "source": [
    "import pandas as pd\n",
    "from bs4 import BeautifulSoup\n",
    "import requests\n",
    "\n",
    "# Pobieranie danych z metacritic\n",
    "\n",
    "class MetacriticData:\n",
    "    def __init__(self):\n",
    "        self.DEFAULT_RESPONSE = 'Unknown' # Teksotowa zwrotka w przypadku gdy nie ma wystarczającej ilości danych. Wykorzystujemy to dalej by wykryć sytuacje w których kod zadziała w nieoczekiwany sposób przez brak danych na stronie\n",
    "        self.DEFAULT_RESPONSE_FLOAT = float(-1) # Liczbowa zwrotka w przypadku gdy nie ma wystarczającej ilości danych. Wykorzystujemy to dalej by wykryć sytuacje w których kod zadziała w nieoczekiwany sposób przez brak danych na stronie\n",
    "        self.search_url = \"https://www.metacritic.com/autosearch\" # Endpoint do wyszukiwania tytułów\n",
    "        self.search_headers = { # Nagłówki do zapytania wyszukiwania, bez tego przeglądarka myśli, że jesteśmy robotem i blokuje requesty. Skopiowane z zapytania przeglądarki\n",
    "            'authority': 'www.metacritic.com',\n",
    "            'accept': '*/*',\n",
    "            'x-requested-with': 'XMLHttpRequest',\n",
    "            'user-agent': 'Mozilla/5.0 (Macintosh; Intel Mac OS X 10_15_7) AppleWebKit/537.36 (KHTML, like Gecko) '\n",
    "                        'Chrome/95.0.4638.54 Safari/537.36',\n",
    "            'content-type': 'application/x-www-form-urlencoded; charset=UTF-8',\n",
    "            'sec-gpc': '1',\n",
    "            'origin': 'https://www.metacritic.com',\n",
    "            'sec-fetch-site': 'same-origin',\n",
    "            'sec-fetch-mode': 'cors',\n",
    "            'sec-fetch-dest': 'empty',\n",
    "            'referer': 'https://www.metacritic.com/game/playstation-4/grand-theft-auto-v',\n",
    "            'accept-language': 'en-GB,en-US;q=0.9,en;q=0.8',\n",
    "            'cookie': 'mc_s_s=d_2; OptanonAlertBoxClosed=2021-10-31T12:22:29.841Z; '\n",
    "                    'ctk=NjE3ZThhOTEwMjAwMDAwMGRmN2Q3M2I4NmRiMg%3D%3D; omniEvents[pageFindingMethod]=Internal:Search; '\n",
    "                    '_BB.bs=a|3; metapv=3; _BB.d=0|||2; '\n",
    "                    'OptanonConsent=isIABGlobal=false&datestamp=Sun+Oct+31+2021+13%3A23%3A10+GMT%2B0100+('\n",
    "                    'Central+European+Standard+Time)&version=6.20.0&hosts=&consentId=316c06a0-7ce1-4feb-8905-2c9cfeec47a2'\n",
    "                    '&interactionCount=1&landingPath=NotLandingPage&groups=C0001%3A1%2CC0002%3A1%2CC0003%3A1%2CC0004%3A1'\n",
    "                    '&geolocation=PL%3B24&AwaitingReconsent=false '\n",
    "        }\n",
    "        # @TODO: Być może można to usunąć i korzystać z jednego headera\n",
    "        self.web_scrapping_headers = { # Nagłówki do zapytania pobierania recenzji, bez tego przeglądarka myśli, że jesteśmy robotem i blokuje requesty. Skopiowane z zapytania przeglądarki\n",
    "            'authority': 'www.metacritic.com',\n",
    "            'cache-control': 'max-age=0',\n",
    "            'upgrade-insecure-requests': '1',\n",
    "            'user-agent': 'Mozilla/5.0 (Macintosh; Intel Mac OS X 10_15_7) AppleWebKit/537.36 (KHTML, like Gecko) '\n",
    "                        'Chrome/95.0.4638.54 Safari/537.36',\n",
    "            'accept': 'text/html,application/xhtml+xml,application/xml;q=0.9,image/avif,image/webp,image/apng,*/*;q=0.8,'\n",
    "                    'application/signed-exchange;v=b3;q=0.9',\n",
    "            'sec-gpc': '1',\n",
    "            'sec-fetch-site': 'same-origin',\n",
    "            'sec-fetch-mode': 'navigate',\n",
    "            'sec-fetch-user': '?1',\n",
    "            'sec-fetch-dest': 'document',\n",
    "            'referer': 'https://www.metacritic.com/game/playstation-4/grand-theft-auto-v',\n",
    "            'accept-language': 'en-GB,en-US;q=0.9,en;q=0.8',\n",
    "            'cookie': 'mc_s_s=d_2; OptanonAlertBoxClosed=2021-10-31T12:22:29.841Z; '\n",
    "                    'ctk=NjE3ZThhOTEwMjAwMDAwMGRmN2Q3M2I4NmRiMg%3D%3D; _BB.bs=a|3; metapv=11; _BB.d=0|||10; '\n",
    "                    'OptanonConsent=isIABGlobal=false&datestamp=Sun+Oct+31+2021+16%3A12%3A56+GMT%2B0100+('\n",
    "                    'Central+European+Standard+Time)&version=6.20.0&hosts=&consentId=316c06a0-7ce1-4feb-8905-2c9cfeec47a2'\n",
    "                    '&interactionCount=1&landingPath=NotLandingPage&groups=C0001%3A1%2CC0002%3A1%2CC0003%3A1%2CC0004%3A1'\n",
    "                    '&geolocation=PL%3B24&AwaitingReconsent=false '\n",
    "        }\n",
    "\n",
    "    def _select_content(self, web_content: str) -> str: # Metoda, która zwraca zawartość tekstową strony lub standardową odpowiedź w przypadku nie wykrycia contentu\n",
    "        if len(web_content) > 0:\n",
    "            return web_content[0].text\n",
    "        else:\n",
    "            return self.DEFAULT_RESPONSE\n",
    "        \n",
    "    def _select_content_as_number(self, web_content: str, default_value: int = int(-1)) -> int: # Metoda, która zwraca zawartość tekstową strony w formie liczby lub standardową odpowiedź w przypadku nie wykrycia contentu\n",
    "        if len(web_content) > 0:\n",
    "            try:\n",
    "                return int(web_content[0].text)\n",
    "            except: \n",
    "                return default_value\n",
    "        \n",
    "        else:\n",
    "            return default_value\n",
    "        \n",
    "    def _select_reliability(self, ups: str, thumbs: str) -> float: # Wykrywania wiarygodności ocen. Oceniane w sposób podzielenia łapek w górę w stosunku do łapek w dół. Skala 1-0, gdzie 1 tj. wiarygodna 0 tj. mało wiarygodna. W przypadku braku informacji zwraca defaultową odpowiedź\n",
    "        try:\n",
    "            reliability = int(ups) / int(thumbs)\n",
    "    \n",
    "            return reliability\n",
    "        except:\n",
    "            return self.DEFAULT_RESPONSE_FLOAT\n",
    "        \n",
    "    def search(self, title: str, platform: str = \"PC Game\") -> str: # Odpytanie o wyniki wyszukiwania, title - tytuł gry, platform - platforma do recenzji (Defaultowo: PC Game)\n",
    "        payload = \"search_term=\" + title + \"&image_size=98&search_each=true\" # Payload potrzebny do requestu (wykorzystuje tytuł gry)\n",
    "        response = requests.request(\"POST\", self.search_url, headers=self.search_headers, data=payload) # Zwrotka z pobranymi danymi. Wykorzystuje nagłówki i powyższy payload\n",
    "        results = response.json()['autoComplete']['results'] # Zwrotka przetworzona, która zwraca tylko wyniki wyszukiwania (Klucze są ID-kami tagów na stronie metacritic)\n",
    "        selected_platform_results = list_filter(results, lambda elem: elem['refType'] == platform) # Filtrowanie wyników tylko dla wyszukiwanej platformy. Wybranej w parametrze plarform\n",
    "        exact_title_selected_platform_results = list_filter(selected_platform_results, lambda elem: elem['name'] == title) # Filtrowanie wyników dla tytułów. Wybranego w parametrze title\n",
    "\n",
    "        if len(exact_title_selected_platform_results) <= 0:\n",
    "            raise ValueError('The title \\'' + title + '\\' on platform \\'' + platform + '\\' was not found.') # W przypadku braku wyników kod zaprzestaje dalszego wywołania\n",
    "\n",
    "        return exact_title_selected_platform_results[0] # Zwraca pierwszy znaleziony wynik na stronie\n",
    "    \n",
    "    def web_scrapping(self, base_url: str, endpoint: str, pages_enabled: bool = False) -> list: # Pobieranie recenzji. Funkcja zwraca listę recenzji znaleziony na stronie gry. base_url - adres strony gry, endpoint - dalsza część adresu odpytania np. podstrona recenzji krytyków lub graczy, pages_enabled - informacja czy paginacja występuje na stronie\n",
    "        if pages_enabled: # Niektóre strony zawierają paginację, przez co kod musi działać w inny sposób by pobrać wszystkie wyniki.\n",
    "            have_content = True # Wartość, która pozwala na wykrywania jak długo strona zawiera kolejne dane. Metacritic zwraca kod 200 (OK) dla stron, które nie mają żadnych recenzji, więc nei możńa wykrywać kodu response'a.\n",
    "            page_index = 0 # Index strony na której się znajdujemy\n",
    "            response = list() # Zebrane wszystkie recenzje\n",
    "        \n",
    "            while have_content: # Dopóki mamy content na stronach\n",
    "                url = base_url + endpoint + '?page=' + str(page_index) # URL z dodanym parametrem strony\n",
    "                request = requests.request(\"GET\", url, headers=self.web_scrapping_headers) # Pobieranie zawartości strony\n",
    "                request_text = request.text # Zawartość strony w formie tekstowej\n",
    "\n",
    "                if request.status_code != 200: # Jeśli strona metacritic zwróci kod błędu inny niż 200, program zaprzestaje działania. Oznacza to, że nie ma wyników dla wyszukiwanej gry lub metacritic nieodpowiada\n",
    "                    raise ValueError('Cannot fetch reviews for \\'' + url + '\\'.')\n",
    "\n",
    "                if page_index > 50: # Zabezpieczenie przed infinity loopem. Korzystamy tutaj z while'a, wiec warto dodać takie podwójne zabezpieczneie\n",
    "                    raise ValueError('Probably fetched too many pages for \\'' + url + '\\'.')\n",
    "\n",
    "                if 'There are no user reviews yet -' in request_text: # Wykrywa czy istnieje podana fraza na stronie, która wskazuje na to, że nie ma więcej stron\n",
    "                    have_content = False\n",
    "                else:\n",
    "                    response.append(request_text) # Dodaje zwrotkę do arraya response'a, który jest zwracany po wykonaniu pętli\n",
    "\n",
    "                page_index += 1 # Zwiększenie indeksu strony\n",
    "            \n",
    "            return response # Zwracanie znalezionych wyników wyszukiwania\n",
    "\n",
    "        else: # W przypadku gdy nieoczekujemy paginacji na stronie\n",
    "            url = base_url + endpoint # Endpoint w tym przypadku bez parametru strony\n",
    "            request = requests.request(\"GET\", url, headers=self.web_scrapping_headers) # Pobieranie danych\n",
    "\n",
    "            if request.status_code != 200: # Jeśli strona metacritic zwróci kod błędu inny niż 200, program zaprzestaje działania. Oznacza to, że nie ma wyników dla wyszukiwanej gry lub metacritic nieodpowiada\n",
    "                raise ValueError('Cannot fetch reviews for \\'' + url + '\\'.')\n",
    "\n",
    "            return [request.text] # Zwracanie wyniku w formie arraya, żeby utrzymać spójność zwrokti kodu\n",
    "        \n",
    "\n",
    "    def find_reviews(self, web_contents: list, expert: bool = False) -> list: # Wyszukiwanie recenzji na stronie. Parametry: web_contents - lista tekstowej zawartości stron, expert - zdefiniowanie czy szukamy wyników dla recenzji ekspertów czy graczy (true - expert, false - gracz, defaultowo: false - gracz). # Zwraca odpowiedź w formie listy gdzie pierwszy elementr to recenzje krytyków a drugi to recenzje graczy.\n",
    "        response = list() # Lista znalezionych wyników\n",
    "\n",
    "        for web_content in web_contents: # Pętla listująca się po podanych contentach strony\n",
    "            soup = BeautifulSoup(web_content, 'html.parser') # Stworzenie \"zupy\", z podanych treści, przetwarza nam to HTML-a i dalej możemy łatwiej wyszukiwać zawartości\n",
    "            main_content = soup.findAll('div', attrs={\"id\": \"main\"})[0] # Wyszukanie głównej zawartości strony\n",
    "            soup_main = BeautifulSoup(str(main_content), 'html.parser') # Stworzenie \"zupy\", z podanych treści, przetwarza nam to HTML-a i dalej możemy łatwiej wyszukiwać zawartości\n",
    "            reviews_elements = soup_main.findAll('li', attrs={\"class\": \"review\"}) # Wyszukanie wszystkich wyników recenzji\n",
    "\n",
    "            for review in reviews_elements: # Pętla listująca się po znalezionych recenzjach\n",
    "                soup_child = BeautifulSoup(str(review), 'html.parser') # Stworzenie \"zupy\", z podanych treści, przetwarza nam to HTML-a i dalej możemy łatwiej wyszukiwać zawartości\n",
    "                review_score = self._select_content(soup_child.findAll('div', attrs={\"class\": \"metascore_w\"})) # Ocena liczbowa metacritic\n",
    "                review_content = self._select_content(soup_child.findAll('div', attrs={\"class\": \"review_body\"})) # Zawartość\n",
    "                review_source = self._select_content(soup_child.findAll('div', attrs={\"class\": \"source\"})) # Źródło recenzji, występuje tylko dla expertów\n",
    "                review_name = self._select_content(soup_child.findAll('div', attrs={\"class\": \"name\"})) # Nazwa recenzjenta\n",
    "                review_date = self._select_content(soup_child.findAll('div', attrs={\"class\": \"date\"})) # Data recenzji\n",
    "                review_ups = self._select_content_as_number(soup_child.findAll('span', attrs={\"class\": \"total_ups\"}), int(0)) # Ilość łapek w górę\n",
    "                review_thumbs = self._select_content_as_number(soup_child.findAll('span', attrs={\"class\": \"total_thumbs\"}), int(0)) # Ilość wszystkich łapek, nie dostajemy informacji o łapkach w dół\n",
    "                review_reliabilty = self._select_reliability(review_ups, review_thumbs) # Wiarygodność recenzji\n",
    "\n",
    "                if expert: # Odopwiednie dodawanie zwrotki zależności czy korzystamy z opinii ekspertów czy graczy. Opinie ekspertów nie mogą być np. oceniane przez innych\n",
    "                    response.append({\n",
    "                        'name': trim_content(review_source), \n",
    "                        'date': trim_content(review_date),\n",
    "                        'score': trim_content(review_score), \n",
    "                        'content': trim_content(review_content), \n",
    "                    })\n",
    "                else:\n",
    "                    response.append({\n",
    "                        'name': trim_content(review_name), \n",
    "                        'date': trim_content(review_date),\n",
    "                        'score': trim_content(review_score), \n",
    "                        'content': trim_content(review_content), \n",
    "                        'ups': review_ups, \n",
    "                        'thumbs': review_thumbs, \n",
    "                        'reliability': review_reliabilty\n",
    "                    })\n",
    "\n",
    "        return response # Zwrócenie znalezionych recenzji\n",
    "\n",
    "    def get_reviews(self, title: str, platform: str = 'PC Game') -> list: # Pobieranie recenczji na danej stronie\n",
    "        results = self.search(title, platform) # Wyszukiwanie konkretnych tytułów (patrz na metodę search)\n",
    "\n",
    "        scrapped_critic_review = self.web_scrapping(results['url'], '/critic-reviews', False) # Uruchomienie webscrappingu po znalezionych wynikach tytułów - dla recenzji ekspertów. Nie zawierają paginacji. Informację o paginacji niestety możemy tylko ręcznie sprawdzić na stronie metacritic.\n",
    "        scrapped_user_review = self.web_scrapping(results['url'], '/user-reviews', True) # Uruchomienie webscrappingu po znalezionych wynikach tytułów - dla recenzji graczy. Zawierają paginację. Informację o paginacji niestety możemy tylko ręcznie sprawdzić na stronie metacritic.\n",
    "\n",
    "        critic_reviews = pd.DataFrame(self.find_reviews(scrapped_critic_review, True)) # Zebrane opinie ekspertów w formie dataframe'a\n",
    "        user_reviews = pd.DataFrame(self.find_reviews(scrapped_user_review)) # Zebrane opinie graczy w formie dataframe'a\n",
    "\n",
    "        return [critic_reviews, user_reviews] # Zwraca odpowiedź w formie listy gdzie pierwszy elementr to recenzje krytyków a drugi to recenzje graczy."
   ]
  },
  {
   "cell_type": "markdown",
   "source": [
    "## Wyszukiwanie opinii graczy potrzebnych do dalszej części przetwarzania\n",
    "W kolejnym etapie kodu zapisujemy do odpowiedniej DF-ki opinie graczy. Opinie ekspertów finalnie okazały się zbędne i niepotrzebujemy ich dalej przetwarzać. Wyświetlamy w wynikach cell-ki przykładowego zbioru recenzji."
   ],
   "metadata": {
    "collapsed": false
   }
  },
  {
   "cell_type": "code",
   "execution_count": null,
   "outputs": [],
   "source": [
    "def changeScore(df, columnInput, columnOutput):\n",
    "    df[columnOutput] = np.where(\n",
    "    df[columnInput].astype(int) <= 4 , \"negative\", np.where(\n",
    "    df[columnInput].astype(int) >= 8, \"positive\", \"neutral\"))\n",
    "    return df"
   ],
   "metadata": {
    "collapsed": false,
    "pycharm": {
     "name": "#%%\n"
    }
   }
  },
  {
   "cell_type": "code",
   "execution_count": 23,
   "metadata": {
    "datalore": {
     "hide_input_from_viewers": false,
     "hide_output_from_viewers": false,
     "node_id": "AqQ6e2HHghzQtu0owHCcxa",
     "type": "CODE"
    }
   },
   "outputs": [
    {
     "data": {
      "text/plain": "             name          date score  \\\n0         welling   Dec 6, 2020     5   \n1      beltaniasa  Oct 31, 2020     3   \n2     prasannasai  Sep 26, 2020    10   \n3      marganezz1  Aug 29, 2020     5   \n4    DjBarbarossa  Nov 15, 2020     6   \n..            ...           ...   ...   \n444    Pikoho8642  Jan 19, 2022     1   \n445        Saj10k   Feb 5, 2022     1   \n446      GamerRap   Feb 6, 2022     9   \n447         roten  Apr 30, 2022     0   \n448    spanks_out  May 13, 2022     0   \n\n                                               content  ups  thumbs  \\\n0    Speaking of cut content... didn't they say it ...   58      58   \n1    But since its a remake, I must rate it in comp...   18      19   \n2    This is how you do a remake. I know hangar 13 ...   32      50   \n3    The game is called a remake, but this is just ...   31      66   \n4    The scenario MAF-DE, as in most cases of the e...    9       9   \n..                                                 ...  ...     ...   \n444  How is it possible to have the audacity to rel...    0       0   \n445  One patch for the entire time the game was rel...    0       0   \n446  I never thought that a remake could be so good...    0       0   \n447  this product is not available in your region\\r...    0       0   \n448  This is a slap in the face for Mafia fans out ...    0       0   \n\n     reliability  \n0       1.000000  \n1       0.947368  \n2       0.640000  \n3       0.469697  \n4       1.000000  \n..           ...  \n444    -1.000000  \n445    -1.000000  \n446    -1.000000  \n447    -1.000000  \n448    -1.000000  \n\n[449 rows x 7 columns]",
      "text/html": "<div>\n<style scoped>\n    .dataframe tbody tr th:only-of-type {\n        vertical-align: middle;\n    }\n\n    .dataframe tbody tr th {\n        vertical-align: top;\n    }\n\n    .dataframe thead th {\n        text-align: right;\n    }\n</style>\n<table border=\"1\" class=\"dataframe\">\n  <thead>\n    <tr style=\"text-align: right;\">\n      <th></th>\n      <th>name</th>\n      <th>date</th>\n      <th>score</th>\n      <th>content</th>\n      <th>ups</th>\n      <th>thumbs</th>\n      <th>reliability</th>\n    </tr>\n  </thead>\n  <tbody>\n    <tr>\n      <th>0</th>\n      <td>welling</td>\n      <td>Dec 6, 2020</td>\n      <td>5</td>\n      <td>Speaking of cut content... didn't they say it ...</td>\n      <td>58</td>\n      <td>58</td>\n      <td>1.000000</td>\n    </tr>\n    <tr>\n      <th>1</th>\n      <td>beltaniasa</td>\n      <td>Oct 31, 2020</td>\n      <td>3</td>\n      <td>But since its a remake, I must rate it in comp...</td>\n      <td>18</td>\n      <td>19</td>\n      <td>0.947368</td>\n    </tr>\n    <tr>\n      <th>2</th>\n      <td>prasannasai</td>\n      <td>Sep 26, 2020</td>\n      <td>10</td>\n      <td>This is how you do a remake. I know hangar 13 ...</td>\n      <td>32</td>\n      <td>50</td>\n      <td>0.640000</td>\n    </tr>\n    <tr>\n      <th>3</th>\n      <td>marganezz1</td>\n      <td>Aug 29, 2020</td>\n      <td>5</td>\n      <td>The game is called a remake, but this is just ...</td>\n      <td>31</td>\n      <td>66</td>\n      <td>0.469697</td>\n    </tr>\n    <tr>\n      <th>4</th>\n      <td>DjBarbarossa</td>\n      <td>Nov 15, 2020</td>\n      <td>6</td>\n      <td>The scenario MAF-DE, as in most cases of the e...</td>\n      <td>9</td>\n      <td>9</td>\n      <td>1.000000</td>\n    </tr>\n    <tr>\n      <th>...</th>\n      <td>...</td>\n      <td>...</td>\n      <td>...</td>\n      <td>...</td>\n      <td>...</td>\n      <td>...</td>\n      <td>...</td>\n    </tr>\n    <tr>\n      <th>444</th>\n      <td>Pikoho8642</td>\n      <td>Jan 19, 2022</td>\n      <td>1</td>\n      <td>How is it possible to have the audacity to rel...</td>\n      <td>0</td>\n      <td>0</td>\n      <td>-1.000000</td>\n    </tr>\n    <tr>\n      <th>445</th>\n      <td>Saj10k</td>\n      <td>Feb 5, 2022</td>\n      <td>1</td>\n      <td>One patch for the entire time the game was rel...</td>\n      <td>0</td>\n      <td>0</td>\n      <td>-1.000000</td>\n    </tr>\n    <tr>\n      <th>446</th>\n      <td>GamerRap</td>\n      <td>Feb 6, 2022</td>\n      <td>9</td>\n      <td>I never thought that a remake could be so good...</td>\n      <td>0</td>\n      <td>0</td>\n      <td>-1.000000</td>\n    </tr>\n    <tr>\n      <th>447</th>\n      <td>roten</td>\n      <td>Apr 30, 2022</td>\n      <td>0</td>\n      <td>this product is not available in your region\\r...</td>\n      <td>0</td>\n      <td>0</td>\n      <td>-1.000000</td>\n    </tr>\n    <tr>\n      <th>448</th>\n      <td>spanks_out</td>\n      <td>May 13, 2022</td>\n      <td>0</td>\n      <td>This is a slap in the face for Mafia fans out ...</td>\n      <td>0</td>\n      <td>0</td>\n      <td>-1.000000</td>\n    </tr>\n  </tbody>\n</table>\n<p>449 rows × 7 columns</p>\n</div>"
     },
     "execution_count": 23,
     "metadata": {},
     "output_type": "execute_result"
    }
   ],
   "source": [
    "#Opinie ekspertów\n",
    "#MetacriticData().get_reviews('The Sims 4', 'PC Game')[0]\n",
    "#Opinie userów\n",
    "# df = MetacriticData().get_reviews('Sackboy: A Big Adventure', 'PS5 Game')[1]\n",
    "# df = MetacriticData().get_reviews('Mafia: Definitive Edition', 'PC Game')[1]\n",
    "\n",
    "df_user_review_mafia_definitive_edition_pc = MetacriticData().get_reviews('Mafia: Definitive Edition', 'PC Game')[1]\n",
    "\n",
    "df_user_review_mafia_definitive_edition_pc"
   ]
  },
  {
   "cell_type": "code",
   "execution_count": 29,
   "outputs": [],
   "source": [
    "df_user_review_mafia_definitive_edition_pc = changeScore(df_user_review_mafia_definitive_edition_pc, \"score\", \"desc\")"
   ],
   "metadata": {
    "collapsed": false,
    "pycharm": {
     "name": "#%%\n"
    }
   }
  },
  {
   "cell_type": "code",
   "execution_count": 32,
   "outputs": [
    {
     "data": {
      "text/plain": "<AxesSubplot:xlabel='count', ylabel='desc'>"
     },
     "execution_count": 32,
     "metadata": {},
     "output_type": "execute_result"
    },
    {
     "data": {
      "text/plain": "<Figure size 432x288 with 1 Axes>",
      "image/png": "[encoded data removed]"
     },
     "metadata": {},
     "output_type": "display_data"
    }
   ],
   "source": [
    "import seaborn as sns\n",
    "import matplotlib.pyplot as plt\n",
    "sns.set_style(\"white\")\n",
    "sns.countplot(data = df_user_review_mafia_definitive_edition_pc ,y = 'desc')"
   ],
   "metadata": {
    "collapsed": false,
    "pycharm": {
     "name": "#%%\n"
    }
   }
  },
  {
   "cell_type": "code",
   "execution_count": 26,
   "outputs": [],
   "source": [],
   "metadata": {
    "collapsed": false,
    "pycharm": {
     "name": "#%%\n"
    }
   }
  },
  {
   "cell_type": "code",
   "execution_count": 28,
   "outputs": [],
   "source": [],
   "metadata": {
    "collapsed": false,
    "pycharm": {
     "name": "#%%\n"
    }
   }
  },
  {
   "cell_type": "code",
   "execution_count": 13,
   "outputs": [
    {
     "ename": "ValueError",
     "evalue": "\nHello Friends!\rIt's not worth the $40 money thrown out.\rIt's neutered by Mafia-DE. Scriptically - absolutely pale characters. Circumcised in many places story. In the time of the original, of course, it looked different. Now - it looks and is played as flawed as possible. In the third part there was at least an open city with a game in it. And DE is by playability chapters with tasksHello Friends!\rIt's not worth the $40 money thrown out.\rIt's neutered by Mafia-DE.\rScriptically - absolutely pale characters. Circumcised in many places story. In the time of the original, of course, it looked different.\rNow - it looks and is played as flawed as possible.\rIn the third part there was at least an open city with a game in it. And DE is by playability chapters with tasks on which you just go non-stop.\rIn the \"walking around the city\" everything is closed, you will not be allowed even on the tram for npc and the train station doors are locked which was for playing in the original Mafia.\rFor 2020, as a game - it sucks.\rTrim the original, turning it into a much more boring game. If you want nostalgia - it is better to play the original.\rIt's a DE game of shaming that doesn't cause anything but surprise how much those who did it in general didn't care about the final product and the joys of the players. - Regards.… Expand\n                                  ^\nExpected end of text, found '$'  (at char 34), (line:1, col:35)",
     "output_type": "error",
     "traceback": [
      "\u001B[0;31m---------------------------------------------------------------------------\u001B[0m",
      "\u001B[0;31mParseException\u001B[0m                            Traceback (most recent call last)",
      "File \u001B[0;32m~/Documents/Projekty/Metacritic/venv/lib/python3.9/site-packages/matplotlib/_mathtext.py:2237\u001B[0m, in \u001B[0;36mParser.parse\u001B[0;34m(self, s, fonts_object, fontsize, dpi)\u001B[0m\n\u001B[1;32m   2236\u001B[0m \u001B[38;5;28;01mtry\u001B[39;00m:\n\u001B[0;32m-> 2237\u001B[0m     result \u001B[38;5;241m=\u001B[39m \u001B[38;5;28;43mself\u001B[39;49m\u001B[38;5;241;43m.\u001B[39;49m\u001B[43m_expression\u001B[49m\u001B[38;5;241;43m.\u001B[39;49m\u001B[43mparseString\u001B[49m\u001B[43m(\u001B[49m\u001B[43ms\u001B[49m\u001B[43m)\u001B[49m\n\u001B[1;32m   2238\u001B[0m \u001B[38;5;28;01mexcept\u001B[39;00m ParseBaseException \u001B[38;5;28;01mas\u001B[39;00m err:\n",
      "File \u001B[0;32m~/Documents/Projekty/Metacritic/venv/lib/python3.9/site-packages/pyparsing/core.py:1134\u001B[0m, in \u001B[0;36mParserElement.parse_string\u001B[0;34m(self, instring, parse_all, parseAll)\u001B[0m\n\u001B[1;32m   1132\u001B[0m     \u001B[38;5;28;01melse\u001B[39;00m:\n\u001B[1;32m   1133\u001B[0m         \u001B[38;5;66;03m# catch and re-raise exception from here, clearing out pyparsing internal stack trace\u001B[39;00m\n\u001B[0;32m-> 1134\u001B[0m         \u001B[38;5;28;01mraise\u001B[39;00m exc\u001B[38;5;241m.\u001B[39mwith_traceback(\u001B[38;5;28;01mNone\u001B[39;00m)\n\u001B[1;32m   1135\u001B[0m \u001B[38;5;28;01melse\u001B[39;00m:\n",
      "\u001B[0;31mParseException\u001B[0m: Expected end of text, found '$'  (at char 34), (line:1, col:35)",
      "\nThe above exception was the direct cause of the following exception:\n",
      "\u001B[0;31mValueError\u001B[0m                                Traceback (most recent call last)",
      "File \u001B[0;32m~/Documents/Projekty/Metacritic/venv/lib/python3.9/site-packages/IPython/core/formatters.py:339\u001B[0m, in \u001B[0;36mBaseFormatter.__call__\u001B[0;34m(self, obj)\u001B[0m\n\u001B[1;32m    337\u001B[0m     \u001B[38;5;28;01mpass\u001B[39;00m\n\u001B[1;32m    338\u001B[0m \u001B[38;5;28;01melse\u001B[39;00m:\n\u001B[0;32m--> 339\u001B[0m     \u001B[38;5;28;01mreturn\u001B[39;00m \u001B[43mprinter\u001B[49m\u001B[43m(\u001B[49m\u001B[43mobj\u001B[49m\u001B[43m)\u001B[49m\n\u001B[1;32m    340\u001B[0m \u001B[38;5;66;03m# Finally look for special method names\u001B[39;00m\n\u001B[1;32m    341\u001B[0m method \u001B[38;5;241m=\u001B[39m get_real_method(obj, \u001B[38;5;28mself\u001B[39m\u001B[38;5;241m.\u001B[39mprint_method)\n",
      "File \u001B[0;32m~/Documents/Projekty/Metacritic/venv/lib/python3.9/site-packages/IPython/core/pylabtools.py:151\u001B[0m, in \u001B[0;36mprint_figure\u001B[0;34m(fig, fmt, bbox_inches, base64, **kwargs)\u001B[0m\n\u001B[1;32m    148\u001B[0m     \u001B[38;5;28;01mfrom\u001B[39;00m \u001B[38;5;21;01mmatplotlib\u001B[39;00m\u001B[38;5;21;01m.\u001B[39;00m\u001B[38;5;21;01mbackend_bases\u001B[39;00m \u001B[38;5;28;01mimport\u001B[39;00m FigureCanvasBase\n\u001B[1;32m    149\u001B[0m     FigureCanvasBase(fig)\n\u001B[0;32m--> 151\u001B[0m \u001B[43mfig\u001B[49m\u001B[38;5;241;43m.\u001B[39;49m\u001B[43mcanvas\u001B[49m\u001B[38;5;241;43m.\u001B[39;49m\u001B[43mprint_figure\u001B[49m\u001B[43m(\u001B[49m\u001B[43mbytes_io\u001B[49m\u001B[43m,\u001B[49m\u001B[43m \u001B[49m\u001B[38;5;241;43m*\u001B[39;49m\u001B[38;5;241;43m*\u001B[39;49m\u001B[43mkw\u001B[49m\u001B[43m)\u001B[49m\n\u001B[1;32m    152\u001B[0m data \u001B[38;5;241m=\u001B[39m bytes_io\u001B[38;5;241m.\u001B[39mgetvalue()\n\u001B[1;32m    153\u001B[0m \u001B[38;5;28;01mif\u001B[39;00m fmt \u001B[38;5;241m==\u001B[39m \u001B[38;5;124m'\u001B[39m\u001B[38;5;124msvg\u001B[39m\u001B[38;5;124m'\u001B[39m:\n",
      "File \u001B[0;32m~/Documents/Projekty/Metacritic/venv/lib/python3.9/site-packages/matplotlib/backend_bases.py:2295\u001B[0m, in \u001B[0;36mFigureCanvasBase.print_figure\u001B[0;34m(self, filename, dpi, facecolor, edgecolor, orientation, format, bbox_inches, pad_inches, bbox_extra_artists, backend, **kwargs)\u001B[0m\n\u001B[1;32m   2289\u001B[0m     renderer \u001B[38;5;241m=\u001B[39m _get_renderer(\n\u001B[1;32m   2290\u001B[0m         \u001B[38;5;28mself\u001B[39m\u001B[38;5;241m.\u001B[39mfigure,\n\u001B[1;32m   2291\u001B[0m         functools\u001B[38;5;241m.\u001B[39mpartial(\n\u001B[1;32m   2292\u001B[0m             print_method, orientation\u001B[38;5;241m=\u001B[39morientation)\n\u001B[1;32m   2293\u001B[0m     )\n\u001B[1;32m   2294\u001B[0m     \u001B[38;5;28;01mwith\u001B[39;00m \u001B[38;5;28mgetattr\u001B[39m(renderer, \u001B[38;5;124m\"\u001B[39m\u001B[38;5;124m_draw_disabled\u001B[39m\u001B[38;5;124m\"\u001B[39m, nullcontext)():\n\u001B[0;32m-> 2295\u001B[0m         \u001B[38;5;28;43mself\u001B[39;49m\u001B[38;5;241;43m.\u001B[39;49m\u001B[43mfigure\u001B[49m\u001B[38;5;241;43m.\u001B[39;49m\u001B[43mdraw\u001B[49m\u001B[43m(\u001B[49m\u001B[43mrenderer\u001B[49m\u001B[43m)\u001B[49m\n\u001B[1;32m   2297\u001B[0m \u001B[38;5;28;01mif\u001B[39;00m bbox_inches:\n\u001B[1;32m   2298\u001B[0m     \u001B[38;5;28;01mif\u001B[39;00m bbox_inches \u001B[38;5;241m==\u001B[39m \u001B[38;5;124m\"\u001B[39m\u001B[38;5;124mtight\u001B[39m\u001B[38;5;124m\"\u001B[39m:\n",
      "File \u001B[0;32m~/Documents/Projekty/Metacritic/venv/lib/python3.9/site-packages/matplotlib/artist.py:73\u001B[0m, in \u001B[0;36m_finalize_rasterization.<locals>.draw_wrapper\u001B[0;34m(artist, renderer, *args, **kwargs)\u001B[0m\n\u001B[1;32m     71\u001B[0m \u001B[38;5;129m@wraps\u001B[39m(draw)\n\u001B[1;32m     72\u001B[0m \u001B[38;5;28;01mdef\u001B[39;00m \u001B[38;5;21mdraw_wrapper\u001B[39m(artist, renderer, \u001B[38;5;241m*\u001B[39margs, \u001B[38;5;241m*\u001B[39m\u001B[38;5;241m*\u001B[39mkwargs):\n\u001B[0;32m---> 73\u001B[0m     result \u001B[38;5;241m=\u001B[39m \u001B[43mdraw\u001B[49m\u001B[43m(\u001B[49m\u001B[43martist\u001B[49m\u001B[43m,\u001B[49m\u001B[43m \u001B[49m\u001B[43mrenderer\u001B[49m\u001B[43m,\u001B[49m\u001B[43m \u001B[49m\u001B[38;5;241;43m*\u001B[39;49m\u001B[43margs\u001B[49m\u001B[43m,\u001B[49m\u001B[43m \u001B[49m\u001B[38;5;241;43m*\u001B[39;49m\u001B[38;5;241;43m*\u001B[39;49m\u001B[43mkwargs\u001B[49m\u001B[43m)\u001B[49m\n\u001B[1;32m     74\u001B[0m     \u001B[38;5;28;01mif\u001B[39;00m renderer\u001B[38;5;241m.\u001B[39m_rasterizing:\n\u001B[1;32m     75\u001B[0m         renderer\u001B[38;5;241m.\u001B[39mstop_rasterizing()\n",
      "File \u001B[0;32m~/Documents/Projekty/Metacritic/venv/lib/python3.9/site-packages/matplotlib/artist.py:50\u001B[0m, in \u001B[0;36mallow_rasterization.<locals>.draw_wrapper\u001B[0;34m(artist, renderer)\u001B[0m\n\u001B[1;32m     47\u001B[0m     \u001B[38;5;28;01mif\u001B[39;00m artist\u001B[38;5;241m.\u001B[39mget_agg_filter() \u001B[38;5;129;01mis\u001B[39;00m \u001B[38;5;129;01mnot\u001B[39;00m \u001B[38;5;28;01mNone\u001B[39;00m:\n\u001B[1;32m     48\u001B[0m         renderer\u001B[38;5;241m.\u001B[39mstart_filter()\n\u001B[0;32m---> 50\u001B[0m     \u001B[38;5;28;01mreturn\u001B[39;00m \u001B[43mdraw\u001B[49m\u001B[43m(\u001B[49m\u001B[43martist\u001B[49m\u001B[43m,\u001B[49m\u001B[43m \u001B[49m\u001B[43mrenderer\u001B[49m\u001B[43m)\u001B[49m\n\u001B[1;32m     51\u001B[0m \u001B[38;5;28;01mfinally\u001B[39;00m:\n\u001B[1;32m     52\u001B[0m     \u001B[38;5;28;01mif\u001B[39;00m artist\u001B[38;5;241m.\u001B[39mget_agg_filter() \u001B[38;5;129;01mis\u001B[39;00m \u001B[38;5;129;01mnot\u001B[39;00m \u001B[38;5;28;01mNone\u001B[39;00m:\n",
      "File \u001B[0;32m~/Documents/Projekty/Metacritic/venv/lib/python3.9/site-packages/matplotlib/figure.py:2810\u001B[0m, in \u001B[0;36mFigure.draw\u001B[0;34m(self, renderer)\u001B[0m\n\u001B[1;32m   2807\u001B[0m         \u001B[38;5;66;03m# ValueError can occur when resizing a window.\u001B[39;00m\n\u001B[1;32m   2809\u001B[0m \u001B[38;5;28mself\u001B[39m\u001B[38;5;241m.\u001B[39mpatch\u001B[38;5;241m.\u001B[39mdraw(renderer)\n\u001B[0;32m-> 2810\u001B[0m \u001B[43mmimage\u001B[49m\u001B[38;5;241;43m.\u001B[39;49m\u001B[43m_draw_list_compositing_images\u001B[49m\u001B[43m(\u001B[49m\n\u001B[1;32m   2811\u001B[0m \u001B[43m    \u001B[49m\u001B[43mrenderer\u001B[49m\u001B[43m,\u001B[49m\u001B[43m \u001B[49m\u001B[38;5;28;43mself\u001B[39;49m\u001B[43m,\u001B[49m\u001B[43m \u001B[49m\u001B[43martists\u001B[49m\u001B[43m,\u001B[49m\u001B[43m \u001B[49m\u001B[38;5;28;43mself\u001B[39;49m\u001B[38;5;241;43m.\u001B[39;49m\u001B[43msuppressComposite\u001B[49m\u001B[43m)\u001B[49m\n\u001B[1;32m   2813\u001B[0m \u001B[38;5;28;01mfor\u001B[39;00m sfig \u001B[38;5;129;01min\u001B[39;00m \u001B[38;5;28mself\u001B[39m\u001B[38;5;241m.\u001B[39msubfigs:\n\u001B[1;32m   2814\u001B[0m     sfig\u001B[38;5;241m.\u001B[39mdraw(renderer)\n",
      "File \u001B[0;32m~/Documents/Projekty/Metacritic/venv/lib/python3.9/site-packages/matplotlib/image.py:132\u001B[0m, in \u001B[0;36m_draw_list_compositing_images\u001B[0;34m(renderer, parent, artists, suppress_composite)\u001B[0m\n\u001B[1;32m    130\u001B[0m \u001B[38;5;28;01mif\u001B[39;00m not_composite \u001B[38;5;129;01mor\u001B[39;00m \u001B[38;5;129;01mnot\u001B[39;00m has_images:\n\u001B[1;32m    131\u001B[0m     \u001B[38;5;28;01mfor\u001B[39;00m a \u001B[38;5;129;01min\u001B[39;00m artists:\n\u001B[0;32m--> 132\u001B[0m         \u001B[43ma\u001B[49m\u001B[38;5;241;43m.\u001B[39;49m\u001B[43mdraw\u001B[49m\u001B[43m(\u001B[49m\u001B[43mrenderer\u001B[49m\u001B[43m)\u001B[49m\n\u001B[1;32m    133\u001B[0m \u001B[38;5;28;01melse\u001B[39;00m:\n\u001B[1;32m    134\u001B[0m     \u001B[38;5;66;03m# Composite any adjacent images together\u001B[39;00m\n\u001B[1;32m    135\u001B[0m     image_group \u001B[38;5;241m=\u001B[39m []\n",
      "File \u001B[0;32m~/Documents/Projekty/Metacritic/venv/lib/python3.9/site-packages/matplotlib/artist.py:50\u001B[0m, in \u001B[0;36mallow_rasterization.<locals>.draw_wrapper\u001B[0;34m(artist, renderer)\u001B[0m\n\u001B[1;32m     47\u001B[0m     \u001B[38;5;28;01mif\u001B[39;00m artist\u001B[38;5;241m.\u001B[39mget_agg_filter() \u001B[38;5;129;01mis\u001B[39;00m \u001B[38;5;129;01mnot\u001B[39;00m \u001B[38;5;28;01mNone\u001B[39;00m:\n\u001B[1;32m     48\u001B[0m         renderer\u001B[38;5;241m.\u001B[39mstart_filter()\n\u001B[0;32m---> 50\u001B[0m     \u001B[38;5;28;01mreturn\u001B[39;00m \u001B[43mdraw\u001B[49m\u001B[43m(\u001B[49m\u001B[43martist\u001B[49m\u001B[43m,\u001B[49m\u001B[43m \u001B[49m\u001B[43mrenderer\u001B[49m\u001B[43m)\u001B[49m\n\u001B[1;32m     51\u001B[0m \u001B[38;5;28;01mfinally\u001B[39;00m:\n\u001B[1;32m     52\u001B[0m     \u001B[38;5;28;01mif\u001B[39;00m artist\u001B[38;5;241m.\u001B[39mget_agg_filter() \u001B[38;5;129;01mis\u001B[39;00m \u001B[38;5;129;01mnot\u001B[39;00m \u001B[38;5;28;01mNone\u001B[39;00m:\n",
      "File \u001B[0;32m~/Documents/Projekty/Metacritic/venv/lib/python3.9/site-packages/matplotlib/axes/_base.py:3082\u001B[0m, in \u001B[0;36m_AxesBase.draw\u001B[0;34m(self, renderer)\u001B[0m\n\u001B[1;32m   3079\u001B[0m         a\u001B[38;5;241m.\u001B[39mdraw(renderer)\n\u001B[1;32m   3080\u001B[0m     renderer\u001B[38;5;241m.\u001B[39mstop_rasterizing()\n\u001B[0;32m-> 3082\u001B[0m \u001B[43mmimage\u001B[49m\u001B[38;5;241;43m.\u001B[39;49m\u001B[43m_draw_list_compositing_images\u001B[49m\u001B[43m(\u001B[49m\n\u001B[1;32m   3083\u001B[0m \u001B[43m    \u001B[49m\u001B[43mrenderer\u001B[49m\u001B[43m,\u001B[49m\u001B[43m \u001B[49m\u001B[38;5;28;43mself\u001B[39;49m\u001B[43m,\u001B[49m\u001B[43m \u001B[49m\u001B[43martists\u001B[49m\u001B[43m,\u001B[49m\u001B[43m \u001B[49m\u001B[38;5;28;43mself\u001B[39;49m\u001B[38;5;241;43m.\u001B[39;49m\u001B[43mfigure\u001B[49m\u001B[38;5;241;43m.\u001B[39;49m\u001B[43msuppressComposite\u001B[49m\u001B[43m)\u001B[49m\n\u001B[1;32m   3085\u001B[0m renderer\u001B[38;5;241m.\u001B[39mclose_group(\u001B[38;5;124m'\u001B[39m\u001B[38;5;124maxes\u001B[39m\u001B[38;5;124m'\u001B[39m)\n\u001B[1;32m   3086\u001B[0m \u001B[38;5;28mself\u001B[39m\u001B[38;5;241m.\u001B[39mstale \u001B[38;5;241m=\u001B[39m \u001B[38;5;28;01mFalse\u001B[39;00m\n",
      "File \u001B[0;32m~/Documents/Projekty/Metacritic/venv/lib/python3.9/site-packages/matplotlib/image.py:132\u001B[0m, in \u001B[0;36m_draw_list_compositing_images\u001B[0;34m(renderer, parent, artists, suppress_composite)\u001B[0m\n\u001B[1;32m    130\u001B[0m \u001B[38;5;28;01mif\u001B[39;00m not_composite \u001B[38;5;129;01mor\u001B[39;00m \u001B[38;5;129;01mnot\u001B[39;00m has_images:\n\u001B[1;32m    131\u001B[0m     \u001B[38;5;28;01mfor\u001B[39;00m a \u001B[38;5;129;01min\u001B[39;00m artists:\n\u001B[0;32m--> 132\u001B[0m         \u001B[43ma\u001B[49m\u001B[38;5;241;43m.\u001B[39;49m\u001B[43mdraw\u001B[49m\u001B[43m(\u001B[49m\u001B[43mrenderer\u001B[49m\u001B[43m)\u001B[49m\n\u001B[1;32m    133\u001B[0m \u001B[38;5;28;01melse\u001B[39;00m:\n\u001B[1;32m    134\u001B[0m     \u001B[38;5;66;03m# Composite any adjacent images together\u001B[39;00m\n\u001B[1;32m    135\u001B[0m     image_group \u001B[38;5;241m=\u001B[39m []\n",
      "File \u001B[0;32m~/Documents/Projekty/Metacritic/venv/lib/python3.9/site-packages/matplotlib/artist.py:50\u001B[0m, in \u001B[0;36mallow_rasterization.<locals>.draw_wrapper\u001B[0;34m(artist, renderer)\u001B[0m\n\u001B[1;32m     47\u001B[0m     \u001B[38;5;28;01mif\u001B[39;00m artist\u001B[38;5;241m.\u001B[39mget_agg_filter() \u001B[38;5;129;01mis\u001B[39;00m \u001B[38;5;129;01mnot\u001B[39;00m \u001B[38;5;28;01mNone\u001B[39;00m:\n\u001B[1;32m     48\u001B[0m         renderer\u001B[38;5;241m.\u001B[39mstart_filter()\n\u001B[0;32m---> 50\u001B[0m     \u001B[38;5;28;01mreturn\u001B[39;00m \u001B[43mdraw\u001B[49m\u001B[43m(\u001B[49m\u001B[43martist\u001B[49m\u001B[43m,\u001B[49m\u001B[43m \u001B[49m\u001B[43mrenderer\u001B[49m\u001B[43m)\u001B[49m\n\u001B[1;32m     51\u001B[0m \u001B[38;5;28;01mfinally\u001B[39;00m:\n\u001B[1;32m     52\u001B[0m     \u001B[38;5;28;01mif\u001B[39;00m artist\u001B[38;5;241m.\u001B[39mget_agg_filter() \u001B[38;5;129;01mis\u001B[39;00m \u001B[38;5;129;01mnot\u001B[39;00m \u001B[38;5;28;01mNone\u001B[39;00m:\n",
      "File \u001B[0;32m~/Documents/Projekty/Metacritic/venv/lib/python3.9/site-packages/matplotlib/axis.py:1159\u001B[0m, in \u001B[0;36mAxis.draw\u001B[0;34m(self, renderer, *args, **kwargs)\u001B[0m\n\u001B[1;32m   1156\u001B[0m renderer\u001B[38;5;241m.\u001B[39mopen_group(\u001B[38;5;18m__name__\u001B[39m, gid\u001B[38;5;241m=\u001B[39m\u001B[38;5;28mself\u001B[39m\u001B[38;5;241m.\u001B[39mget_gid())\n\u001B[1;32m   1158\u001B[0m ticks_to_draw \u001B[38;5;241m=\u001B[39m \u001B[38;5;28mself\u001B[39m\u001B[38;5;241m.\u001B[39m_update_ticks()\n\u001B[0;32m-> 1159\u001B[0m ticklabelBoxes, ticklabelBoxes2 \u001B[38;5;241m=\u001B[39m \u001B[38;5;28;43mself\u001B[39;49m\u001B[38;5;241;43m.\u001B[39;49m\u001B[43m_get_tick_bboxes\u001B[49m\u001B[43m(\u001B[49m\u001B[43mticks_to_draw\u001B[49m\u001B[43m,\u001B[49m\n\u001B[1;32m   1160\u001B[0m \u001B[43m                                                        \u001B[49m\u001B[43mrenderer\u001B[49m\u001B[43m)\u001B[49m\n\u001B[1;32m   1162\u001B[0m \u001B[38;5;28;01mfor\u001B[39;00m tick \u001B[38;5;129;01min\u001B[39;00m ticks_to_draw:\n\u001B[1;32m   1163\u001B[0m     tick\u001B[38;5;241m.\u001B[39mdraw(renderer)\n",
      "File \u001B[0;32m~/Documents/Projekty/Metacritic/venv/lib/python3.9/site-packages/matplotlib/axis.py:1085\u001B[0m, in \u001B[0;36mAxis._get_tick_bboxes\u001B[0;34m(self, ticks, renderer)\u001B[0m\n\u001B[1;32m   1083\u001B[0m \u001B[38;5;28;01mdef\u001B[39;00m \u001B[38;5;21m_get_tick_bboxes\u001B[39m(\u001B[38;5;28mself\u001B[39m, ticks, renderer):\n\u001B[1;32m   1084\u001B[0m     \u001B[38;5;124;03m\"\"\"Return lists of bboxes for ticks' label1's and label2's.\"\"\"\u001B[39;00m\n\u001B[0;32m-> 1085\u001B[0m     \u001B[38;5;28;01mreturn\u001B[39;00m ([tick\u001B[38;5;241m.\u001B[39mlabel1\u001B[38;5;241m.\u001B[39mget_window_extent(renderer)\n\u001B[1;32m   1086\u001B[0m              \u001B[38;5;28;01mfor\u001B[39;00m tick \u001B[38;5;129;01min\u001B[39;00m ticks \u001B[38;5;28;01mif\u001B[39;00m tick\u001B[38;5;241m.\u001B[39mlabel1\u001B[38;5;241m.\u001B[39mget_visible()],\n\u001B[1;32m   1087\u001B[0m             [tick\u001B[38;5;241m.\u001B[39mlabel2\u001B[38;5;241m.\u001B[39mget_window_extent(renderer)\n\u001B[1;32m   1088\u001B[0m              \u001B[38;5;28;01mfor\u001B[39;00m tick \u001B[38;5;129;01min\u001B[39;00m ticks \u001B[38;5;28;01mif\u001B[39;00m tick\u001B[38;5;241m.\u001B[39mlabel2\u001B[38;5;241m.\u001B[39mget_visible()])\n",
      "File \u001B[0;32m~/Documents/Projekty/Metacritic/venv/lib/python3.9/site-packages/matplotlib/axis.py:1085\u001B[0m, in \u001B[0;36m<listcomp>\u001B[0;34m(.0)\u001B[0m\n\u001B[1;32m   1083\u001B[0m \u001B[38;5;28;01mdef\u001B[39;00m \u001B[38;5;21m_get_tick_bboxes\u001B[39m(\u001B[38;5;28mself\u001B[39m, ticks, renderer):\n\u001B[1;32m   1084\u001B[0m     \u001B[38;5;124;03m\"\"\"Return lists of bboxes for ticks' label1's and label2's.\"\"\"\u001B[39;00m\n\u001B[0;32m-> 1085\u001B[0m     \u001B[38;5;28;01mreturn\u001B[39;00m ([\u001B[43mtick\u001B[49m\u001B[38;5;241;43m.\u001B[39;49m\u001B[43mlabel1\u001B[49m\u001B[38;5;241;43m.\u001B[39;49m\u001B[43mget_window_extent\u001B[49m\u001B[43m(\u001B[49m\u001B[43mrenderer\u001B[49m\u001B[43m)\u001B[49m\n\u001B[1;32m   1086\u001B[0m              \u001B[38;5;28;01mfor\u001B[39;00m tick \u001B[38;5;129;01min\u001B[39;00m ticks \u001B[38;5;28;01mif\u001B[39;00m tick\u001B[38;5;241m.\u001B[39mlabel1\u001B[38;5;241m.\u001B[39mget_visible()],\n\u001B[1;32m   1087\u001B[0m             [tick\u001B[38;5;241m.\u001B[39mlabel2\u001B[38;5;241m.\u001B[39mget_window_extent(renderer)\n\u001B[1;32m   1088\u001B[0m              \u001B[38;5;28;01mfor\u001B[39;00m tick \u001B[38;5;129;01min\u001B[39;00m ticks \u001B[38;5;28;01mif\u001B[39;00m tick\u001B[38;5;241m.\u001B[39mlabel2\u001B[38;5;241m.\u001B[39mget_visible()])\n",
      "File \u001B[0;32m~/Documents/Projekty/Metacritic/venv/lib/python3.9/site-packages/matplotlib/text.py:910\u001B[0m, in \u001B[0;36mText.get_window_extent\u001B[0;34m(self, renderer, dpi)\u001B[0m\n\u001B[1;32m    907\u001B[0m     \u001B[38;5;28;01mraise\u001B[39;00m \u001B[38;5;167;01mRuntimeError\u001B[39;00m(\u001B[38;5;124m'\u001B[39m\u001B[38;5;124mCannot get window extent w/o renderer\u001B[39m\u001B[38;5;124m'\u001B[39m)\n\u001B[1;32m    909\u001B[0m \u001B[38;5;28;01mwith\u001B[39;00m cbook\u001B[38;5;241m.\u001B[39m_setattr_cm(\u001B[38;5;28mself\u001B[39m\u001B[38;5;241m.\u001B[39mfigure, dpi\u001B[38;5;241m=\u001B[39mdpi):\n\u001B[0;32m--> 910\u001B[0m     bbox, info, descent \u001B[38;5;241m=\u001B[39m \u001B[38;5;28;43mself\u001B[39;49m\u001B[38;5;241;43m.\u001B[39;49m\u001B[43m_get_layout\u001B[49m\u001B[43m(\u001B[49m\u001B[38;5;28;43mself\u001B[39;49m\u001B[38;5;241;43m.\u001B[39;49m\u001B[43m_renderer\u001B[49m\u001B[43m)\u001B[49m\n\u001B[1;32m    911\u001B[0m     x, y \u001B[38;5;241m=\u001B[39m \u001B[38;5;28mself\u001B[39m\u001B[38;5;241m.\u001B[39mget_unitless_position()\n\u001B[1;32m    912\u001B[0m     x, y \u001B[38;5;241m=\u001B[39m \u001B[38;5;28mself\u001B[39m\u001B[38;5;241m.\u001B[39mget_transform()\u001B[38;5;241m.\u001B[39mtransform((x, y))\n",
      "File \u001B[0;32m~/Documents/Projekty/Metacritic/venv/lib/python3.9/site-packages/matplotlib/text.py:317\u001B[0m, in \u001B[0;36mText._get_layout\u001B[0;34m(self, renderer)\u001B[0m\n\u001B[1;32m    315\u001B[0m clean_line, ismath \u001B[38;5;241m=\u001B[39m \u001B[38;5;28mself\u001B[39m\u001B[38;5;241m.\u001B[39m_preprocess_math(line)\n\u001B[1;32m    316\u001B[0m \u001B[38;5;28;01mif\u001B[39;00m clean_line:\n\u001B[0;32m--> 317\u001B[0m     w, h, d \u001B[38;5;241m=\u001B[39m \u001B[43mrenderer\u001B[49m\u001B[38;5;241;43m.\u001B[39;49m\u001B[43mget_text_width_height_descent\u001B[49m\u001B[43m(\u001B[49m\n\u001B[1;32m    318\u001B[0m \u001B[43m        \u001B[49m\u001B[43mclean_line\u001B[49m\u001B[43m,\u001B[49m\u001B[43m \u001B[49m\u001B[38;5;28;43mself\u001B[39;49m\u001B[38;5;241;43m.\u001B[39;49m\u001B[43m_fontproperties\u001B[49m\u001B[43m,\u001B[49m\u001B[43m \u001B[49m\u001B[43mismath\u001B[49m\u001B[38;5;241;43m=\u001B[39;49m\u001B[43mismath\u001B[49m\u001B[43m)\u001B[49m\n\u001B[1;32m    319\u001B[0m \u001B[38;5;28;01melse\u001B[39;00m:\n\u001B[1;32m    320\u001B[0m     w \u001B[38;5;241m=\u001B[39m h \u001B[38;5;241m=\u001B[39m d \u001B[38;5;241m=\u001B[39m \u001B[38;5;241m0\u001B[39m\n",
      "File \u001B[0;32m~/Documents/Projekty/Metacritic/venv/lib/python3.9/site-packages/matplotlib/backends/backend_agg.py:265\u001B[0m, in \u001B[0;36mRendererAgg.get_text_width_height_descent\u001B[0;34m(self, s, prop, ismath)\u001B[0m\n\u001B[1;32m    261\u001B[0m     \u001B[38;5;28;01mreturn\u001B[39;00m w, h, d\n\u001B[1;32m    263\u001B[0m \u001B[38;5;28;01mif\u001B[39;00m ismath:\n\u001B[1;32m    264\u001B[0m     ox, oy, width, height, descent, fonts, used_characters \u001B[38;5;241m=\u001B[39m \\\n\u001B[0;32m--> 265\u001B[0m         \u001B[38;5;28;43mself\u001B[39;49m\u001B[38;5;241;43m.\u001B[39;49m\u001B[43mmathtext_parser\u001B[49m\u001B[38;5;241;43m.\u001B[39;49m\u001B[43mparse\u001B[49m\u001B[43m(\u001B[49m\u001B[43ms\u001B[49m\u001B[43m,\u001B[49m\u001B[43m \u001B[49m\u001B[38;5;28;43mself\u001B[39;49m\u001B[38;5;241;43m.\u001B[39;49m\u001B[43mdpi\u001B[49m\u001B[43m,\u001B[49m\u001B[43m \u001B[49m\u001B[43mprop\u001B[49m\u001B[43m)\u001B[49m\n\u001B[1;32m    266\u001B[0m     \u001B[38;5;28;01mreturn\u001B[39;00m width, height, descent\n\u001B[1;32m    268\u001B[0m flags \u001B[38;5;241m=\u001B[39m get_hinting_flag()\n",
      "File \u001B[0;32m~/Documents/Projekty/Metacritic/venv/lib/python3.9/site-packages/matplotlib/mathtext.py:435\u001B[0m, in \u001B[0;36mMathTextParser.parse\u001B[0;34m(self, s, dpi, prop, _force_standard_ps_fonts)\u001B[0m\n\u001B[1;32m    420\u001B[0m     _api\u001B[38;5;241m.\u001B[39mwarn_deprecated(\n\u001B[1;32m    421\u001B[0m         \u001B[38;5;124m\"\u001B[39m\u001B[38;5;124m3.4\u001B[39m\u001B[38;5;124m\"\u001B[39m,\n\u001B[1;32m    422\u001B[0m         removal\u001B[38;5;241m=\u001B[39m\u001B[38;5;124m\"\u001B[39m\u001B[38;5;124m3.5\u001B[39m\u001B[38;5;124m\"\u001B[39m,\n\u001B[0;32m   (...)\u001B[0m\n\u001B[1;32m    429\u001B[0m         )\n\u001B[1;32m    430\u001B[0m     )\n\u001B[1;32m    432\u001B[0m \u001B[38;5;66;03m# lru_cache can't decorate parse() directly because the ps.useafm and\u001B[39;00m\n\u001B[1;32m    433\u001B[0m \u001B[38;5;66;03m# mathtext.fontset rcParams also affect the parse (e.g. by affecting\u001B[39;00m\n\u001B[1;32m    434\u001B[0m \u001B[38;5;66;03m# the glyph metrics).\u001B[39;00m\n\u001B[0;32m--> 435\u001B[0m \u001B[38;5;28;01mreturn\u001B[39;00m \u001B[38;5;28;43mself\u001B[39;49m\u001B[38;5;241;43m.\u001B[39;49m\u001B[43m_parse_cached\u001B[49m\u001B[43m(\u001B[49m\u001B[43ms\u001B[49m\u001B[43m,\u001B[49m\u001B[43m \u001B[49m\u001B[43mdpi\u001B[49m\u001B[43m,\u001B[49m\u001B[43m \u001B[49m\u001B[43mprop\u001B[49m\u001B[43m,\u001B[49m\u001B[43m \u001B[49m\u001B[43m_force_standard_ps_fonts\u001B[49m\u001B[43m)\u001B[49m\n",
      "File \u001B[0;32m~/Documents/Projekty/Metacritic/venv/lib/python3.9/site-packages/matplotlib/mathtext.py:456\u001B[0m, in \u001B[0;36mMathTextParser._parse_cached\u001B[0;34m(self, s, dpi, prop, force_standard_ps_fonts)\u001B[0m\n\u001B[1;32m    453\u001B[0m \u001B[38;5;28;01mif\u001B[39;00m \u001B[38;5;28mself\u001B[39m\u001B[38;5;241m.\u001B[39m_parser \u001B[38;5;129;01mis\u001B[39;00m \u001B[38;5;28;01mNone\u001B[39;00m:\n\u001B[1;32m    454\u001B[0m     \u001B[38;5;28mself\u001B[39m\u001B[38;5;241m.\u001B[39m\u001B[38;5;18m__class__\u001B[39m\u001B[38;5;241m.\u001B[39m_parser \u001B[38;5;241m=\u001B[39m _mathtext\u001B[38;5;241m.\u001B[39mParser()\n\u001B[0;32m--> 456\u001B[0m box \u001B[38;5;241m=\u001B[39m \u001B[38;5;28;43mself\u001B[39;49m\u001B[38;5;241;43m.\u001B[39;49m\u001B[43m_parser\u001B[49m\u001B[38;5;241;43m.\u001B[39;49m\u001B[43mparse\u001B[49m\u001B[43m(\u001B[49m\u001B[43ms\u001B[49m\u001B[43m,\u001B[49m\u001B[43m \u001B[49m\u001B[43mfont_output\u001B[49m\u001B[43m,\u001B[49m\u001B[43m \u001B[49m\u001B[43mfontsize\u001B[49m\u001B[43m,\u001B[49m\u001B[43m \u001B[49m\u001B[43mdpi\u001B[49m\u001B[43m)\u001B[49m\n\u001B[1;32m    457\u001B[0m font_output\u001B[38;5;241m.\u001B[39mset_canvas_size(box\u001B[38;5;241m.\u001B[39mwidth, box\u001B[38;5;241m.\u001B[39mheight, box\u001B[38;5;241m.\u001B[39mdepth)\n\u001B[1;32m    458\u001B[0m \u001B[38;5;28;01mreturn\u001B[39;00m font_output\u001B[38;5;241m.\u001B[39mget_results(box)\n",
      "File \u001B[0;32m~/Documents/Projekty/Metacritic/venv/lib/python3.9/site-packages/matplotlib/_mathtext.py:2239\u001B[0m, in \u001B[0;36mParser.parse\u001B[0;34m(self, s, fonts_object, fontsize, dpi)\u001B[0m\n\u001B[1;32m   2237\u001B[0m     result \u001B[38;5;241m=\u001B[39m \u001B[38;5;28mself\u001B[39m\u001B[38;5;241m.\u001B[39m_expression\u001B[38;5;241m.\u001B[39mparseString(s)\n\u001B[1;32m   2238\u001B[0m \u001B[38;5;28;01mexcept\u001B[39;00m ParseBaseException \u001B[38;5;28;01mas\u001B[39;00m err:\n\u001B[0;32m-> 2239\u001B[0m     \u001B[38;5;28;01mraise\u001B[39;00m \u001B[38;5;167;01mValueError\u001B[39;00m(\u001B[38;5;124m\"\u001B[39m\u001B[38;5;130;01m\\n\u001B[39;00m\u001B[38;5;124m\"\u001B[39m\u001B[38;5;241m.\u001B[39mjoin([\u001B[38;5;124m\"\u001B[39m\u001B[38;5;124m\"\u001B[39m,\n\u001B[1;32m   2240\u001B[0m                                 err\u001B[38;5;241m.\u001B[39mline,\n\u001B[1;32m   2241\u001B[0m                                 \u001B[38;5;124m\"\u001B[39m\u001B[38;5;124m \u001B[39m\u001B[38;5;124m\"\u001B[39m \u001B[38;5;241m*\u001B[39m (err\u001B[38;5;241m.\u001B[39mcolumn \u001B[38;5;241m-\u001B[39m \u001B[38;5;241m1\u001B[39m) \u001B[38;5;241m+\u001B[39m \u001B[38;5;124m\"\u001B[39m\u001B[38;5;124m^\u001B[39m\u001B[38;5;124m\"\u001B[39m,\n\u001B[1;32m   2242\u001B[0m                                 \u001B[38;5;28mstr\u001B[39m(err)])) \u001B[38;5;28;01mfrom\u001B[39;00m \u001B[38;5;21;01merr\u001B[39;00m\n\u001B[1;32m   2243\u001B[0m \u001B[38;5;28mself\u001B[39m\u001B[38;5;241m.\u001B[39m_state_stack \u001B[38;5;241m=\u001B[39m \u001B[38;5;28;01mNone\u001B[39;00m\n\u001B[1;32m   2244\u001B[0m \u001B[38;5;28mself\u001B[39m\u001B[38;5;241m.\u001B[39m_em_width_cache \u001B[38;5;241m=\u001B[39m {}\n",
      "\u001B[0;31mValueError\u001B[0m: \nHello Friends!\rIt's not worth the $40 money thrown out.\rIt's neutered by Mafia-DE. Scriptically - absolutely pale characters. Circumcised in many places story. In the time of the original, of course, it looked different. Now - it looks and is played as flawed as possible. In the third part there was at least an open city with a game in it. And DE is by playability chapters with tasksHello Friends!\rIt's not worth the $40 money thrown out.\rIt's neutered by Mafia-DE.\rScriptically - absolutely pale characters. Circumcised in many places story. In the time of the original, of course, it looked different.\rNow - it looks and is played as flawed as possible.\rIn the third part there was at least an open city with a game in it. And DE is by playability chapters with tasks on which you just go non-stop.\rIn the \"walking around the city\" everything is closed, you will not be allowed even on the tram for npc and the train station doors are locked which was for playing in the original Mafia.\rFor 2020, as a game - it sucks.\rTrim the original, turning it into a much more boring game. If you want nostalgia - it is better to play the original.\rIt's a DE game of shaming that doesn't cause anything but surprise how much those who did it in general didn't care about the final product and the joys of the players. - Regards.… Expand\n                                  ^\nExpected end of text, found '$'  (at char 34), (line:1, col:35)"
     ]
    },
    {
     "data": {
      "text/plain": "<Figure size 432x288 with 1 Axes>"
     },
     "metadata": {
      "needs_background": "light"
     },
     "output_type": "display_data"
    },
    {
     "ename": "KeyError",
     "evalue": "'score'",
     "output_type": "error",
     "traceback": [
      "\u001B[0;31m---------------------------------------------------------------------------\u001B[0m",
      "\u001B[0;31mKeyError\u001B[0m                                  Traceback (most recent call last)",
      "Input \u001B[0;32mIn [13]\u001B[0m, in \u001B[0;36m<cell line: 5>\u001B[0;34m()\u001B[0m\n\u001B[1;32m      3\u001B[0m fig, ax \u001B[38;5;241m=\u001B[39m plt\u001B[38;5;241m.\u001B[39msubplots()\n\u001B[1;32m      4\u001B[0m fig\u001B[38;5;241m.\u001B[39msuptitle(\u001B[38;5;124m\"\u001B[39m\u001B[38;5;124mdesc\u001B[39m\u001B[38;5;124m\"\u001B[39m, fontsize\u001B[38;5;241m=\u001B[39m\u001B[38;5;241m12\u001B[39m)\n\u001B[0;32m----> 5\u001B[0m \u001B[43mdf_user_review_mafia_definitive_edition_pc\u001B[49m\u001B[43m[\u001B[49m\u001B[38;5;124;43m\"\u001B[39;49m\u001B[38;5;124;43mcontent\u001B[39;49m\u001B[38;5;124;43m\"\u001B[39;49m\u001B[43m]\u001B[49m\u001B[38;5;241;43m.\u001B[39;49m\u001B[43mreset_index\u001B[49m\u001B[43m(\u001B[49m\u001B[43m)\u001B[49m\u001B[38;5;241;43m.\u001B[39;49m\u001B[43mgroupby\u001B[49m\u001B[43m(\u001B[49m\u001B[38;5;124;43m\"\u001B[39;49m\u001B[38;5;124;43mscore\u001B[39;49m\u001B[38;5;124;43m\"\u001B[39;49m\u001B[43m)\u001B[49m\u001B[38;5;241m.\u001B[39mcount()\u001B[38;5;241m.\u001B[39msort_values(by\u001B[38;5;241m=\u001B[39m\n\u001B[1;32m      6\u001B[0m        \u001B[38;5;124m\"\u001B[39m\u001B[38;5;124mindex\u001B[39m\u001B[38;5;124m\"\u001B[39m)\u001B[38;5;241m.\u001B[39mplot(kind\u001B[38;5;241m=\u001B[39m\u001B[38;5;124m\"\u001B[39m\u001B[38;5;124mbarh\u001B[39m\u001B[38;5;124m\"\u001B[39m, legend\u001B[38;5;241m=\u001B[39m\u001B[38;5;28;01mFalse\u001B[39;00m,\n\u001B[1;32m      7\u001B[0m         ax\u001B[38;5;241m=\u001B[39max)\u001B[38;5;241m.\u001B[39mgrid(axis\u001B[38;5;241m=\u001B[39m\u001B[38;5;124m'\u001B[39m\u001B[38;5;124mx\u001B[39m\u001B[38;5;124m'\u001B[39m)\n\u001B[1;32m      8\u001B[0m plt\u001B[38;5;241m.\u001B[39mshow()\n",
      "File \u001B[0;32m~/Documents/Projekty/Metacritic/venv/lib/python3.9/site-packages/pandas/core/frame.py:7706\u001B[0m, in \u001B[0;36mgroupby\u001B[0;34m(self, by, axis, level, as_index, sort, group_keys, squeeze, observed, dropna)\u001B[0m\n\u001B[1;32m   7703\u001B[0m     squeeze \u001B[38;5;241m=\u001B[39m \u001B[38;5;28;01mFalse\u001B[39;00m\n\u001B[1;32m   7705\u001B[0m \u001B[38;5;28;01mif\u001B[39;00m level \u001B[38;5;129;01mis\u001B[39;00m \u001B[38;5;28;01mNone\u001B[39;00m \u001B[38;5;129;01mand\u001B[39;00m by \u001B[38;5;129;01mis\u001B[39;00m \u001B[38;5;28;01mNone\u001B[39;00m:\n\u001B[0;32m-> 7706\u001B[0m     \u001B[38;5;28;01mraise\u001B[39;00m \u001B[38;5;167;01mTypeError\u001B[39;00m(\u001B[38;5;124m\"\u001B[39m\u001B[38;5;124mYou have to supply one of \u001B[39m\u001B[38;5;124m'\u001B[39m\u001B[38;5;124mby\u001B[39m\u001B[38;5;124m'\u001B[39m\u001B[38;5;124m and \u001B[39m\u001B[38;5;124m'\u001B[39m\u001B[38;5;124mlevel\u001B[39m\u001B[38;5;124m'\u001B[39m\u001B[38;5;124m\"\u001B[39m)\n\u001B[1;32m   7707\u001B[0m axis \u001B[38;5;241m=\u001B[39m \u001B[38;5;28mself\u001B[39m\u001B[38;5;241m.\u001B[39m_get_axis_number(axis)\n\u001B[1;32m   7709\u001B[0m \u001B[38;5;66;03m# https://github.com/python/mypy/issues/7642\u001B[39;00m\n\u001B[1;32m   7710\u001B[0m \u001B[38;5;66;03m# error: Argument \"squeeze\" to \"DataFrameGroupBy\" has incompatible type\u001B[39;00m\n\u001B[1;32m   7711\u001B[0m \u001B[38;5;66;03m# \"Union[bool, NoDefault]\"; expected \"bool\"\u001B[39;00m\n",
      "File \u001B[0;32m~/Documents/Projekty/Metacritic/venv/lib/python3.9/site-packages/pandas/core/groupby/groupby.py:882\u001B[0m, in \u001B[0;36mGroupBy.__init__\u001B[0;34m(self, obj, keys, axis, level, grouper, exclusions, selection, as_index, sort, group_keys, squeeze, observed, mutated, dropna)\u001B[0m\n\u001B[1;32m    879\u001B[0m \u001B[38;5;28;01mif\u001B[39;00m grouper \u001B[38;5;129;01mis\u001B[39;00m \u001B[38;5;28;01mNone\u001B[39;00m:\n\u001B[1;32m    880\u001B[0m     \u001B[38;5;28;01mfrom\u001B[39;00m \u001B[38;5;21;01mpandas\u001B[39;00m\u001B[38;5;21;01m.\u001B[39;00m\u001B[38;5;21;01mcore\u001B[39;00m\u001B[38;5;21;01m.\u001B[39;00m\u001B[38;5;21;01mgroupby\u001B[39;00m\u001B[38;5;21;01m.\u001B[39;00m\u001B[38;5;21;01mgrouper\u001B[39;00m \u001B[38;5;28;01mimport\u001B[39;00m get_grouper\n\u001B[0;32m--> 882\u001B[0m     grouper, exclusions, obj \u001B[38;5;241m=\u001B[39m \u001B[43mget_grouper\u001B[49m\u001B[43m(\u001B[49m\n\u001B[1;32m    883\u001B[0m \u001B[43m        \u001B[49m\u001B[43mobj\u001B[49m\u001B[43m,\u001B[49m\n\u001B[1;32m    884\u001B[0m \u001B[43m        \u001B[49m\u001B[43mkeys\u001B[49m\u001B[43m,\u001B[49m\n\u001B[1;32m    885\u001B[0m \u001B[43m        \u001B[49m\u001B[43maxis\u001B[49m\u001B[38;5;241;43m=\u001B[39;49m\u001B[43maxis\u001B[49m\u001B[43m,\u001B[49m\n\u001B[1;32m    886\u001B[0m \u001B[43m        \u001B[49m\u001B[43mlevel\u001B[49m\u001B[38;5;241;43m=\u001B[39;49m\u001B[43mlevel\u001B[49m\u001B[43m,\u001B[49m\n\u001B[1;32m    887\u001B[0m \u001B[43m        \u001B[49m\u001B[43msort\u001B[49m\u001B[38;5;241;43m=\u001B[39;49m\u001B[43msort\u001B[49m\u001B[43m,\u001B[49m\n\u001B[1;32m    888\u001B[0m \u001B[43m        \u001B[49m\u001B[43mobserved\u001B[49m\u001B[38;5;241;43m=\u001B[39;49m\u001B[43mobserved\u001B[49m\u001B[43m,\u001B[49m\n\u001B[1;32m    889\u001B[0m \u001B[43m        \u001B[49m\u001B[43mmutated\u001B[49m\u001B[38;5;241;43m=\u001B[39;49m\u001B[38;5;28;43mself\u001B[39;49m\u001B[38;5;241;43m.\u001B[39;49m\u001B[43mmutated\u001B[49m\u001B[43m,\u001B[49m\n\u001B[1;32m    890\u001B[0m \u001B[43m        \u001B[49m\u001B[43mdropna\u001B[49m\u001B[38;5;241;43m=\u001B[39;49m\u001B[38;5;28;43mself\u001B[39;49m\u001B[38;5;241;43m.\u001B[39;49m\u001B[43mdropna\u001B[49m\u001B[43m,\u001B[49m\n\u001B[1;32m    891\u001B[0m \u001B[43m    \u001B[49m\u001B[43m)\u001B[49m\n\u001B[1;32m    893\u001B[0m \u001B[38;5;28mself\u001B[39m\u001B[38;5;241m.\u001B[39mobj \u001B[38;5;241m=\u001B[39m obj\n\u001B[1;32m    894\u001B[0m \u001B[38;5;28mself\u001B[39m\u001B[38;5;241m.\u001B[39maxis \u001B[38;5;241m=\u001B[39m obj\u001B[38;5;241m.\u001B[39m_get_axis_number(axis)\n",
      "File \u001B[0;32m~/Documents/Projekty/Metacritic/venv/lib/python3.9/site-packages/pandas/core/groupby/grouper.py:882\u001B[0m, in \u001B[0;36mget_grouper\u001B[0;34m(obj, key, axis, level, sort, observed, mutated, validate, dropna)\u001B[0m\n\u001B[1;32m    880\u001B[0m         in_axis, level, gpr \u001B[38;5;241m=\u001B[39m \u001B[38;5;28;01mFalse\u001B[39;00m, gpr, \u001B[38;5;28;01mNone\u001B[39;00m\n\u001B[1;32m    881\u001B[0m     \u001B[38;5;28;01melse\u001B[39;00m:\n\u001B[0;32m--> 882\u001B[0m         \u001B[38;5;28;01mraise\u001B[39;00m \u001B[38;5;167;01mKeyError\u001B[39;00m(gpr)\n\u001B[1;32m    883\u001B[0m \u001B[38;5;28;01melif\u001B[39;00m \u001B[38;5;28misinstance\u001B[39m(gpr, Grouper) \u001B[38;5;129;01mand\u001B[39;00m gpr\u001B[38;5;241m.\u001B[39mkey \u001B[38;5;129;01mis\u001B[39;00m \u001B[38;5;129;01mnot\u001B[39;00m \u001B[38;5;28;01mNone\u001B[39;00m:\n\u001B[1;32m    884\u001B[0m     \u001B[38;5;66;03m# Add key to exclusions\u001B[39;00m\n\u001B[1;32m    885\u001B[0m     exclusions\u001B[38;5;241m.\u001B[39madd(gpr\u001B[38;5;241m.\u001B[39mkey)\n",
      "\u001B[0;31mKeyError\u001B[0m: 'score'"
     ]
    },
    {
     "data": {
      "text/plain": "<Figure size 432x288 with 1 Axes>",
      "image/png": "[encoded data removed]"
     },
     "metadata": {
      "needs_background": "light"
     },
     "output_type": "display_data"
    }
   ],
   "source": [
    "from matplotlib import pyplot as plt\n",
    "\n",
    "fig, ax = plt.subplots()\n",
    "fig.suptitle(\"desc\", fontsize=12)\n",
    "df_user_review_mafia_definitive_edition_pc[\"content\"].reset_index().groupby(\"score\").count().sort_values(by=\n",
    "       \"index\").plot(kind=\"barh\", legend=False,\n",
    "        ax=ax).grid(axis='x')\n",
    "plt.show()"
   ],
   "metadata": {
    "collapsed": false,
    "pycharm": {
     "name": "#%%\n"
    }
   }
  },
  {
   "cell_type": "code",
   "execution_count": 9,
   "outputs": [
    {
     "data": {
      "text/plain": "             name          date score  \\\n0      rumbledore  Sep 24, 2019     0   \n1         budz007  Sep 25, 2019     0   \n2      Gfassina99  Sep 24, 2019     0   \n3      PhillsAcer  Sep 26, 2019     0   \n4        Hangar18  Sep 24, 2019     0   \n...           ...           ...   ...   \n1730  Nilondon777   Nov 3, 2021     6   \n1731    LeiKazama  Oct 27, 2021     0   \n1732      Rnoviok   Dec 4, 2021     1   \n1733       Ferman  Feb 12, 2022     3   \n1734        XBOCT   Mar 4, 2022     0   \n\n                                                content  ups  thumbs  \\\n0     EA Just gives us the same game every year with...   67      67   \n1     I see all these comments saying not to listen ...   50      50   \n2     EA excels at every game manipulating games and...   39      39   \n3     This game hasn't changed since 2017! Just a fe...   32      32   \n4     A shocker!! How can anyone give this game more...   26      26   \n...                                                 ...  ...     ...   \n1730  its game with male and female football with in...    0       0   \n1731  career in fifa for one player - a piece of cod...    0       0   \n1732  The third Fifa I've played and the first in wh...    0       0   \n1733  Games from electronic arts are the worst sport...    0       0   \n1734  Russophobes___________________________________...    0       0   \n\n      reliability  \n0             1.0  \n1             1.0  \n2             1.0  \n3             1.0  \n4             1.0  \n...           ...  \n1730         -1.0  \n1731         -1.0  \n1732         -1.0  \n1733         -1.0  \n1734         -1.0  \n\n[1735 rows x 7 columns]",
      "text/html": "<div>\n<style scoped>\n    .dataframe tbody tr th:only-of-type {\n        vertical-align: middle;\n    }\n\n    .dataframe tbody tr th {\n        vertical-align: top;\n    }\n\n    .dataframe thead th {\n        text-align: right;\n    }\n</style>\n<table border=\"1\" class=\"dataframe\">\n  <thead>\n    <tr style=\"text-align: right;\">\n      <th></th>\n      <th>name</th>\n      <th>date</th>\n      <th>score</th>\n      <th>content</th>\n      <th>ups</th>\n      <th>thumbs</th>\n      <th>reliability</th>\n    </tr>\n  </thead>\n  <tbody>\n    <tr>\n      <th>0</th>\n      <td>rumbledore</td>\n      <td>Sep 24, 2019</td>\n      <td>0</td>\n      <td>EA Just gives us the same game every year with...</td>\n      <td>67</td>\n      <td>67</td>\n      <td>1.0</td>\n    </tr>\n    <tr>\n      <th>1</th>\n      <td>budz007</td>\n      <td>Sep 25, 2019</td>\n      <td>0</td>\n      <td>I see all these comments saying not to listen ...</td>\n      <td>50</td>\n      <td>50</td>\n      <td>1.0</td>\n    </tr>\n    <tr>\n      <th>2</th>\n      <td>Gfassina99</td>\n      <td>Sep 24, 2019</td>\n      <td>0</td>\n      <td>EA excels at every game manipulating games and...</td>\n      <td>39</td>\n      <td>39</td>\n      <td>1.0</td>\n    </tr>\n    <tr>\n      <th>3</th>\n      <td>PhillsAcer</td>\n      <td>Sep 26, 2019</td>\n      <td>0</td>\n      <td>This game hasn't changed since 2017! Just a fe...</td>\n      <td>32</td>\n      <td>32</td>\n      <td>1.0</td>\n    </tr>\n    <tr>\n      <th>4</th>\n      <td>Hangar18</td>\n      <td>Sep 24, 2019</td>\n      <td>0</td>\n      <td>A shocker!! How can anyone give this game more...</td>\n      <td>26</td>\n      <td>26</td>\n      <td>1.0</td>\n    </tr>\n    <tr>\n      <th>...</th>\n      <td>...</td>\n      <td>...</td>\n      <td>...</td>\n      <td>...</td>\n      <td>...</td>\n      <td>...</td>\n      <td>...</td>\n    </tr>\n    <tr>\n      <th>1730</th>\n      <td>Nilondon777</td>\n      <td>Nov 3, 2021</td>\n      <td>6</td>\n      <td>its game with male and female football with in...</td>\n      <td>0</td>\n      <td>0</td>\n      <td>-1.0</td>\n    </tr>\n    <tr>\n      <th>1731</th>\n      <td>LeiKazama</td>\n      <td>Oct 27, 2021</td>\n      <td>0</td>\n      <td>career in fifa for one player - a piece of cod...</td>\n      <td>0</td>\n      <td>0</td>\n      <td>-1.0</td>\n    </tr>\n    <tr>\n      <th>1732</th>\n      <td>Rnoviok</td>\n      <td>Dec 4, 2021</td>\n      <td>1</td>\n      <td>The third Fifa I've played and the first in wh...</td>\n      <td>0</td>\n      <td>0</td>\n      <td>-1.0</td>\n    </tr>\n    <tr>\n      <th>1733</th>\n      <td>Ferman</td>\n      <td>Feb 12, 2022</td>\n      <td>3</td>\n      <td>Games from electronic arts are the worst sport...</td>\n      <td>0</td>\n      <td>0</td>\n      <td>-1.0</td>\n    </tr>\n    <tr>\n      <th>1734</th>\n      <td>XBOCT</td>\n      <td>Mar 4, 2022</td>\n      <td>0</td>\n      <td>Russophobes___________________________________...</td>\n      <td>0</td>\n      <td>0</td>\n      <td>-1.0</td>\n    </tr>\n  </tbody>\n</table>\n<p>1735 rows × 7 columns</p>\n</div>"
     },
     "execution_count": 9,
     "metadata": {},
     "output_type": "execute_result"
    }
   ],
   "source": [
    "df_user_review_Fifa_20 = MetacriticData().get_reviews('FIFA 20', 'PS4 Game')[1]\n",
    "\n",
    "df_user_review_Fifa_20"
   ],
   "metadata": {
    "collapsed": false,
    "pycharm": {
     "name": "#%%\n"
    }
   }
  },
  {
   "cell_type": "code",
   "execution_count": 10,
   "outputs": [
    {
     "data": {
      "text/plain": "                 name          date score  \\\n0     DemaKosharbekov  Jun 19, 2020    10   \n1          brad3ngunn  Jun 14, 2013    10   \n2         Badonkadonk  Jun 15, 2013    10   \n3          jakenelson  Jun 18, 2013    10   \n4             Qishere  Jun 14, 2013    10   \n...               ...           ...   ...   \n2547    asdfmovie5436  Apr 12, 2022    10   \n2548           Fabriz  Apr 20, 2022     0   \n2549            trxxs  Apr 20, 2022    10   \n2550        Emanuekis   May 8, 2022     9   \n2551            drocx  May 22, 2022    10   \n\n                                                content  ups  thumbs  \\\n0     лучшая игра выходившая на ps3 , Если вы не игр...   18      21   \n1     I don't know what I can really say about this ...  313     407   \n2     I wouldn't call this game perfect, but it's pr...   65      85   \n3     I don't think I have ever played a game like t...   29      38   \n4     You should realize right from the beginning, y...   69      92   \n...                                                 ...  ...     ...   \n2547  This is a very good game!)))))))))))))))))))))...    0       0   \n2548  Trovo la trama pessima e stereotipata come poc...    0       0   \n2549  If you don't like this game you have the emoti...    0       0   \n2550   This review contains spoilers, click expand t...    0       0   \n2551  No tengo mucho que decir, pero excelente juego...    0       0   \n\n      reliability  \n0        0.857143  \n1        0.769042  \n2        0.764706  \n3        0.763158  \n4        0.750000  \n...           ...  \n2547    -1.000000  \n2548    -1.000000  \n2549    -1.000000  \n2550    -1.000000  \n2551    -1.000000  \n\n[2552 rows x 7 columns]",
      "text/html": "<div>\n<style scoped>\n    .dataframe tbody tr th:only-of-type {\n        vertical-align: middle;\n    }\n\n    .dataframe tbody tr th {\n        vertical-align: top;\n    }\n\n    .dataframe thead th {\n        text-align: right;\n    }\n</style>\n<table border=\"1\" class=\"dataframe\">\n  <thead>\n    <tr style=\"text-align: right;\">\n      <th></th>\n      <th>name</th>\n      <th>date</th>\n      <th>score</th>\n      <th>content</th>\n      <th>ups</th>\n      <th>thumbs</th>\n      <th>reliability</th>\n    </tr>\n  </thead>\n  <tbody>\n    <tr>\n      <th>0</th>\n      <td>DemaKosharbekov</td>\n      <td>Jun 19, 2020</td>\n      <td>10</td>\n      <td>лучшая игра выходившая на ps3 , Если вы не игр...</td>\n      <td>18</td>\n      <td>21</td>\n      <td>0.857143</td>\n    </tr>\n    <tr>\n      <th>1</th>\n      <td>brad3ngunn</td>\n      <td>Jun 14, 2013</td>\n      <td>10</td>\n      <td>I don't know what I can really say about this ...</td>\n      <td>313</td>\n      <td>407</td>\n      <td>0.769042</td>\n    </tr>\n    <tr>\n      <th>2</th>\n      <td>Badonkadonk</td>\n      <td>Jun 15, 2013</td>\n      <td>10</td>\n      <td>I wouldn't call this game perfect, but it's pr...</td>\n      <td>65</td>\n      <td>85</td>\n      <td>0.764706</td>\n    </tr>\n    <tr>\n      <th>3</th>\n      <td>jakenelson</td>\n      <td>Jun 18, 2013</td>\n      <td>10</td>\n      <td>I don't think I have ever played a game like t...</td>\n      <td>29</td>\n      <td>38</td>\n      <td>0.763158</td>\n    </tr>\n    <tr>\n      <th>4</th>\n      <td>Qishere</td>\n      <td>Jun 14, 2013</td>\n      <td>10</td>\n      <td>You should realize right from the beginning, y...</td>\n      <td>69</td>\n      <td>92</td>\n      <td>0.750000</td>\n    </tr>\n    <tr>\n      <th>...</th>\n      <td>...</td>\n      <td>...</td>\n      <td>...</td>\n      <td>...</td>\n      <td>...</td>\n      <td>...</td>\n      <td>...</td>\n    </tr>\n    <tr>\n      <th>2547</th>\n      <td>asdfmovie5436</td>\n      <td>Apr 12, 2022</td>\n      <td>10</td>\n      <td>This is a very good game!)))))))))))))))))))))...</td>\n      <td>0</td>\n      <td>0</td>\n      <td>-1.000000</td>\n    </tr>\n    <tr>\n      <th>2548</th>\n      <td>Fabriz</td>\n      <td>Apr 20, 2022</td>\n      <td>0</td>\n      <td>Trovo la trama pessima e stereotipata come poc...</td>\n      <td>0</td>\n      <td>0</td>\n      <td>-1.000000</td>\n    </tr>\n    <tr>\n      <th>2549</th>\n      <td>trxxs</td>\n      <td>Apr 20, 2022</td>\n      <td>10</td>\n      <td>If you don't like this game you have the emoti...</td>\n      <td>0</td>\n      <td>0</td>\n      <td>-1.000000</td>\n    </tr>\n    <tr>\n      <th>2550</th>\n      <td>Emanuekis</td>\n      <td>May 8, 2022</td>\n      <td>9</td>\n      <td>This review contains spoilers, click expand t...</td>\n      <td>0</td>\n      <td>0</td>\n      <td>-1.000000</td>\n    </tr>\n    <tr>\n      <th>2551</th>\n      <td>drocx</td>\n      <td>May 22, 2022</td>\n      <td>10</td>\n      <td>No tengo mucho que decir, pero excelente juego...</td>\n      <td>0</td>\n      <td>0</td>\n      <td>-1.000000</td>\n    </tr>\n  </tbody>\n</table>\n<p>2552 rows × 7 columns</p>\n</div>"
     },
     "execution_count": 10,
     "metadata": {},
     "output_type": "execute_result"
    }
   ],
   "source": [
    "df_user_review_The_last_of_us = MetacriticData().get_reviews('The Last of Us', 'PS3 Game')[1]\n",
    "\n",
    "df_user_review_The_last_of_us"
   ],
   "metadata": {
    "collapsed": false,
    "pycharm": {
     "name": "#%%\n"
    }
   }
  },
  {
   "cell_type": "code",
   "execution_count": 67,
   "outputs": [],
   "source": [
    "from nltk.stem.wordnet import WordNetLemmatizer\n",
    "\n",
    "def preprocessing(df):\n",
    "\n",
    "    lemmatizer = nltk.stem.WordNetLemmatizer()\n",
    "    #detect english and chose only english\n",
    "\n",
    "    df['Language'] = df['content'].apply(detect_language)\n",
    "    df = df.loc[df['Language'] == \"en\"]\n",
    "    #set type of opinion\n",
    "    df['desc'] = np.where(\n",
    "    df['score'].astype(int) <= 4 , \"negative\", np.where(\n",
    "    df['score'].astype(int) >= 8, \"positive\", \"neutral\"))\n",
    "    # change text to lower\n",
    "    df[\"text_preprocessing\"] = df[\"content\"].str.lower()\n",
    "    #hadn't to had not\n",
    "    df[\"text_preprocessing\"] = df[\"text_preprocessing\"].apply(lambda x: [contractions.fix(word) for word in x.split()])\n",
    "    df[\"text_preprocessing\"] = [' '.join(map(str, l)) for l in df[\"text_preprocessing\"]]\n",
    "    #remove punctuation\n",
    "    df[\"text_preprocessing\"] = df[\"text_preprocessing\"].apply(lambda x: remove_punctuation(x))\n",
    "    #remove numbers\n",
    "    df[\"text_preprocessing\"] = df[\"text_preprocessing\"].str.replace('\\d+', '')\n",
    "    df[\"text_preprocessing\"] = df[\"text_preprocessing\"].str.replace(r'\\b\\w\\b', '').str.replace(r'\\s+', ' ')\n",
    "    #remove mafia\n",
    "    df[\"text_preprocessing\"] = df[\"text_preprocessing\"].str.replace(\"mafia\", \"game\")\n",
    "    #remove double spaces\n",
    "    df[\"text_preprocessing\"] = df[\"text_preprocessing\"].str.replace(\"\\s\\s+\", \" \")\n",
    "    #remove stopwords\n",
    "    df[\"text_preprocessing\"] = df[\"text_preprocessing\"].apply(lambda x: ' '.join([word for word in x.split() if word.lower() not in ENGLISH_STOP_WORDS]))\n",
    "    #tokenization and lemmatization\n",
    "    df[\"text_preprocessing\"] = df[\"text_preprocessing\"].apply(lambda x: lemmatize_sentence(x, lemmatizer))\n",
    "\n",
    "    df = df.reset_index()\n",
    "\n",
    "    return df"
   ],
   "metadata": {
    "collapsed": false,
    "pycharm": {
     "name": "#%%\n"
    }
   }
  },
  {
   "cell_type": "code",
   "execution_count": 70,
   "outputs": [
    {
     "name": "stderr",
     "output_type": "stream",
     "text": [
      "/var/folders/gt/t4t7vkc10wj1379qplxkdq9h0000gn/T/ipykernel_61392/3130443643.py:11: SettingWithCopyWarning: \n",
      "A value is trying to be set on a copy of a slice from a DataFrame.\n",
      "Try using .loc[row_indexer,col_indexer] = value instead\n",
      "\n",
      "See the caveats in the documentation: https://pandas.pydata.org/pandas-docs/stable/user_guide/indexing.html#returning-a-view-versus-a-copy\n",
      "  df['desc'] = np.where(\n",
      "/var/folders/gt/t4t7vkc10wj1379qplxkdq9h0000gn/T/ipykernel_61392/3130443643.py:15: SettingWithCopyWarning: \n",
      "A value is trying to be set on a copy of a slice from a DataFrame.\n",
      "Try using .loc[row_indexer,col_indexer] = value instead\n",
      "\n",
      "See the caveats in the documentation: https://pandas.pydata.org/pandas-docs/stable/user_guide/indexing.html#returning-a-view-versus-a-copy\n",
      "  df[\"text_preprocessing\"] = df[\"content\"].str.lower()\n",
      "/var/folders/gt/t4t7vkc10wj1379qplxkdq9h0000gn/T/ipykernel_61392/3130443643.py:17: SettingWithCopyWarning: \n",
      "A value is trying to be set on a copy of a slice from a DataFrame.\n",
      "Try using .loc[row_indexer,col_indexer] = value instead\n",
      "\n",
      "See the caveats in the documentation: https://pandas.pydata.org/pandas-docs/stable/user_guide/indexing.html#returning-a-view-versus-a-copy\n",
      "  df[\"text_preprocessing\"] = df[\"text_preprocessing\"].apply(lambda x: [contractions.fix(word) for word in x.split()])\n",
      "/var/folders/gt/t4t7vkc10wj1379qplxkdq9h0000gn/T/ipykernel_61392/3130443643.py:18: SettingWithCopyWarning: \n",
      "A value is trying to be set on a copy of a slice from a DataFrame.\n",
      "Try using .loc[row_indexer,col_indexer] = value instead\n",
      "\n",
      "See the caveats in the documentation: https://pandas.pydata.org/pandas-docs/stable/user_guide/indexing.html#returning-a-view-versus-a-copy\n",
      "  df[\"text_preprocessing\"] = [' '.join(map(str, l)) for l in df[\"text_preprocessing\"]]\n",
      "/var/folders/gt/t4t7vkc10wj1379qplxkdq9h0000gn/T/ipykernel_61392/3130443643.py:20: SettingWithCopyWarning: \n",
      "A value is trying to be set on a copy of a slice from a DataFrame.\n",
      "Try using .loc[row_indexer,col_indexer] = value instead\n",
      "\n",
      "See the caveats in the documentation: https://pandas.pydata.org/pandas-docs/stable/user_guide/indexing.html#returning-a-view-versus-a-copy\n",
      "  df[\"text_preprocessing\"] = df[\"text_preprocessing\"].apply(lambda x: remove_punctuation(x))\n",
      "/var/folders/gt/t4t7vkc10wj1379qplxkdq9h0000gn/T/ipykernel_61392/3130443643.py:22: FutureWarning: The default value of regex will change from True to False in a future version.\n",
      "  df[\"text_preprocessing\"] = df[\"text_preprocessing\"].str.replace('\\d+', '')\n",
      "/var/folders/gt/t4t7vkc10wj1379qplxkdq9h0000gn/T/ipykernel_61392/3130443643.py:22: SettingWithCopyWarning: \n",
      "A value is trying to be set on a copy of a slice from a DataFrame.\n",
      "Try using .loc[row_indexer,col_indexer] = value instead\n",
      "\n",
      "See the caveats in the documentation: https://pandas.pydata.org/pandas-docs/stable/user_guide/indexing.html#returning-a-view-versus-a-copy\n",
      "  df[\"text_preprocessing\"] = df[\"text_preprocessing\"].str.replace('\\d+', '')\n",
      "/var/folders/gt/t4t7vkc10wj1379qplxkdq9h0000gn/T/ipykernel_61392/3130443643.py:23: FutureWarning: The default value of regex will change from True to False in a future version.\n",
      "  df[\"text_preprocessing\"] = df[\"text_preprocessing\"].str.replace(r'\\b\\w\\b', '').str.replace(r'\\s+', ' ')\n",
      "/var/folders/gt/t4t7vkc10wj1379qplxkdq9h0000gn/T/ipykernel_61392/3130443643.py:23: SettingWithCopyWarning: \n",
      "A value is trying to be set on a copy of a slice from a DataFrame.\n",
      "Try using .loc[row_indexer,col_indexer] = value instead\n",
      "\n",
      "See the caveats in the documentation: https://pandas.pydata.org/pandas-docs/stable/user_guide/indexing.html#returning-a-view-versus-a-copy\n",
      "  df[\"text_preprocessing\"] = df[\"text_preprocessing\"].str.replace(r'\\b\\w\\b', '').str.replace(r'\\s+', ' ')\n",
      "/var/folders/gt/t4t7vkc10wj1379qplxkdq9h0000gn/T/ipykernel_61392/3130443643.py:25: SettingWithCopyWarning: \n",
      "A value is trying to be set on a copy of a slice from a DataFrame.\n",
      "Try using .loc[row_indexer,col_indexer] = value instead\n",
      "\n",
      "See the caveats in the documentation: https://pandas.pydata.org/pandas-docs/stable/user_guide/indexing.html#returning-a-view-versus-a-copy\n",
      "  df[\"text_preprocessing\"] = df[\"text_preprocessing\"].str.replace(\"mafia\", \"game\")\n",
      "/var/folders/gt/t4t7vkc10wj1379qplxkdq9h0000gn/T/ipykernel_61392/3130443643.py:27: FutureWarning: The default value of regex will change from True to False in a future version.\n",
      "  df[\"text_preprocessing\"] = df[\"text_preprocessing\"].str.replace(\"\\s\\s+\", \" \")\n",
      "/var/folders/gt/t4t7vkc10wj1379qplxkdq9h0000gn/T/ipykernel_61392/3130443643.py:27: SettingWithCopyWarning: \n",
      "A value is trying to be set on a copy of a slice from a DataFrame.\n",
      "Try using .loc[row_indexer,col_indexer] = value instead\n",
      "\n",
      "See the caveats in the documentation: https://pandas.pydata.org/pandas-docs/stable/user_guide/indexing.html#returning-a-view-versus-a-copy\n",
      "  df[\"text_preprocessing\"] = df[\"text_preprocessing\"].str.replace(\"\\s\\s+\", \" \")\n",
      "/var/folders/gt/t4t7vkc10wj1379qplxkdq9h0000gn/T/ipykernel_61392/3130443643.py:29: SettingWithCopyWarning: \n",
      "A value is trying to be set on a copy of a slice from a DataFrame.\n",
      "Try using .loc[row_indexer,col_indexer] = value instead\n",
      "\n",
      "See the caveats in the documentation: https://pandas.pydata.org/pandas-docs/stable/user_guide/indexing.html#returning-a-view-versus-a-copy\n",
      "  df[\"text_preprocessing\"] = df[\"text_preprocessing\"].apply(lambda x: ' '.join([word for word in x.split() if word.lower() not in ENGLISH_STOP_WORDS]))\n",
      "/var/folders/gt/t4t7vkc10wj1379qplxkdq9h0000gn/T/ipykernel_61392/3130443643.py:31: SettingWithCopyWarning: \n",
      "A value is trying to be set on a copy of a slice from a DataFrame.\n",
      "Try using .loc[row_indexer,col_indexer] = value instead\n",
      "\n",
      "See the caveats in the documentation: https://pandas.pydata.org/pandas-docs/stable/user_guide/indexing.html#returning-a-view-versus-a-copy\n",
      "  df[\"text_preprocessing\"] = df[\"text_preprocessing\"].apply(lambda x: lemmatize_sentence(x, lemmatizer))\n"
     ]
    },
    {
     "data": {
      "text/plain": "     index           name          date score  \\\n0        0        welling   Dec 6, 2020     5   \n1        1     beltaniasa  Oct 31, 2020     3   \n2        2    prasannasai  Sep 26, 2020    10   \n3        3     marganezz1  Aug 29, 2020     5   \n4        4   DjBarbarossa  Nov 15, 2020     6   \n..     ...            ...           ...   ...   \n346    439       Sogwas03   Mar 5, 2022     8   \n347    440     perrypulus  Mar 13, 2022     8   \n348    441    LeviAkerman  Mar 19, 2022     8   \n349    442        enesgfb  Apr 13, 2022    10   \n350    443  marasigan_rld  Apr 16, 2022     8   \n\n                                               content  ups  thumbs  \\\n0    Speaking of cut content... didn't they say it ...   57      57   \n1    But since its a remake, I must rate it in comp...   18      19   \n2    This is how you do a remake. I know hangar 13 ...   32      50   \n3    The game is called a remake, but this is just ...   31      66   \n4    The scenario MAF-DE, as in most cases of the e...    9       9   \n..                                                 ...  ...     ...   \n346  Very good graphically and very alive story, it...    0       0   \n347  The 2nd Mafia game that I played. Even though ...    0       0   \n348  The interface is wonderful. You have so much i...    0       0   \n349  This is a masterpiece.It was perfect from star...    0       0   \n350  Definitely a wayyy better experience than the ...    0       0   \n\n     reliability Language      desc  \\\n0       1.000000       en   neutral   \n1       0.947368       en  negative   \n2       0.640000       en  positive   \n3       0.469697       en   neutral   \n4       1.000000       en   neutral   \n..           ...      ...       ...   \n346    -1.000000       en  positive   \n347    -1.000000       en  positive   \n348    -1.000000       en  positive   \n349    -1.000000       en  positive   \n350    -1.000000       en  positive   \n\n                                    text_preprocessing  \n0    speak cut content do say expand kind new missi...  \n1    remake rate comparsion original game new versi...  \n2    remake know hangar do budget rockstar do best ...  \n3    game call remake just mediocre game base game ...  \n4    scenario mafde case entire game animate cutsce...  \n..                                                 ...  \n346  good graphically alive story sad game linear r...  \n347  nd game game play feature kind small adrenalin...  \n348  interface wonderful information immediately av...  \n349  masterpieceit perfect start finishi finish gam...  \n350  definitely wayyy good experience original game...  \n\n[351 rows x 11 columns]",
      "text/html": "<div>\n<style scoped>\n    .dataframe tbody tr th:only-of-type {\n        vertical-align: middle;\n    }\n\n    .dataframe tbody tr th {\n        vertical-align: top;\n    }\n\n    .dataframe thead th {\n        text-align: right;\n    }\n</style>\n<table border=\"1\" class=\"dataframe\">\n  <thead>\n    <tr style=\"text-align: right;\">\n      <th></th>\n      <th>index</th>\n      <th>name</th>\n      <th>date</th>\n      <th>score</th>\n      <th>content</th>\n      <th>ups</th>\n      <th>thumbs</th>\n      <th>reliability</th>\n      <th>Language</th>\n      <th>desc</th>\n      <th>text_preprocessing</th>\n    </tr>\n  </thead>\n  <tbody>\n    <tr>\n      <th>0</th>\n      <td>0</td>\n      <td>welling</td>\n      <td>Dec 6, 2020</td>\n      <td>5</td>\n      <td>Speaking of cut content... didn't they say it ...</td>\n      <td>57</td>\n      <td>57</td>\n      <td>1.000000</td>\n      <td>en</td>\n      <td>neutral</td>\n      <td>speak cut content do say expand kind new missi...</td>\n    </tr>\n    <tr>\n      <th>1</th>\n      <td>1</td>\n      <td>beltaniasa</td>\n      <td>Oct 31, 2020</td>\n      <td>3</td>\n      <td>But since its a remake, I must rate it in comp...</td>\n      <td>18</td>\n      <td>19</td>\n      <td>0.947368</td>\n      <td>en</td>\n      <td>negative</td>\n      <td>remake rate comparsion original game new versi...</td>\n    </tr>\n    <tr>\n      <th>2</th>\n      <td>2</td>\n      <td>prasannasai</td>\n      <td>Sep 26, 2020</td>\n      <td>10</td>\n      <td>This is how you do a remake. I know hangar 13 ...</td>\n      <td>32</td>\n      <td>50</td>\n      <td>0.640000</td>\n      <td>en</td>\n      <td>positive</td>\n      <td>remake know hangar do budget rockstar do best ...</td>\n    </tr>\n    <tr>\n      <th>3</th>\n      <td>3</td>\n      <td>marganezz1</td>\n      <td>Aug 29, 2020</td>\n      <td>5</td>\n      <td>The game is called a remake, but this is just ...</td>\n      <td>31</td>\n      <td>66</td>\n      <td>0.469697</td>\n      <td>en</td>\n      <td>neutral</td>\n      <td>game call remake just mediocre game base game ...</td>\n    </tr>\n    <tr>\n      <th>4</th>\n      <td>4</td>\n      <td>DjBarbarossa</td>\n      <td>Nov 15, 2020</td>\n      <td>6</td>\n      <td>The scenario MAF-DE, as in most cases of the e...</td>\n      <td>9</td>\n      <td>9</td>\n      <td>1.000000</td>\n      <td>en</td>\n      <td>neutral</td>\n      <td>scenario mafde case entire game animate cutsce...</td>\n    </tr>\n    <tr>\n      <th>...</th>\n      <td>...</td>\n      <td>...</td>\n      <td>...</td>\n      <td>...</td>\n      <td>...</td>\n      <td>...</td>\n      <td>...</td>\n      <td>...</td>\n      <td>...</td>\n      <td>...</td>\n      <td>...</td>\n    </tr>\n    <tr>\n      <th>346</th>\n      <td>439</td>\n      <td>Sogwas03</td>\n      <td>Mar 5, 2022</td>\n      <td>8</td>\n      <td>Very good graphically and very alive story, it...</td>\n      <td>0</td>\n      <td>0</td>\n      <td>-1.000000</td>\n      <td>en</td>\n      <td>positive</td>\n      <td>good graphically alive story sad game linear r...</td>\n    </tr>\n    <tr>\n      <th>347</th>\n      <td>440</td>\n      <td>perrypulus</td>\n      <td>Mar 13, 2022</td>\n      <td>8</td>\n      <td>The 2nd Mafia game that I played. Even though ...</td>\n      <td>0</td>\n      <td>0</td>\n      <td>-1.000000</td>\n      <td>en</td>\n      <td>positive</td>\n      <td>nd game game play feature kind small adrenalin...</td>\n    </tr>\n    <tr>\n      <th>348</th>\n      <td>441</td>\n      <td>LeviAkerman</td>\n      <td>Mar 19, 2022</td>\n      <td>8</td>\n      <td>The interface is wonderful. You have so much i...</td>\n      <td>0</td>\n      <td>0</td>\n      <td>-1.000000</td>\n      <td>en</td>\n      <td>positive</td>\n      <td>interface wonderful information immediately av...</td>\n    </tr>\n    <tr>\n      <th>349</th>\n      <td>442</td>\n      <td>enesgfb</td>\n      <td>Apr 13, 2022</td>\n      <td>10</td>\n      <td>This is a masterpiece.It was perfect from star...</td>\n      <td>0</td>\n      <td>0</td>\n      <td>-1.000000</td>\n      <td>en</td>\n      <td>positive</td>\n      <td>masterpieceit perfect start finishi finish gam...</td>\n    </tr>\n    <tr>\n      <th>350</th>\n      <td>443</td>\n      <td>marasigan_rld</td>\n      <td>Apr 16, 2022</td>\n      <td>8</td>\n      <td>Definitely a wayyy better experience than the ...</td>\n      <td>0</td>\n      <td>0</td>\n      <td>-1.000000</td>\n      <td>en</td>\n      <td>positive</td>\n      <td>definitely wayyy good experience original game...</td>\n    </tr>\n  </tbody>\n</table>\n<p>351 rows × 11 columns</p>\n</div>"
     },
     "execution_count": 70,
     "metadata": {},
     "output_type": "execute_result"
    }
   ],
   "source": [
    "df_user_review_mafia_definitive_edition_pc_preprocessed = preprocessing(df_user_review_mafia_definitive_edition_pc)\n",
    "df_user_review_mafia_definitive_edition_pc_preprocessed"
   ],
   "metadata": {
    "collapsed": false,
    "pycharm": {
     "name": "#%%\n"
    }
   }
  },
  {
   "cell_type": "code",
   "execution_count": 69,
   "outputs": [
    {
     "name": "stdout",
     "output_type": "stream",
     "text": [
      "Word Count Median: 28.0\n",
      "count    351.000000\n",
      "mean      62.948718\n",
      "std       73.064846\n",
      "min        4.000000\n",
      "25%       15.000000\n",
      "50%       28.000000\n",
      "75%       83.000000\n",
      "max      432.000000\n",
      "Name: word_count, dtype: float64\n"
     ]
    },
    {
     "data": {
      "text/plain": "<Figure size 432x288 with 1 Axes>",
      "image/png": "[encoded data removed]"
     },
     "metadata": {
      "needs_background": "light"
     },
     "output_type": "display_data"
    }
   ],
   "source": [
    "#add a column for the word count\n",
    "import matplotlib.pyplot as plt\n",
    "\n",
    "df['word_count'] = df[\"text_preprocessing\"].apply(lambda x: len(str(x).split(\" \")))\n",
    "print(\"Word Count Median: \" + str(df['word_count'].median()))\n",
    "print(df['word_count'].describe())\n",
    "x = df['word_count']\n",
    "n_bins = 95\n",
    "plt.hist(x, bins=n_bins)\n",
    "plt.xlabel('Number of Words in Description')\n",
    "plt.ylabel('Frequency')\n",
    "plt.show()"
   ],
   "metadata": {
    "collapsed": false,
    "pycharm": {
     "name": "#%%\n"
    }
   }
  },
  {
   "cell_type": "code",
   "execution_count": 28,
   "metadata": {
    "datalore": {
     "hide_input_from_viewers": false,
     "hide_output_from_viewers": false,
     "node_id": "kGWYVzTcdmyX3ZHjOhr8mr",
     "type": "CODE"
    }
   },
   "outputs": [
    {
     "data": {
      "text/plain": "<Figure size 432x288 with 1 Axes>",
      "image/png": "[encoded data removed]"
     },
     "metadata": {
      "needs_background": "light"
     },
     "output_type": "display_data"
    }
   ],
   "source": []
  },
  {
   "cell_type": "code",
   "execution_count": 29,
   "metadata": {
    "datalore": {
     "hide_input_from_viewers": false,
     "hide_output_from_viewers": false,
     "node_id": "uYqlvtZ4am3MNgbFzQfFfs",
     "type": "CODE"
    }
   },
   "outputs": [
    {
     "data": {
      "text/plain": "[('game', 1720),\n ('original', 464),\n ('story', 325),\n ('like', 279),\n ('good', 269),\n ('remake', 233),\n ('play', 217),\n ('do', 216),\n ('mission', 215),\n ('just', 200),\n ('expand', 189),\n ('world', 163),\n ('city', 162),\n ('great', 162),\n ('…', 151),\n ('character', 150),\n ('car', 148),\n ('time', 148),\n ('look', 137),\n ('graphic', 136),\n ('really', 135),\n ('train', 129),\n ('free', 129),\n ('bad', 120),\n ('feel', 117),\n ('make', 111),\n ('thing', 100),\n ('drive', 98),\n ('gameplay', 97),\n ('new', 94)]"
     },
     "execution_count": 29,
     "metadata": {},
     "output_type": "execute_result"
    }
   ],
   "source": [
    "#Najczęstsze słowa\n",
    "from collections import Counter\n",
    "cnt = Counter()\n",
    "for text in df[\"text_preprocessing\"].values:\n",
    "    for word in text.split():\n",
    "        cnt[word] += 1\n",
    "        \n",
    "cnt.most_common(30)"
   ]
  },
  {
   "cell_type": "code",
   "execution_count": 98,
   "metadata": {
    "datalore": {
     "hide_input_from_viewers": false,
     "hide_output_from_viewers": false,
     "node_id": "VqWRwoCWofkNhGUve09nLw",
     "type": "CODE"
    }
   },
   "outputs": [
    {
     "name": "stdout",
     "output_type": "stream",
     "text": [
      "          Count Vectorizer\n",
      "game                    14\n",
      "mission                  9\n",
      "way                      5\n",
      "expand                   4\n",
      "baseball                 4\n",
      "train                    4\n",
      "new                      4\n",
      "original                 3\n",
      "car                      3\n",
      "miss                     3\n",
      "content                  3\n",
      "do                       3\n",
      "buy                      2\n",
      "show                     2\n",
      "favour                   2\n",
      "radio                    2\n",
      "free                     2\n",
      "heard                    2\n",
      "dialog                   2\n",
      "omerta                   2\n",
      "remember                 2\n",
      "lucas                    2\n",
      "like                     2\n",
      "kind                     2\n",
      "regard                   2\n"
     ]
    },
    {
     "name": "stderr",
     "output_type": "stream",
     "text": [
      "/Users/ncheba/Documents/Projekty/Metacritic/venv/lib/python3.9/site-packages/sklearn/utils/deprecation.py:87: FutureWarning: Function get_feature_names is deprecated; get_feature_names is deprecated in 1.0 and will be removed in 1.2. Please use get_feature_names_out instead.\n",
      "  warnings.warn(msg, category=FutureWarning)\n",
      "/Users/ncheba/Documents/Projekty/Metacritic/venv/lib/python3.9/site-packages/sklearn/utils/deprecation.py:87: FutureWarning: Function get_feature_names is deprecated; get_feature_names is deprecated in 1.0 and will be removed in 1.2. Please use get_feature_names_out instead.\n",
      "  warnings.warn(msg, category=FutureWarning)\n"
     ]
    },
    {
     "data": {
      "text/plain": "False    279\nTrue      70\nName: acc_count, dtype: int64"
     },
     "execution_count": 98,
     "metadata": {},
     "output_type": "execute_result"
    }
   ],
   "source": [
    "#count vectorizer and Count\n",
    "from sklearn.cluster import MiniBatchKMeans\n",
    "from sklearn.cluster import KMeans\n",
    "from sklearn.feature_extraction.text import CountVectorizer\n",
    "\n",
    "vectorizer = CountVectorizer()\n",
    "X = vectorizer.fit_transform(df[\"text_preprocessing\"]).toarray()\n",
    "pd.DataFrame(X, columns = vectorizer.get_feature_names())\n",
    "\n",
    "counts = pd.DataFrame(X[0].T, index=vectorizer.get_feature_names(), columns=[\"Count Vectorizer\"]).sort_values('Count Vectorizer', ascending=False)\n",
    "print (counts.head(25))\n",
    "\n",
    "clusters = MiniBatchKMeans(n_clusters=3).fit_predict(counts)\n",
    "\n",
    "clustering_model = KMeans(n_clusters=3).fit(counts)\n",
    "cluster_assignment = clustering_model.labels_\n",
    "\n",
    "df['cluster_count']=pd.Series(cluster_assignment)\n",
    "df['cluster_count'] = np.where(\n",
    "df['cluster_count'].astype(int) == 0 , \"negative\", np.where(\n",
    "df['cluster_count'].astype(int) == 1 , \"positive\", \"neutral\"))\n",
    "\n",
    "df['acc_count'] = np.where((df['cluster_count'] ==  df['desc']), True, False)\n",
    "df.acc_count.value_counts()\n",
    "\n"
   ]
  },
  {
   "cell_type": "code",
   "execution_count": 31,
   "outputs": [
    {
     "name": "stdout",
     "output_type": "stream",
     "text": [
      "             TF-IDF\n",
      "mission    0.283208\n",
      "baseball   0.258474\n",
      "game       0.201253\n",
      "way        0.197840\n",
      "favour     0.162198\n",
      "newspaper  0.162198\n",
      "new        0.152952\n",
      "dialog     0.151530\n",
      "omerta     0.151530\n",
      "content    0.148662\n",
      "miss       0.139145\n",
      "heard      0.138090\n",
      "train      0.137311\n",
      "regard     0.129237\n",
      "show       0.122625\n",
      "radio      0.117345\n",
      "cool       0.115056\n",
      "remember   0.112950\n",
      "kind       0.111000\n",
      "important  0.111000\n",
      "car        0.108414\n",
      "lucas      0.107487\n",
      "bertone    0.107487\n",
      "tell       0.097939\n",
      "buy        0.094713\n"
     ]
    },
    {
     "name": "stderr",
     "output_type": "stream",
     "text": [
      "/Users/ncheba/Documents/Projekty/Metacritic/venv/lib/python3.9/site-packages/sklearn/utils/deprecation.py:87: FutureWarning: Function get_feature_names is deprecated; get_feature_names is deprecated in 1.0 and will be removed in 1.2. Please use get_feature_names_out instead.\n",
      "  warnings.warn(msg, category=FutureWarning)\n"
     ]
    }
   ],
   "source": [
    "from sklearn.feature_extraction.text import TfidfVectorizer\n",
    "\n",
    "tfidf = TfidfVectorizer()\n",
    "transformed = tfidf.fit_transform(df[\"text_preprocessing\"]).toarray()\n",
    "\n",
    "d = pd.DataFrame(transformed[0].T, index=tfidf.get_feature_names(), columns=[\"TF-IDF\"]).sort_values('TF-IDF', ascending=False)\n",
    "\n",
    "print (d.head(25))"
   ],
   "metadata": {
    "collapsed": false,
    "pycharm": {
     "name": "#%%\n"
    }
   }
  },
  {
   "cell_type": "code",
   "execution_count": 32,
   "outputs": [
    {
     "name": "stdout",
     "output_type": "stream",
     "text": [
      "Fit 1 clusters\n",
      "Fit 2 clusters\n",
      "Fit 3 clusters\n",
      "Fit 4 clusters\n",
      "Fit 5 clusters\n",
      "Fit 6 clusters\n",
      "Fit 7 clusters\n",
      "Fit 8 clusters\n",
      "Fit 9 clusters\n",
      "Fit 10 clusters\n"
     ]
    },
    {
     "data": {
      "text/plain": "<Figure size 432x288 with 1 Axes>",
      "image/png": "[encoded data removed]"
     },
     "metadata": {
      "needs_background": "light"
     },
     "output_type": "display_data"
    }
   ],
   "source": [
    "from sklearn.cluster import MiniBatchKMeans\n",
    "from sklearn.cluster import KMeans\n",
    "\n",
    "def find_optimal_clusters(data, max_k):\n",
    "    iters = range(1, max_k+1, 1)\n",
    "\n",
    "    sse = []\n",
    "    for k in iters:\n",
    "        sse.append(MiniBatchKMeans(n_clusters=k, init_size=1024, batch_size=2048, random_state=20).fit(data).inertia_)\n",
    "        print('Fit {} clusters'.format(k))\n",
    "\n",
    "    f, ax = plt.subplots(1, 1)\n",
    "    ax.plot(iters, sse, marker='o')\n",
    "    ax.set_xlabel('Cluster Centers')\n",
    "    ax.set_xticks(iters)\n",
    "    ax.set_xticklabels(iters)\n",
    "    ax.set_ylabel('SSE')\n",
    "    ax.set_title('SSE by Cluster Center Plot')\n",
    "\n",
    "find_optimal_clusters(transformed, 10)"
   ],
   "metadata": {
    "collapsed": false,
    "pycharm": {
     "name": "#%%\n"
    }
   }
  },
  {
   "cell_type": "code",
   "execution_count": 92,
   "outputs": [
    {
     "name": "stdout",
     "output_type": "stream",
     "text": [
      "\n",
      "Cluster 0\n",
      "graphic,gameplay,look,great,just,play,thing,time,remake,good,do,car,character,original,story,feel,mission,really,like,game\n",
      "\n",
      "Cluster 1\n",
      "worth,like,voice,act,amaze,love,do,atmosphere,hangar,nice,gameplay,original,graphic,play,best,story,great,remake,good,game\n",
      "\n",
      "Cluster 2\n",
      "ride,do,release,linear,cut,short,tram,dead,plot,freeride,story,city,just,walk,version,world,train,free,original,game\n",
      "\n",
      "Cluster 0\n",
      "addition,release,apparently,moment,product,ride,bought,spoil,do,abandon,original,train,plot,city,streetcar,year,finish,free,dead,game\n",
      "\n",
      "Cluster 1\n",
      "hangar,nice,time,mission,character,just,feel,gameplay,do,best,really,graphic,like,play,original,great,remake,story,good,game\n",
      "\n",
      "Cluster 2\n",
      "open,just,linear,cut,city,ride,player,plot,short,story,walk,freeride,tram,mission,version,train,free,world,original,game\n"
     ]
    },
    {
     "name": "stderr",
     "output_type": "stream",
     "text": [
      "/Users/ncheba/Documents/Projekty/Metacritic/venv/lib/python3.9/site-packages/sklearn/utils/deprecation.py:87: FutureWarning: Function get_feature_names is deprecated; get_feature_names is deprecated in 1.0 and will be removed in 1.2. Please use get_feature_names_out instead.\n",
      "  warnings.warn(msg, category=FutureWarning)\n",
      "/Users/ncheba/Documents/Projekty/Metacritic/venv/lib/python3.9/site-packages/sklearn/utils/deprecation.py:87: FutureWarning: Function get_feature_names is deprecated; get_feature_names is deprecated in 1.0 and will be removed in 1.2. Please use get_feature_names_out instead.\n",
      "  warnings.warn(msg, category=FutureWarning)\n"
     ]
    },
    {
     "data": {
      "text/plain": "False    305\nTrue      44\nName: acc_tdidf, dtype: int64"
     },
     "execution_count": 92,
     "metadata": {},
     "output_type": "execute_result"
    }
   ],
   "source": [
    "\n",
    "clusters = MiniBatchKMeans(n_clusters=3).fit_predict(transformed)\n",
    "\n",
    "clustering_model = KMeans(n_clusters=3).fit(transformed)\n",
    "cluster_assignment = clustering_model.labels_\n",
    "\n",
    "def get_top_keywords(data, clusters, labels, n_terms):\n",
    "    df = pd.DataFrame(data).groupby(clusters).mean()\n",
    "\n",
    "    for i,r in df.iterrows():\n",
    "        print('\\nCluster {}'.format(i))\n",
    "        print(','.join([labels[t] for t in np.argsort(r)[-n_terms:]]))\n",
    "\n",
    "get_top_keywords(transformed, cluster_assignment, tfidf.get_feature_names(), 20)\n",
    "get_top_keywords(transformed, clusters, tfidf.get_feature_names(), 20)\n",
    "df['cluster_TDIDF']=pd.Series(cluster_assignment)\n",
    "df['cluster_TDIDF'] = np.where(\n",
    "df['cluster_TDIDF'].astype(int) == 0 , \"negative\", np.where(\n",
    "df['cluster_TDIDF'].astype(int) == 2 , \"positive\", \"neutral\"))\n",
    "\n",
    "df['acc_tdidf'] = np.where((df['cluster_TDIDF'] ==  df['desc']), True, False)\n",
    "df.acc_tdidf.value_counts()\n",
    "\n"
   ],
   "metadata": {
    "collapsed": false,
    "pycharm": {
     "name": "#%%\n"
    }
   }
  },
  {
   "cell_type": "code",
   "execution_count": 34,
   "outputs": [
    {
     "data": {
      "text/plain": "KMeans(n_clusters=3)"
     },
     "execution_count": 34,
     "metadata": {},
     "output_type": "execute_result"
    }
   ],
   "source": [
    "clustering_model"
   ],
   "metadata": {
    "collapsed": false,
    "pycharm": {
     "name": "#%%\n"
    }
   }
  },
  {
   "cell_type": "code",
   "execution_count": 35,
   "outputs": [
    {
     "data": {
      "text/plain": "array([2, 1, 2, 2, 1, 1, 1, 2, 1, 2, 1, 2, 2, 2, 2, 1, 1, 2, 1, 1, 1, 1,\n       2, 1, 2, 1, 1, 1, 2, 2, 2, 1, 1, 0, 1, 1, 1, 2, 2, 1, 1, 2, 1, 1,\n       2, 1, 1, 2, 1, 2, 2, 1, 1, 1, 2, 1, 1, 1, 1, 1, 1, 1, 2, 1, 1, 1,\n       1, 1, 1, 1, 1, 1, 2, 2, 1, 2, 2, 1, 1, 2, 2, 2, 1, 2, 2, 1, 2, 2,\n       2, 2, 2, 2, 0, 2, 2, 2, 2, 2, 0, 2, 1, 1, 2, 1, 2, 2, 2, 2, 2, 2,\n       2, 2, 0, 2, 2, 2, 0, 2, 2, 2, 1, 1, 1, 2, 0, 0, 2, 2, 2, 1, 2, 2,\n       2, 2, 2, 2, 2, 2, 2, 2, 2, 2, 2, 2, 2, 0, 2, 2, 2, 2, 2, 2, 2, 2,\n       2, 2, 2, 2, 2, 2, 2, 1, 2, 2, 2, 2, 2, 0, 2, 2, 2, 2, 2, 1, 2, 2,\n       2, 2, 0, 2, 2, 2, 2, 2, 2, 2, 2, 2, 2, 2, 2, 2, 1, 1, 2, 1, 1, 2,\n       2, 2, 2, 1, 1, 1, 2, 2, 1, 2, 2, 2, 0, 2, 2, 1, 2, 2, 2, 2, 2, 2,\n       2, 2, 2, 2, 2, 2, 2, 2, 1, 2, 2, 2, 1, 2, 2, 2, 2, 2, 2, 2, 2, 2,\n       2, 2, 2, 2, 2, 2, 2, 2, 2, 2, 2, 2, 2, 2, 2, 1, 1, 2, 2, 2, 2, 1,\n       2, 2, 1, 1, 2, 2, 2, 2, 2, 1, 2, 1, 1, 1, 1, 1, 1, 1, 1, 1, 1, 1,\n       2, 2, 2, 2, 1, 1, 2, 1, 1, 2, 1, 1, 1, 1, 0, 2, 1, 1, 1, 1, 1, 1,\n       2, 2, 2, 1, 2, 1, 2, 2, 1, 0, 1, 2, 1, 2, 1, 1, 1, 1, 1, 2, 2, 2,\n       2, 1, 1, 0, 1, 2, 2, 1, 2, 2, 2, 1, 1, 2, 1, 2, 2, 2, 2],\n      dtype=int32)"
     },
     "execution_count": 35,
     "metadata": {},
     "output_type": "execute_result"
    }
   ],
   "source": [
    "clusters"
   ],
   "metadata": {
    "collapsed": false,
    "pycharm": {
     "name": "#%%\n"
    }
   }
  },
  {
   "cell_type": "code",
   "execution_count": 100,
   "outputs": [],
   "source": [
    "#BERT\n",
    "from sentence_transformers import SentenceTransformer\n",
    "\n",
    "embedder = SentenceTransformer('bert-large-nli-mean-tokens')\n",
    "corpus_embeddings = embedder.encode(df[\"content\"])"
   ],
   "metadata": {
    "collapsed": false,
    "pycharm": {
     "name": "#%%\n"
    }
   }
  },
  {
   "cell_type": "code",
   "execution_count": 78,
   "outputs": [
    {
     "name": "stdout",
     "output_type": "stream",
     "text": [
      "\n",
      "Cluster 0\n",
      "touch,straight,open,freeride,mission,look,product,thing,finish,change,gameplay,definitive,graphic,classic,cut,ruin,plot,make,hangar,year,linear,spoil,good,edition,bad,free,walk,remake,short,stupid,just,release,version,dead,play,do,story,world,original,game\n",
      "\n",
      "Cluster 1\n",
      "edition,want,gameplay,change,linear,way,freeride,mode,thing,make,graphic,drive,shoot,new,plot,feel,bad,ride,really,great,tram,expand,character,time,look,world,remake,free,play,good,car,just,do,city,train,story,mission,like,original,game\n",
      "\n",
      "Cluster 2\n",
      "amazing,think,incredible,quality,city,sound,far,worth,voice,day,masterpiece,beautiful,awesome,act,do,amaze,time,pretty,well,enjoy,job,character,recommend,feel,hangar,atmosphere,like,love,gameplay,original,nice,really,graphic,play,best,story,great,remake,good,game\n"
     ]
    },
    {
     "name": "stderr",
     "output_type": "stream",
     "text": [
      "/Users/ncheba/Documents/Projekty/Metacritic/venv/lib/python3.9/site-packages/sklearn/utils/deprecation.py:87: FutureWarning: Function get_feature_names is deprecated; get_feature_names is deprecated in 1.0 and will be removed in 1.2. Please use get_feature_names_out instead.\n",
      "  warnings.warn(msg, category=FutureWarning)\n"
     ]
    }
   ],
   "source": [
    "#clustering\n",
    "clustering_model = KMeans(n_clusters=3)\n",
    "clustering_model.fit(corpus_embeddings)\n",
    "cluster_assignment = clustering_model.labels_\n",
    "get_top_keywords(transformed, cluster_assignment, tfidf.get_feature_names(), 40)"
   ],
   "metadata": {
    "collapsed": false,
    "pycharm": {
     "name": "#%%\n"
    }
   }
  },
  {
   "cell_type": "code",
   "execution_count": 102,
   "outputs": [
    {
     "name": "stdout",
     "output_type": "stream",
     "text": [
      "Fit 1 clusters\n",
      "Fit 2 clusters\n",
      "Fit 3 clusters\n",
      "Fit 4 clusters\n",
      "Fit 5 clusters\n",
      "Fit 6 clusters\n",
      "Fit 7 clusters\n",
      "Fit 8 clusters\n",
      "Fit 9 clusters\n",
      "Fit 10 clusters\n"
     ]
    },
    {
     "data": {
      "text/plain": "<Figure size 432x288 with 1 Axes>",
      "image/png": "[encoded data removed]"
     },
     "metadata": {
      "needs_background": "light"
     },
     "output_type": "display_data"
    }
   ],
   "source": [
    "find_optimal_clusters(corpus_embeddings, 10)"
   ],
   "metadata": {
    "collapsed": false,
    "pycharm": {
     "name": "#%%\n"
    }
   }
  },
  {
   "cell_type": "code",
   "execution_count": 84,
   "outputs": [
    {
     "data": {
      "text/plain": "True     187\nFalse    162\nName: acc, dtype: int64"
     },
     "execution_count": 84,
     "metadata": {},
     "output_type": "execute_result"
    }
   ],
   "source": [
    "df['cluster_BERT_prec']=pd.Series(cluster_assignment)\n",
    "df['cluster_BERT_prec'] = np.where(\n",
    "df['cluster_BERT_prec'].astype(int) == 0 , \"negative\", np.where(\n",
    "df['cluster_BERT_prec'].astype(int) == 2 , \"positive\", \"neutral\"))\n",
    "\n",
    "df['acc'] = np.where((df['cluster_BERT_prec'] ==  df['desc']), True, False)\n",
    "df.acc.value_counts()\n"
   ],
   "metadata": {
    "collapsed": false,
    "pycharm": {
     "name": "#%%\n"
    }
   }
  },
  {
   "cell_type": "code",
   "execution_count": null,
   "outputs": [],
   "source": [],
   "metadata": {
    "collapsed": false,
    "pycharm": {
     "name": "#%%\n"
    }
   }
  }
 ],
 "metadata": {
  "datalore": {
   "base_environment": "default",
   "computation_mode": "JUPYTER",
   "package_manager": "pip",
   "packages": [
    {
     "name": "bs4",
     "source": "PIP",
     "version": "0.0.1"
    },
    {
     "name": "nltk",
     "source": "PIP",
     "version": "3.7"
    },
    {
     "name": "stopwords",
     "source": "PIP",
     "version": "1.0.0"
    },
    {
     "name": "langdetect",
     "source": "PIP",
     "version": "1.0.9"
    },
    {
     "name": "stop-words",
     "source": "PIP",
     "version": "2018.7.23"
    },
    {
     "name": "contractions",
     "source": "PIP"
    },
    {
     "name": "wordnet",
     "source": "PIP",
     "version": "0.0.1b2"
    },
    {
     "name": "word-tokenizer",
     "source": "PIP",
     "version": "0.0.3"
    },
    {
     "name": "en-core-web-sm",
     "source": "PIP"
    },
    {
     "name": "sentence-transformers",
     "source": "PIP"
    }
   ],
   "version": 1
  },
  "kernelspec": {
   "display_name": "Python 3 (ipykernel)",
   "language": "python",
   "name": "python3"
  },
  "language_info": {
   "codemirror_mode": {
    "name": "ipython",
    "version": 3
   },
   "file_extension": ".py",
   "mimetype": "text/x-python",
   "name": "python",
   "nbconvert_exporter": "python",
   "pygments_lexer": "ipython3",
   "version": "3.9.10"
  }
 },
 "nbformat": 4,
 "nbformat_minor": 4
}